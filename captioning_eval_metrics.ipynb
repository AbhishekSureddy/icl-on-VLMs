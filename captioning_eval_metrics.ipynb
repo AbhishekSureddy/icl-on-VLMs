{
 "cells": [
  {
   "cell_type": "code",
   "execution_count": 1,
   "id": "f27b1641-d17d-497a-89f8-56e7ea5b18d3",
   "metadata": {
    "scrolled": true
   },
   "outputs": [],
   "source": [
    "# !pip install httpx==0.24.0 transformers==4.37.2"
   ]
  },
  {
   "cell_type": "code",
   "execution_count": 2,
   "id": "1da2290e-8f3c-4a06-97ef-e1ea63b3024c",
   "metadata": {
    "scrolled": true
   },
   "outputs": [],
   "source": [
    "# ! pip install aac_metrics"
   ]
  },
  {
   "cell_type": "code",
   "execution_count": 23,
   "id": "efd602b2-deed-43cc-9fb6-9bd9ca9cca49",
   "metadata": {
    "scrolled": true
   },
   "outputs": [],
   "source": [
    "import json\n",
    "import pandas as pd\n",
    "\n",
    "from tqdm import tqdm\n",
    "import sys\n",
    "sys.path.append(\"/home/asureddy_umass_edu/cs682/VILA_codes/llava/eval\")\n",
    "from eval_datasets import CaptionDataset, FlickrCaptioningDataset\n",
    "from aac_metrics.functional import cider_d, bleu_4, rouge_l\n",
    "from aac_metrics.utils.tokenization import preprocess_mono_sents, preprocess_mult_sents\n",
    "\n",
    "\n",
    "def get_captioning_outputs(res_file):\n",
    "    with open(res_file) as f:\n",
    "        data = json.load(f)\n",
    "    \n",
    "    model_outputs = []\n",
    "    for item in data[\"outputs\"]:\n",
    "        model_outputs.append( item)\n",
    "    return model_outputs\n",
    "\n",
    "def get_metrics_captioning(hyps, refs):\n",
    "    hyps = [v.replace('\\n',' ') for v in hyps]\n",
    "    refs = [[rf.replace('\\n',' ') for rf in refss] for refss in refs]\n",
    "\n",
    "    candidates = preprocess_mono_sents(hyps)\n",
    "    mult_references = preprocess_mult_sents(refs)\n",
    "    \n",
    "    cider_scores, _ = cider_d(candidates, mult_references)\n",
    "    bleu_scores, _  = bleu_4(candidates, mult_references)\n",
    "    rouge_scores, _  = rouge_l(candidates, mult_references)\n",
    "    scores = {\n",
    "        'cider_d': cider_scores['cider_d'].item(),\n",
    "        'bleu_4': bleu_scores['bleu_4'].item(),\n",
    "        'rouge_l': rouge_scores['rouge_l'].item()\n",
    "    }\n",
    "    return scores"
   ]
  },
  {
   "cell_type": "markdown",
   "id": "33319f0d-c29f-4cd8-803a-1963193d675b",
   "metadata": {},
   "source": [
    "### For COCO, Flickr"
   ]
  },
  {
   "cell_type": "code",
   "execution_count": 9,
   "id": "c9e6bb57-cdc3-4309-a5fd-045640cfec7c",
   "metadata": {},
   "outputs": [],
   "source": [
    "annotations_path = \"./dataset/annotations/captions_val2017.json\"\n",
    "image_dir_path = \"/scratch/workspace/asureddy_umass_edu-llm_alignment/dataset/val2017\"\n",
    "coco_dataset = CaptionDataset(image_dir_path, annotations_path)\n",
    "\n",
    "img_dir = \"/scratch/workspace/asureddy_umass_edu-llm_alignment/dataset/captioning/flickr8k/Images\"\n",
    "annotations_path = \"/scratch/workspace/asureddy_umass_edu-llm_alignment/dataset/captioning/flickr8k/captions.txt\"\n",
    "flickr_dataset = FlickrCaptioningDataset(img_dir, annotations_path, istrain=False)\n"
   ]
  },
  {
   "cell_type": "code",
   "execution_count": 12,
   "id": "5cdf4d16-cfa5-4148-a554-b2df0b59282a",
   "metadata": {},
   "outputs": [
    {
     "data": {
      "text/plain": [
       "{'image': <PIL.JpegImagePlugin.JpegImageFile image mode=RGB size=640x427>,\n",
       " 'captions': ['A man is in a kitchen making pizzas.',\n",
       "  'Man in apron standing on front of oven with pans and bakeware',\n",
       "  'A baker is working in the kitchen rolling dough.',\n",
       "  'A person standing by a stove in a kitchen.',\n",
       "  'A table with pies being made and a person standing near a wall with pots and pans hanging on the wall.'],\n",
       " 'image_id': 397133}"
      ]
     },
     "execution_count": 12,
     "metadata": {},
     "output_type": "execute_result"
    }
   ],
   "source": [
    "coco_dataset.get_item_with_idx(0)"
   ]
  },
  {
   "cell_type": "code",
   "execution_count": 10,
   "id": "ef696dbd-c443-4e24-90b9-eca165ea03e6",
   "metadata": {},
   "outputs": [
    {
     "data": {
      "text/plain": [
       "{'image': <PIL.JpegImagePlugin.JpegImageFile image mode=RGB size=500x333>,\n",
       " 'caption': 'A black-and-white dog bounds off the ground , all feet in the air , of a yellow field .',\n",
       " 'captions': ['A black-and-white dog bounds off the ground , all feet in the air , of a yellow field .',\n",
       "  'A black and white dog is jumping over high yellow grass .',\n",
       "  'A black and white dog is jumping through a field of brown grass .',\n",
       "  'a dog runs through the dry grass .',\n",
       "  'The black and white dog runs through the field .'],\n",
       " 'image_id': '3139895886_5a6d495b13.jpg'}"
      ]
     },
     "execution_count": 10,
     "metadata": {},
     "output_type": "execute_result"
    }
   ],
   "source": [
    "flickr_dataset[0]"
   ]
  },
  {
   "cell_type": "code",
   "execution_count": 13,
   "id": "b7fe8827-b8f3-4ef4-9f7e-9181f14f79cb",
   "metadata": {},
   "outputs": [],
   "source": [
    "coco_refs = [coco_dataset.get_item_with_idx(i)['captions'] for i in range(len(coco_dataset))]\n",
    "flickr_refs = [flickr_dataset[i]['captions'] for i in range(len(flickr_dataset))]"
   ]
  },
  {
   "cell_type": "code",
   "execution_count": 24,
   "id": "8a32fcc5-4407-46be-892c-a1f6e337b407",
   "metadata": {},
   "outputs": [
    {
     "data": {
      "text/plain": [
       "{'cider_d': 0.27376845031139796,\n",
       " 'bleu_4': 0.10652897272907658,\n",
       " 'rouge_l': 0.3583564963409409}"
      ]
     },
     "execution_count": 24,
     "metadata": {},
     "output_type": "execute_result"
    }
   ],
   "source": [
    "res_file = \"/home/asureddy_umass_edu/cs682/VILA_codes/results/captioning/VILA1.5-3b_0-shot.json\"\n",
    "hyps = get_captioning_outputs(res_file)\n",
    "get_metrics_captioning(hyps, coco_refs)"
   ]
  },
  {
   "cell_type": "code",
   "execution_count": 25,
   "id": "f902da2f-3535-428b-871f-a96ba14b6f7f",
   "metadata": {},
   "outputs": [],
   "source": [
    "def generate_captioning_metrics_csv(res_file_template, n_shots, coco_refs, output_csv_path):\n",
    "    # Initialize a list to store results\n",
    "    results = []\n",
    "\n",
    "    # Iterate through the number of shots and calculate metrics\n",
    "    for n in n_shots:\n",
    "        res_file = res_file_template.format(n_shots=n)\n",
    "        hyps = get_captioning_outputs(res_file)\n",
    "        metrics = get_metrics_captioning(hyps, coco_refs)\n",
    "        metrics['n_shots'] = n\n",
    "        results.append(metrics)\n",
    "\n",
    "    # Create a pandas DataFrame from the results\n",
    "    df = pd.DataFrame(results)\n",
    "\n",
    "    # Save the results to a CSV file\n",
    "    df.to_csv(output_csv_path, index=False)\n",
    "\n",
    "    print(f\"Results saved to {output_csv_path}\")\n"
   ]
  },
  {
   "cell_type": "markdown",
   "id": "9f9d2760-94f8-4632-b4f2-edaccd6e87fd",
   "metadata": {},
   "source": [
    "### Saving results in csv"
   ]
  },
  {
   "cell_type": "code",
   "execution_count": 30,
   "id": "a89a3af4-8d9f-4b8f-8807-88e00a6d82cc",
   "metadata": {},
   "outputs": [],
   "source": [
    "# fixed params\n",
    "n_shots = [0, 2, 4, 8]\n",
    "model_names = [\"VILA1.5-3b\", \"VILA1.5-13b\"]\n",
    "strategy_names = [\"random\", \"rice\"]\n",
    "dataset_names = [\"flickr8k\"]"
   ]
  },
  {
   "cell_type": "code",
   "execution_count": 32,
   "id": "754fee05-2f4b-411a-982b-6300db3a63da",
   "metadata": {},
   "outputs": [
    {
     "name": "stdout",
     "output_type": "stream",
     "text": [
      "Results saved to /home/asureddy_umass_edu/cs682/metrics_results/captioning/flickr8k_VILA1.5-3b_random.csv\n",
      "Results saved to /home/asureddy_umass_edu/cs682/metrics_results/captioning/flickr8k_VILA1.5-3b_rice.csv\n",
      "Results saved to /home/asureddy_umass_edu/cs682/metrics_results/captioning/flickr8k_VILA1.5-13b_random.csv\n",
      "Results saved to /home/asureddy_umass_edu/cs682/metrics_results/captioning/flickr8k_VILA1.5-13b_rice.csv\n"
     ]
    }
   ],
   "source": [
    "# Parameters\n",
    "for dataset_name in dataset_names:\n",
    "    for model_name in model_names:\n",
    "        for strategy in strategy_names:\n",
    "            strategy_str = \"_random-examples\" if strategy==\"random\" else \"\"\n",
    "            if dataset_name==\"coco\":\n",
    "                dataset_str = \"/home/asureddy_umass_edu/cs682/VILA_codes/results/captioning/\"\n",
    "                refs = coco_refs\n",
    "            elif dataset_name==\"flickr8k\":\n",
    "                dataset_str = \"/home/asureddy_umass_edu/cs682/VILA_codes/results/flickr8k_captioning/\"\n",
    "                refs = flickr_refs\n",
    "            res_file_template = dataset_str+str(model_name)+\"_{n_shots}-shot\"+strategy_str+\".json\"\n",
    "            op_path = f\"/home/asureddy_umass_edu/cs682/metrics_results/captioning/{dataset_name}_{model_name}_{strategy}.csv\"\n",
    "            generate_captioning_metrics_csv(res_file_template, n_shots, refs, op_path)\n"
   ]
  },
  {
   "cell_type": "code",
   "execution_count": null,
   "id": "4aeecdce-4acb-4c0d-b8ce-c4e5c53b836c",
   "metadata": {},
   "outputs": [],
   "source": []
  },
  {
   "cell_type": "code",
   "execution_count": null,
   "id": "4a69f331-86eb-45b5-9fcf-f67bbb1f3478",
   "metadata": {},
   "outputs": [],
   "source": []
  },
  {
   "cell_type": "code",
   "execution_count": null,
   "id": "211f7c26-eb0d-4ccc-80a5-1a6fcc309bba",
   "metadata": {},
   "outputs": [],
   "source": []
  },
  {
   "cell_type": "code",
   "execution_count": null,
   "id": "961e1e8a-8994-4193-99c5-268f1de9ac1f",
   "metadata": {},
   "outputs": [],
   "source": []
  },
  {
   "cell_type": "markdown",
   "id": "9e6f0cdc-0cd1-4df9-99a8-2d7d79f1ef31",
   "metadata": {},
   "source": [
    "### Random In-context demonstrations"
   ]
  },
  {
   "cell_type": "code",
   "execution_count": 3,
   "id": "c36c88a9-3fb3-48bd-8648-2a2740737a17",
   "metadata": {},
   "outputs": [
    {
     "name": "stdout",
     "output_type": "stream",
     "text": [
      "Corpus BLEU Score: {'bleu_4': tensor(0.0324, dtype=torch.float64)}\n",
      "Corpus ROUGE Scores: {'rouge_l': tensor(0.2225, dtype=torch.float64)}\n",
      "Corpus Cider Scores: {'cider_d': tensor(0.1288, dtype=torch.float64)}\n"
     ]
    }
   ],
   "source": [
    "res_file = \"/home/asureddy_umass_edu/cs682/flamingo/results/captioning/OpenFlamingo-3B-vitl-mpt1b_0-shot_random-examples.json\"\n",
    "annotations_path = \"../dataset/annotations/captions_val2017.json\"\n",
    "image_dir_path = \"/scratch/workspace/asureddy_umass_edu-llm_alignment/dataset/val2017\"\n",
    "scores = get_metrics_captioning(res_file, annotations_path, image_dir_path)"
   ]
  },
  {
   "cell_type": "code",
   "execution_count": 4,
   "id": "32c41c5d-d5dd-4019-b965-abdc10b2e875",
   "metadata": {},
   "outputs": [
    {
     "data": {
      "text/plain": [
       "{'cider_d': 0.1288488658011192,\n",
       " 'bleu_4': 0.03241325450792217,\n",
       " 'rouge_l': 0.2224781488994907}"
      ]
     },
     "execution_count": 4,
     "metadata": {},
     "output_type": "execute_result"
    }
   ],
   "source": [
    "scores"
   ]
  },
  {
   "cell_type": "code",
   "execution_count": 3,
   "id": "78fcf9a8-037c-471d-913c-64e0026c1f57",
   "metadata": {},
   "outputs": [
    {
     "name": "stdout",
     "output_type": "stream",
     "text": [
      "Corpus BLEU Score: {'bleu_4': tensor(0.0945, dtype=torch.float64)}\n",
      "Corpus ROUGE Scores: {'rouge_l': tensor(0.3238, dtype=torch.float64)}\n",
      "Corpus Cider Scores: {'cider_d': tensor(0.2331, dtype=torch.float64)}\n"
     ]
    }
   ],
   "source": [
    "res_file = \"/home/asureddy_umass_edu/cs682/flamingo/results/captioning/OpenFlamingo-3B-vitl-mpt1b_1-shot_random-examples.json\"\n",
    "annotations_path = \"../dataset/annotations/captions_val2017.json\"\n",
    "image_dir_path = \"/scratch/workspace/asureddy_umass_edu-llm_alignment/dataset/val2017\"\n",
    "get_metrics_captioning(res_file, annotations_path, image_dir_path)"
   ]
  },
  {
   "cell_type": "code",
   "execution_count": 11,
   "id": "6006c14b-9fdb-42a9-a453-9dd842099b6e",
   "metadata": {},
   "outputs": [
    {
     "name": "stdout",
     "output_type": "stream",
     "text": [
      "Corpus BLEU Score: {'bleu_4': tensor(0.1307, dtype=torch.float64)}\n",
      "Corpus ROUGE Scores: {'rouge_l': tensor(0.3844, dtype=torch.float64)}\n",
      "Corpus Cider Scores: {'cider_d': tensor(0.3318, dtype=torch.float64)}\n"
     ]
    }
   ],
   "source": [
    "res_file = \"/home/asureddy_umass_edu/cs682/flamingo/results/captioning/OpenFlamingo-3B-vitl-mpt1b_2-shot_random-examples.json\"\n",
    "annotations_path = \"../dataset/annotations/captions_val2017.json\"\n",
    "image_dir_path = \"/scratch/workspace/asureddy_umass_edu-llm_alignment/dataset/val2017\"\n",
    "get_metrics_captioning(res_file, annotations_path, image_dir_path)"
   ]
  },
  {
   "cell_type": "code",
   "execution_count": 9,
   "id": "f0478c13-daee-4658-8768-a69c256b7fbb",
   "metadata": {},
   "outputs": [
    {
     "name": "stdout",
     "output_type": "stream",
     "text": [
      "Corpus BLEU Score: {'bleu_4': tensor(0.1440, dtype=torch.float64)}\n",
      "Corpus ROUGE Scores: {'rouge_l': tensor(0.3961, dtype=torch.float64)}\n",
      "Corpus Cider Scores: {'cider_d': tensor(0.3558, dtype=torch.float64)}\n"
     ]
    }
   ],
   "source": [
    "res_file = \"/home/asureddy_umass_edu/cs682/flamingo/results/captioning/OpenFlamingo-3B-vitl-mpt1b_4-shot_random-examples.json\"\n",
    "annotations_path = \"../dataset/annotations/captions_val2017.json\"\n",
    "image_dir_path = \"/scratch/workspace/asureddy_umass_edu-llm_alignment/dataset/val2017\"\n",
    "get_metrics_captioning(res_file, annotations_path, image_dir_path)"
   ]
  },
  {
   "cell_type": "code",
   "execution_count": 12,
   "id": "a3c8bd87-4851-452f-a38f-19777348ad82",
   "metadata": {},
   "outputs": [
    {
     "name": "stdout",
     "output_type": "stream",
     "text": [
      "Corpus BLEU Score: {'bleu_4': tensor(0.1539, dtype=torch.float64)}\n",
      "Corpus ROUGE Scores: {'rouge_l': tensor(0.4065, dtype=torch.float64)}\n",
      "Corpus Cider Scores: {'cider_d': tensor(0.3749, dtype=torch.float64)}\n"
     ]
    }
   ],
   "source": [
    "res_file = \"/home/asureddy_umass_edu/cs682/flamingo/results/captioning/OpenFlamingo-3B-vitl-mpt1b_8-shot_random-examples.json\"\n",
    "annotations_path = \"../dataset/annotations/captions_val2017.json\"\n",
    "image_dir_path = \"/scratch/workspace/asureddy_umass_edu-llm_alignment/dataset/val2017\"\n",
    "get_metrics_captioning(res_file, annotations_path, image_dir_path)"
   ]
  },
  {
   "cell_type": "code",
   "execution_count": 5,
   "id": "04f9c9d0-f372-410e-b2dc-4607cb228ea9",
   "metadata": {},
   "outputs": [],
   "source": [
    "# random examples\n",
    "annotations_path = \"../dataset/annotations/captions_val2017.json\"\n",
    "image_dir_path = \"/scratch/workspace/asureddy_umass_edu-llm_alignment/dataset/val2017\"\n",
    "res_prefix = \"/home/asureddy_umass_edu/cs682/flamingo/results/captioning/OpenFlamingo-3B-vitl-mpt1b_\"\n",
    "def make_captioning_results_csv(res_prefix, shots = [0,2,4,8], prefix=\"shot_random-examples.json\"):\n",
    "    results = []\n",
    "    for shot in tqdm(shots):\n",
    "        res_file = f\"{res_prefix}{shot}-{prefix}\"\n",
    "        print(res_file)\n",
    "        res = get_metrics_captioning(res_file, annotations_path, image_dir_path)\n",
    "        res[\"shots\"] = shot\n",
    "        results.append(res)\n",
    "    return results"
   ]
  },
  {
   "cell_type": "code",
   "execution_count": 20,
   "id": "b805d780-4758-4b42-92cb-acaf8d97a874",
   "metadata": {},
   "outputs": [
    {
     "data": {
      "text/plain": [
       "[{'cider_d': 0.1288488658011192,\n",
       "  'bleu_4': 0.03241325450792217,\n",
       "  'rouge_l': 0.2224781488994907,\n",
       "  'shots': 0},\n",
       " {'cider_d': 0.3318401536013735,\n",
       "  'bleu_4': 0.13072228143017525,\n",
       "  'rouge_l': 0.3844033588177514,\n",
       "  'shots': 2},\n",
       " {'cider_d': 0.35578189093092394,\n",
       "  'bleu_4': 0.14402223225927346,\n",
       "  'rouge_l': 0.39609784709364887,\n",
       "  'shots': 4},\n",
       " {'cider_d': 0.3749366642092328,\n",
       "  'bleu_4': 0.15393822428375473,\n",
       "  'rouge_l': 0.40647422579440007,\n",
       "  'shots': 8}]"
      ]
     },
     "execution_count": 20,
     "metadata": {},
     "output_type": "execute_result"
    }
   ],
   "source": [
    "results"
   ]
  },
  {
   "cell_type": "code",
   "execution_count": 22,
   "id": "fa1e9a85-bab0-4279-9c40-b6a90ee62d81",
   "metadata": {},
   "outputs": [],
   "source": [
    "res_df = pd.DataFrame(results)"
   ]
  },
  {
   "cell_type": "code",
   "execution_count": 25,
   "id": "e0d2037f-9663-44e2-bf7a-4a0ebf1709ee",
   "metadata": {},
   "outputs": [],
   "source": [
    "res_df.to_csv(res_prefix+\"random.csv\",index=False)"
   ]
  },
  {
   "cell_type": "code",
   "execution_count": 8,
   "id": "2cb8072f-14c3-4e0f-9221-638a185b25d1",
   "metadata": {},
   "outputs": [
    {
     "name": "stderr",
     "output_type": "stream",
     "text": [
      "  0%|                                                                                                                                                                                 | 0/4 [00:00<?, ?it/s]"
     ]
    },
    {
     "name": "stdout",
     "output_type": "stream",
     "text": [
      "/home/asureddy_umass_edu/cs682/VILA/results/captioning_detailed/VILA1.5-13b_0-shot_random-examples.json\n"
     ]
    },
    {
     "name": "stderr",
     "output_type": "stream",
     "text": [
      " 25%|██████████████████████████████████████████▎                                                                                                                              | 1/4 [00:01<00:03,  1.28s/it]"
     ]
    },
    {
     "name": "stdout",
     "output_type": "stream",
     "text": [
      "Corpus BLEU Score: {'bleu_4': tensor(0.2424, dtype=torch.float64)}\n",
      "Corpus ROUGE Scores: {'rouge_l': tensor(0.5209, dtype=torch.float64)}\n",
      "Corpus Cider Scores: {'cider_d': tensor(0.9726, dtype=torch.float64)}\n",
      "/home/asureddy_umass_edu/cs682/VILA/results/captioning_detailed/VILA1.5-13b_2-shot_random-examples.json\n"
     ]
    },
    {
     "name": "stderr",
     "output_type": "stream",
     "text": [
      " 50%|████████████████████████████████████████████████████████████████████████████████████▌                                                                                    | 2/4 [00:02<00:02,  1.12s/it]"
     ]
    },
    {
     "name": "stdout",
     "output_type": "stream",
     "text": [
      "Corpus BLEU Score: {'bleu_4': tensor(0.2714, dtype=torch.float64)}\n",
      "Corpus ROUGE Scores: {'rouge_l': tensor(0.5483, dtype=torch.float64)}\n",
      "Corpus Cider Scores: {'cider_d': tensor(1.1383, dtype=torch.float64)}\n",
      "/home/asureddy_umass_edu/cs682/VILA/results/captioning_detailed/VILA1.5-13b_4-shot_random-examples.json\n"
     ]
    },
    {
     "name": "stderr",
     "output_type": "stream",
     "text": [
      " 75%|██████████████████████████████████████████████████████████████████████████████████████████████████████████████████████████████▊                                          | 3/4 [00:03<00:01,  1.06s/it]"
     ]
    },
    {
     "name": "stdout",
     "output_type": "stream",
     "text": [
      "Corpus BLEU Score: {'bleu_4': tensor(0.3424, dtype=torch.float64)}\n",
      "Corpus ROUGE Scores: {'rouge_l': tensor(0.5656, dtype=torch.float64)}\n",
      "Corpus Cider Scores: {'cider_d': tensor(1.2858, dtype=torch.float64)}\n",
      "/home/asureddy_umass_edu/cs682/VILA/results/captioning_detailed/VILA1.5-13b_8-shot_random-examples.json\n"
     ]
    },
    {
     "name": "stderr",
     "output_type": "stream",
     "text": [
      "100%|█████████████████████████████████████████████████████████████████████████████████████████████████████████████████████████████████████████████████████████████████████████| 4/4 [00:04<00:00,  1.07s/it]"
     ]
    },
    {
     "name": "stdout",
     "output_type": "stream",
     "text": [
      "Corpus BLEU Score: {'bleu_4': tensor(0.3146, dtype=torch.float64)}\n",
      "Corpus ROUGE Scores: {'rouge_l': tensor(0.5678, dtype=torch.float64)}\n",
      "Corpus Cider Scores: {'cider_d': tensor(1.2519, dtype=torch.float64)}\n"
     ]
    },
    {
     "name": "stderr",
     "output_type": "stream",
     "text": [
      "\n"
     ]
    }
   ],
   "source": [
    "res_prefix = \"/home/asureddy_umass_edu/cs682/VILA/results/captioning_detailed/VILA1.5-13b_\"\n",
    "results_vila = make_captioning_results_csv(res_prefix, shots = [0,2,4,8], prefix=\"shot_random-examples.json\")"
   ]
  },
  {
   "cell_type": "code",
   "execution_count": 7,
   "id": "a0e7f59f-160c-4904-bba7-406e02814120",
   "metadata": {},
   "outputs": [
    {
     "name": "stderr",
     "output_type": "stream",
     "text": [
      "  0%|                                                                                                                                                                                 | 0/4 [00:00<?, ?it/s]"
     ]
    },
    {
     "name": "stdout",
     "output_type": "stream",
     "text": [
      "/home/asureddy_umass_edu/cs682/VILA/results/captioning/VILA1.5-13b_0-shot.json\n"
     ]
    },
    {
     "name": "stderr",
     "output_type": "stream",
     "text": [
      " 25%|██████████████████████████████████████████▎                                                                                                                              | 1/4 [00:01<00:03,  1.21s/it]"
     ]
    },
    {
     "name": "stdout",
     "output_type": "stream",
     "text": [
      "Corpus BLEU Score: {'bleu_4': tensor(0.2422, dtype=torch.float64)}\n",
      "Corpus ROUGE Scores: {'rouge_l': tensor(0.5221, dtype=torch.float64)}\n",
      "Corpus Cider Scores: {'cider_d': tensor(0.9784, dtype=torch.float64)}\n",
      "/home/asureddy_umass_edu/cs682/VILA/results/captioning/VILA1.5-13b_2-shot.json\n"
     ]
    },
    {
     "name": "stderr",
     "output_type": "stream",
     "text": [
      " 50%|████████████████████████████████████████████████████████████████████████████████████▌                                                                                    | 2/4 [00:02<00:02,  1.07s/it]"
     ]
    },
    {
     "name": "stdout",
     "output_type": "stream",
     "text": [
      "Corpus BLEU Score: {'bleu_4': tensor(0.2905, dtype=torch.float64)}\n",
      "Corpus ROUGE Scores: {'rouge_l': tensor(0.5438, dtype=torch.float64)}\n",
      "Corpus Cider Scores: {'cider_d': tensor(1.1470, dtype=torch.float64)}\n",
      "/home/asureddy_umass_edu/cs682/VILA/results/captioning/VILA1.5-13b_4-shot.json\n"
     ]
    },
    {
     "name": "stderr",
     "output_type": "stream",
     "text": [
      " 75%|██████████████████████████████████████████████████████████████████████████████████████████████████████████████████████████████▊                                          | 3/4 [00:03<00:01,  1.05s/it]"
     ]
    },
    {
     "name": "stdout",
     "output_type": "stream",
     "text": [
      "Corpus BLEU Score: {'bleu_4': tensor(0.2852, dtype=torch.float64)}\n",
      "Corpus ROUGE Scores: {'rouge_l': tensor(0.5404, dtype=torch.float64)}\n",
      "Corpus Cider Scores: {'cider_d': tensor(1.2289, dtype=torch.float64)}\n",
      "/home/asureddy_umass_edu/cs682/VILA/results/captioning/VILA1.5-13b_8-shot.json\n"
     ]
    },
    {
     "name": "stderr",
     "output_type": "stream",
     "text": [
      "100%|█████████████████████████████████████████████████████████████████████████████████████████████████████████████████████████████████████████████████████████████████████████| 4/4 [00:04<00:00,  1.04s/it]"
     ]
    },
    {
     "name": "stdout",
     "output_type": "stream",
     "text": [
      "Corpus BLEU Score: {'bleu_4': tensor(0.2850, dtype=torch.float64)}\n",
      "Corpus ROUGE Scores: {'rouge_l': tensor(0.5380, dtype=torch.float64)}\n",
      "Corpus Cider Scores: {'cider_d': tensor(1.2223, dtype=torch.float64)}\n"
     ]
    },
    {
     "name": "stderr",
     "output_type": "stream",
     "text": [
      "\n"
     ]
    }
   ],
   "source": [
    "res_prefix = \"/home/asureddy_umass_edu/cs682/VILA/results/captioning_detailed/VILA1.5-13b_\"\n",
    "results_vila_rice = make_captioning_results_csv(res_prefix, shots = [0,2,4,8], prefix=\"shot.json\")"
   ]
  },
  {
   "cell_type": "code",
   "execution_count": 10,
   "id": "e57823b9-5bbf-4a0a-bc09-f3f61ca25df8",
   "metadata": {},
   "outputs": [
    {
     "name": "stderr",
     "output_type": "stream",
     "text": [
      "  0%|                                                                                                                                                                                 | 0/4 [00:00<?, ?it/s]"
     ]
    },
    {
     "name": "stdout",
     "output_type": "stream",
     "text": [
      "/home/asureddy_umass_edu/cs682/VILA/results/captioning/VILA1.5-13b_0-shot_random-examples.json\n"
     ]
    },
    {
     "name": "stderr",
     "output_type": "stream",
     "text": [
      " 25%|██████████████████████████████████████████▎                                                                                                                              | 1/4 [00:01<00:03,  1.12s/it]"
     ]
    },
    {
     "name": "stdout",
     "output_type": "stream",
     "text": [
      "Corpus BLEU Score: {'bleu_4': tensor(0.2397, dtype=torch.float64)}\n",
      "Corpus ROUGE Scores: {'rouge_l': tensor(0.5217, dtype=torch.float64)}\n",
      "Corpus Cider Scores: {'cider_d': tensor(0.9916, dtype=torch.float64)}\n",
      "/home/asureddy_umass_edu/cs682/VILA/results/captioning/VILA1.5-13b_2-shot_random-examples.json\n"
     ]
    },
    {
     "name": "stderr",
     "output_type": "stream",
     "text": [
      " 50%|████████████████████████████████████████████████████████████████████████████████████▌                                                                                    | 2/4 [00:02<00:02,  1.07s/it]"
     ]
    },
    {
     "name": "stdout",
     "output_type": "stream",
     "text": [
      "Corpus BLEU Score: {'bleu_4': tensor(0.3005, dtype=torch.float64)}\n",
      "Corpus ROUGE Scores: {'rouge_l': tensor(0.5503, dtype=torch.float64)}\n",
      "Corpus Cider Scores: {'cider_d': tensor(1.2073, dtype=torch.float64)}\n",
      "/home/asureddy_umass_edu/cs682/VILA/results/captioning/VILA1.5-13b_4-shot_random-examples.json\n"
     ]
    },
    {
     "name": "stderr",
     "output_type": "stream",
     "text": [
      " 75%|██████████████████████████████████████████████████████████████████████████████████████████████████████████████████████████████▊                                          | 3/4 [00:03<00:01,  1.14s/it]"
     ]
    },
    {
     "name": "stdout",
     "output_type": "stream",
     "text": [
      "Corpus BLEU Score: {'bleu_4': tensor(0.3275, dtype=torch.float64)}\n",
      "Corpus ROUGE Scores: {'rouge_l': tensor(0.5593, dtype=torch.float64)}\n",
      "Corpus Cider Scores: {'cider_d': tensor(1.2553, dtype=torch.float64)}\n",
      "/home/asureddy_umass_edu/cs682/VILA/results/captioning/VILA1.5-13b_8-shot_random-examples.json\n"
     ]
    },
    {
     "name": "stderr",
     "output_type": "stream",
     "text": [
      "100%|█████████████████████████████████████████████████████████████████████████████████████████████████████████████████████████████████████████████████████████████████████████| 4/4 [00:04<00:00,  1.10s/it]"
     ]
    },
    {
     "name": "stdout",
     "output_type": "stream",
     "text": [
      "Corpus BLEU Score: {'bleu_4': tensor(0.3006, dtype=torch.float64)}\n",
      "Corpus ROUGE Scores: {'rouge_l': tensor(0.5565, dtype=torch.float64)}\n",
      "Corpus Cider Scores: {'cider_d': tensor(1.1904, dtype=torch.float64)}\n"
     ]
    },
    {
     "name": "stderr",
     "output_type": "stream",
     "text": [
      "\n"
     ]
    }
   ],
   "source": [
    "res_prefix = \"/home/asureddy_umass_edu/cs682/VILA/results/captioning/VILA1.5-13b_\"\n",
    "results_vila = make_captioning_results_csv(res_prefix, shots = [0,2,4,8], prefix=\"shot_random-examples.json\")"
   ]
  },
  {
   "cell_type": "code",
   "execution_count": 9,
   "id": "c512c084-c362-4c8a-8e60-3cbc374a9048",
   "metadata": {},
   "outputs": [
    {
     "name": "stderr",
     "output_type": "stream",
     "text": [
      "  0%|                                                                                                                                                                                 | 0/4 [00:00<?, ?it/s]"
     ]
    },
    {
     "name": "stdout",
     "output_type": "stream",
     "text": [
      "/home/asureddy_umass_edu/cs682/VILA/results/captioning/VILA1.5-13b_0-shot.json\n"
     ]
    },
    {
     "name": "stderr",
     "output_type": "stream",
     "text": [
      " 25%|██████████████████████████████████████████▎                                                                                                                              | 1/4 [00:01<00:05,  1.80s/it]"
     ]
    },
    {
     "name": "stdout",
     "output_type": "stream",
     "text": [
      "Corpus BLEU Score: {'bleu_4': tensor(0.2366, dtype=torch.float64)}\n",
      "Corpus ROUGE Scores: {'rouge_l': tensor(0.5180, dtype=torch.float64)}\n",
      "Corpus Cider Scores: {'cider_d': tensor(0.9706, dtype=torch.float64)}\n",
      "/home/asureddy_umass_edu/cs682/VILA/results/captioning/VILA1.5-13b_2-shot.json\n"
     ]
    },
    {
     "name": "stderr",
     "output_type": "stream",
     "text": [
      " 50%|████████████████████████████████████████████████████████████████████████████████████▌                                                                                    | 2/4 [00:03<00:03,  1.78s/it]"
     ]
    },
    {
     "name": "stdout",
     "output_type": "stream",
     "text": [
      "Corpus BLEU Score: {'bleu_4': tensor(0.2358, dtype=torch.float64)}\n",
      "Corpus ROUGE Scores: {'rouge_l': tensor(0.5005, dtype=torch.float64)}\n",
      "Corpus Cider Scores: {'cider_d': tensor(1.0061, dtype=torch.float64)}\n",
      "/home/asureddy_umass_edu/cs682/VILA/results/captioning/VILA1.5-13b_4-shot.json\n"
     ]
    },
    {
     "name": "stderr",
     "output_type": "stream",
     "text": [
      " 75%|██████████████████████████████████████████████████████████████████████████████████████████████████████████████████████████████▊                                          | 3/4 [00:05<00:01,  1.76s/it]"
     ]
    },
    {
     "name": "stdout",
     "output_type": "stream",
     "text": [
      "Corpus BLEU Score: {'bleu_4': tensor(0.2883, dtype=torch.float64)}\n",
      "Corpus ROUGE Scores: {'rouge_l': tensor(0.5421, dtype=torch.float64)}\n",
      "Corpus Cider Scores: {'cider_d': tensor(1.1977, dtype=torch.float64)}\n",
      "/home/asureddy_umass_edu/cs682/VILA/results/captioning/VILA1.5-13b_8-shot.json\n"
     ]
    },
    {
     "name": "stderr",
     "output_type": "stream",
     "text": [
      "100%|█████████████████████████████████████████████████████████████████████████████████████████████████████████████████████████████████████████████████████████████████████████| 4/4 [00:07<00:00,  1.75s/it]"
     ]
    },
    {
     "name": "stdout",
     "output_type": "stream",
     "text": [
      "Corpus BLEU Score: {'bleu_4': tensor(0.2762, dtype=torch.float64)}\n",
      "Corpus ROUGE Scores: {'rouge_l': tensor(0.5285, dtype=torch.float64)}\n",
      "Corpus Cider Scores: {'cider_d': tensor(1.1604, dtype=torch.float64)}\n"
     ]
    },
    {
     "name": "stderr",
     "output_type": "stream",
     "text": [
      "\n"
     ]
    }
   ],
   "source": [
    "res_prefix = \"/home/asureddy_umass_edu/cs682/VILA/results/captioning/VILA1.5-13b_\"\n",
    "results_vila_rice = make_captioning_results_csv(res_prefix, shots = [0,2,4,8], prefix=\"shot.json\")"
   ]
  },
  {
   "cell_type": "markdown",
   "id": "b41833ba-a5db-4f86-bd1d-e0de6d8179f7",
   "metadata": {
    "jp-MarkdownHeadingCollapsed": true
   },
   "source": [
    "### RICE based in-context examples"
   ]
  },
  {
   "cell_type": "code",
   "execution_count": 13,
   "id": "054bc461-1c0d-4789-bc6f-e98f7b19cb3d",
   "metadata": {},
   "outputs": [],
   "source": [
    "annotations_path = \"../dataset/annotations/captions_val2017.json\"\n",
    "image_dir_path = \"/scratch/workspace/asureddy_umass_edu-llm_alignment/dataset/val2017\""
   ]
  },
  {
   "cell_type": "code",
   "execution_count": 14,
   "id": "85684b40-6392-40eb-aacd-f0615f15859f",
   "metadata": {},
   "outputs": [
    {
     "name": "stdout",
     "output_type": "stream",
     "text": [
      "\n",
      "1-shots ICL with RICE\n",
      "\n",
      "Corpus BLEU Score: {'bleu_4': tensor(0.1042, dtype=torch.float64)}\n",
      "Corpus ROUGE Scores: {'rouge_l': tensor(0.3500, dtype=torch.float64)}\n",
      "Corpus Cider Scores: {'cider_d': tensor(0.2251, dtype=torch.float64)}\n",
      "\n",
      "2-shots ICL with RICE\n",
      "\n",
      "Corpus BLEU Score: {'bleu_4': tensor(0.1437, dtype=torch.float64)}\n",
      "Corpus ROUGE Scores: {'rouge_l': tensor(0.4019, dtype=torch.float64)}\n",
      "Corpus Cider Scores: {'cider_d': tensor(0.3358, dtype=torch.float64)}\n",
      "\n",
      "4-shots ICL with RICE\n",
      "\n",
      "Corpus BLEU Score: {'bleu_4': tensor(0.1713, dtype=torch.float64)}\n",
      "Corpus ROUGE Scores: {'rouge_l': tensor(0.4275, dtype=torch.float64)}\n",
      "Corpus Cider Scores: {'cider_d': tensor(0.4084, dtype=torch.float64)}\n",
      "\n",
      "8-shots ICL with RICE\n",
      "\n",
      "Corpus BLEU Score: {'bleu_4': tensor(0.1892, dtype=torch.float64)}\n",
      "Corpus ROUGE Scores: {'rouge_l': tensor(0.4402, dtype=torch.float64)}\n",
      "Corpus Cider Scores: {'cider_d': tensor(0.4414, dtype=torch.float64)}\n"
     ]
    }
   ],
   "source": [
    "for i in [1,2,4,8]:\n",
    "    res_file = f\"/home/asureddy_umass_edu/cs682/flamingo/results/captioning/OpenFlamingo-3B-vitl-mpt1b_{i}-shot.json\"\n",
    "    print(f\"\\n{i}-shots ICL with RICE\\n\")\n",
    "    get_metrics_captioning(res_file, annotations_path, image_dir_path)"
   ]
  },
  {
   "cell_type": "code",
   "execution_count": null,
   "id": "bae3e54a-2c36-4b75-968f-b15f67f5069a",
   "metadata": {},
   "outputs": [],
   "source": [
    "# rice based\n",
    "# n-shots,bleu,rouge,cider\n",
    "# 0,0.0324,0.2225,0.1288\n",
    "# 1,0.1042,0.3500,0.2251\n",
    "# 2,0.1437,0.4019,0.3358\n",
    "# 4,0.1713,0.4275,0.4084\n",
    "# 8,0.1892,0.4402,0.4414\n"
   ]
  },
  {
   "cell_type": "code",
   "execution_count": null,
   "id": "ec7b904c-ea46-49b8-b3cd-67d26680de74",
   "metadata": {},
   "outputs": [],
   "source": [
    "# random"
   ]
  },
  {
   "cell_type": "code",
   "execution_count": null,
   "id": "45023757-0141-4bf0-a25a-92b6a43fd9cb",
   "metadata": {},
   "outputs": [],
   "source": []
  },
  {
   "cell_type": "code",
   "execution_count": 44,
   "id": "dc87c163-1a6a-4430-a8ce-5c91fa791b1f",
   "metadata": {},
   "outputs": [
    {
     "name": "stdout",
     "output_type": "stream",
     "text": [
      "Corpus BLEU Score: {'bleu_4': tensor(0.1012, dtype=torch.float64)}\n",
      "Corpus ROUGE Scores: {'rouge_l': tensor(0.3440, dtype=torch.float64)}\n",
      "Corpus Cider Scores: {'cider_d': tensor(0.4058, dtype=torch.float64)}\n"
     ]
    }
   ],
   "source": [
    "res_file = \"/home/asureddy_umass_edu/cs682/flamingo/flamingo-3b-coco-one-shot.json\"\n",
    "annotations_path = \"../dataset/annotations/captions_val2017.json\"\n",
    "image_dir_path = \"/scratch/workspace/asureddy_umass_edu-llm_alignment/dataset/val2017\"\n",
    "get_metrics(res_file, annotations_path, image_dir_path)"
   ]
  },
  {
   "cell_type": "code",
   "execution_count": 45,
   "id": "c706ed50-541d-4b35-84ce-f7414a334e58",
   "metadata": {},
   "outputs": [
    {
     "name": "stdout",
     "output_type": "stream",
     "text": [
      "Corpus BLEU Score: {'bleu_4': tensor(0.0532, dtype=torch.float64)}\n",
      "Corpus ROUGE Scores: {'rouge_l': tensor(0.2362, dtype=torch.float64)}\n",
      "Corpus Cider Scores: {'cider_d': tensor(0.2325, dtype=torch.float64)}\n"
     ]
    }
   ],
   "source": [
    "res_file = \"/home/asureddy_umass_edu/cs682/flamingo/flamingo-3b-coco-ZS.json\"\n",
    "annotations_path = \"../dataset/annotations/captions_val2017.json\"\n",
    "image_dir_path = \"/scratch/workspace/asureddy_umass_edu-llm_alignment/dataset/val2017\"\n",
    "get_metrics(res_file, annotations_path, image_dir_path)"
   ]
  },
  {
   "cell_type": "code",
   "execution_count": 46,
   "id": "5cdc36c2-4e06-44b3-8dca-2fabc1410f10",
   "metadata": {},
   "outputs": [
    {
     "name": "stdout",
     "output_type": "stream",
     "text": [
      "Corpus BLEU Score: {'bleu_4': tensor(0.0899, dtype=torch.float64)}\n",
      "Corpus ROUGE Scores: {'rouge_l': tensor(0.3341, dtype=torch.float64)}\n",
      "Corpus Cider Scores: {'cider_d': tensor(0.4238, dtype=torch.float64)}\n"
     ]
    }
   ],
   "source": [
    "res_file = \"/home/asureddy_umass_edu/cs682/flamingo/flamingo-3b-coco-two-shot.json\"\n",
    "annotations_path = \"../dataset/annotations/captions_val2017.json\"\n",
    "image_dir_path = \"/scratch/workspace/asureddy_umass_edu-llm_alignment/dataset/val2017\"\n",
    "get_metrics(res_file, annotations_path, image_dir_path)"
   ]
  },
  {
   "cell_type": "code",
   "execution_count": 24,
   "id": "7c782bc6-c52c-46a7-9714-c959e034f6cc",
   "metadata": {},
   "outputs": [
    {
     "name": "stdout",
     "output_type": "stream",
     "text": [
      "Corpus BLEU Score: 0.059729001580259705\n",
      "Corpus ROUGE Scores: {'rouge1': 0.010141944522348787, 'rouge2': 0.0002675585284280936, 'rougeL': 0.010141944522348787}\n"
     ]
    }
   ],
   "source": [
    "# old\n",
    "res_file = \"/home/asureddy_umass_edu/cs682/flamingo/flamingo-3b-coco-ZS.json\"\n",
    "annotations_path = \"../dataset/annotations/captions_val2017.json\"\n",
    "image_dir_path = \"/scratch/workspace/asureddy_umass_edu-llm_alignment/dataset/val2017\"\n",
    "get_metrics(res_file, annotations_path, image_dir_path)"
   ]
  },
  {
   "cell_type": "code",
   "execution_count": 25,
   "id": "7d38d5d2-ad08-425f-a417-35c7d3d19056",
   "metadata": {},
   "outputs": [
    {
     "name": "stdout",
     "output_type": "stream",
     "text": [
      "Corpus BLEU Score: 0.08197111291929228\n",
      "Corpus ROUGE Scores: {'rouge1': 0.014435707489431725, 'rouge2': 9.020386072523904e-05, 'rougeL': 0.014435707489431725}\n"
     ]
    }
   ],
   "source": [
    "res_file = \"/home/asureddy_umass_edu/cs682/flamingo/flamingo-3b-coco-two-shot.json\"\n",
    "annotations_path = \"../dataset/annotations/captions_val2017.json\"\n",
    "image_dir_path = \"/scratch/workspace/asureddy_umass_edu-llm_alignment/dataset/val2017\"\n",
    "get_metrics(res_file, annotations_path, image_dir_path)"
   ]
  },
  {
   "cell_type": "code",
   "execution_count": 27,
   "id": "3a698dbc-e2b0-40d8-a915-da04e72cc193",
   "metadata": {},
   "outputs": [
    {
     "name": "stdout",
     "output_type": "stream",
     "text": [
      "Corpus BLEU Score: 1.0\n",
      "Corpus ROUGE Scores: {'rouge1': 0.014656737642366828, 'rouge2': 0.0, 'rougeL': 0.014656737642366828}\n"
     ]
    }
   ],
   "source": [
    "with open(res_file) as f:\n",
    "    data = json.load(f)\n",
    "\n",
    "model_outputs = {}\n",
    "for k,item in data[\"outputs\"].items():\n",
    "    model_outputs[k] = item[len(data[\"query\"]):]\n",
    "\n",
    "dataset = CaptionDataset(image_dir_path, annotations_path)\n",
    "hyps, refs = [], []\n",
    "for k,v in model_outputs.items():\n",
    "    hyps.append(dataset.data_dict[int(k)][\"captions\"][0])\n",
    "    refs.append(dataset.data_dict[int(k)][\"captions\"])\n",
    "\n",
    "bleu_score = compute_corpus_bleu(refs, hyps)\n",
    "rouge_scores = compute_corpus_rouge(refs, hyps)\n",
    "\n",
    "print(\"Corpus BLEU Score:\", bleu_score)\n",
    "print(\"Corpus ROUGE Scores:\", rouge_scores)"
   ]
  },
  {
   "cell_type": "code",
   "execution_count": null,
   "id": "a717d302-7306-4381-9ee5-24c592fe99e8",
   "metadata": {},
   "outputs": [],
   "source": []
  }
 ],
 "metadata": {
  "kernelspec": {
   "display_name": "Python 3 (ipykernel)",
   "language": "python",
   "name": "python3"
  },
  "language_info": {
   "codemirror_mode": {
    "name": "ipython",
    "version": 3
   },
   "file_extension": ".py",
   "mimetype": "text/x-python",
   "name": "python",
   "nbconvert_exporter": "python",
   "pygments_lexer": "ipython3",
   "version": "3.9.20"
  }
 },
 "nbformat": 4,
 "nbformat_minor": 5
}
