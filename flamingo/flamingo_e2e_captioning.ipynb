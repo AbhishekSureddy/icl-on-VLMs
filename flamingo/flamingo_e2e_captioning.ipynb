{
 "cells": [
  {
   "cell_type": "code",
   "execution_count": 1,
   "id": "953ec1ad-a7d2-4276-813f-dbd987f22868",
   "metadata": {},
   "outputs": [
    {
     "name": "stderr",
     "output_type": "stream",
     "text": [
      "/home/asureddy_umass_edu/.conda/envs/open-flamingo/lib/python3.9/site-packages/transformers/utils/hub.py:128: FutureWarning: Using `TRANSFORMERS_CACHE` is deprecated and will be removed in v5 of Transformers. Use `HF_HOME` instead.\n",
      "  warnings.warn(\n"
     ]
    }
   ],
   "source": [
    "import pickle\n",
    "import numpy as np\n",
    "from tqdm import tqdm\n",
    "import torch\n",
    "from eval_datasets import CaptionDataset\n",
    "from flamingo_utils import get_flamingo_model_processor_tok\n",
    "from rice import RICES"
   ]
  },
  {
   "cell_type": "code",
   "execution_count": 2,
   "id": "c1323e91-5ce9-455d-b02d-9c12d57ac203",
   "metadata": {},
   "outputs": [],
   "source": [
    "# input args\n",
    "model_name_or_path = \"openflamingo/OpenFlamingo-3B-vitl-mpt1b\"\n",
    "train_annotations_path = \"../dataset/annotations/captions_train2017.json\"\n",
    "train_image_dir_path = \"/scratch/workspace/asureddy_umass_edu-llm_alignment/dataset/train2017\"\n",
    "val_annotations_path = \"../dataset/annotations/captions_val2017.json\"\n",
    "val_image_dir_path = \"/scratch/workspace/asureddy_umass_edu-llm_alignment/dataset/val2017\"\n",
    "rice_cached_features_path = \"/scratch/workspace/asureddy_umass_edu-llm_alignment/features-cache/coco_train.pkl\" "
   ]
  },
  {
   "cell_type": "code",
   "execution_count": 3,
   "id": "c81f3716-6b97-42f1-a6ea-bbb64a53c927",
   "metadata": {},
   "outputs": [
    {
     "name": "stderr",
     "output_type": "stream",
     "text": [
      "A new version of the following files was downloaded from https://huggingface.co/anas-awadalla/mpt-1b-redpajama-200b:\n",
      "- configuration_mosaic_gpt.py\n",
      ". Make sure to double-check they do not contain any added malicious code. To avoid downloading new versions of the code file, you can pin a revision.\n",
      "A new version of the following files was downloaded from https://huggingface.co/anas-awadalla/mpt-1b-redpajama-200b:\n",
      "- mosaic_gpt.py\n",
      ". Make sure to double-check they do not contain any added malicious code. To avoid downloading new versions of the code file, you can pin a revision.\n",
      "/home/asureddy_umass_edu/.conda/envs/open-flamingo/lib/python3.9/site-packages/torchvision/datapoints/__init__.py:12: UserWarning: The torchvision.datapoints and torchvision.transforms.v2 namespaces are still Beta. While we do not expect major breaking changes, some APIs may still change according to user feedback. Please submit any feedback you may have in this issue: https://github.com/pytorch/vision/issues/6753, and you can also check out https://github.com/pytorch/vision/issues/7319 to learn more about the APIs that we suspect might involve future changes. You can silence this warning by calling torchvision.disable_beta_transforms_warning().\n",
      "  warnings.warn(_BETA_TRANSFORMS_WARNING)\n",
      "/home/asureddy_umass_edu/.conda/envs/open-flamingo/lib/python3.9/site-packages/torchvision/transforms/v2/__init__.py:54: UserWarning: The torchvision.datapoints and torchvision.transforms.v2 namespaces are still Beta. While we do not expect major breaking changes, some APIs may still change according to user feedback. Please submit any feedback you may have in this issue: https://github.com/pytorch/vision/issues/6753, and you can also check out https://github.com/pytorch/vision/issues/7319 to learn more about the APIs that we suspect might involve future changes. You can silence this warning by calling torchvision.disable_beta_transforms_warning().\n",
      "  warnings.warn(_BETA_TRANSFORMS_WARNING)\n",
      "/home/asureddy_umass_edu/.conda/envs/open-flamingo/lib/python3.9/site-packages/torch/_utils.py:776: UserWarning: TypedStorage is deprecated. It will be removed in the future and UntypedStorage will be the only storage class. This should only matter to you if you are using storages directly.  To access UntypedStorage directly, use tensor.untyped_storage() instead of tensor.storage()\n",
      "  return self.fget.__get__(instance, owner)()\n",
      "/scratch/workspace/asureddy_umass_edu-llm_alignment/hf-cache/modules/transformers_modules/anas-awadalla/mpt-1b-redpajama-200b/50d6bc94e17812873f39c36c5f815263fa71fb80/attention.py:289: UserWarning: Using `attn_impl: torch`. If your model does not use `alibi` or `prefix_lm` we recommend using `attn_impl: flash` otherwise we recommend using `attn_impl: triton`.\n",
      "  warnings.warn(\n"
     ]
    },
    {
     "name": "stdout",
     "output_type": "stream",
     "text": [
      "You are using config.init_device='cpu', but you can also use config.init_device=\"meta\" with Composer + FSDP for fast initialization.\n",
      "Flamingo model initialized with 1046992944 trainable parameters\n"
     ]
    }
   ],
   "source": [
    "train_dataset = CaptionDataset(train_image_dir_path, train_annotations_path)\n",
    "val_dataset = CaptionDataset(val_image_dir_path, val_annotations_path)\n",
    "if rice_cached_features_path:\n",
    "    with open(rice_cached_features_path, 'rb') as f:\n",
    "        rice_cached_features = pickle.load(f)\n",
    "\n",
    "retriever = RICES(train_dataset, 'cpu',1, cached_features=rice_cached_features)\n",
    "model, image_processor, tokenizer = get_flamingo_model_processor_tok()\n",
    "tokenizer.padding_side = \"left\" # For generation padding tokens should be on the left\n",
    "model = model.to('cuda')"
   ]
  },
  {
   "cell_type": "code",
   "execution_count": 4,
   "id": "cdccd725-05a4-4f89-983d-41e440c678c8",
   "metadata": {},
   "outputs": [],
   "source": [
    "def preprocess_images(ims, image_processor):\n",
    "    vision_x = [image_processor(im_).unsqueeze(0) for im_ in ims]\n",
    "    vision_x = torch.cat(vision_x, dim=0)\n",
    "    vision_x = vision_x.unsqueeze(1).unsqueeze(0)\n",
    "    return vision_x"
   ]
  },
  {
   "cell_type": "code",
   "execution_count": 5,
   "id": "b0b24a5c-9f33-4acf-a631-24282b6d5d46",
   "metadata": {},
   "outputs": [],
   "source": [
    "def tok_query(query):\n",
    "    \"\"\"\n",
    "    Example query:\n",
    "    \"<image>An image of two cats.<|endofchunk|><image>An image of a bathroom sink.<|endofchunk|><image>An image of\"\n",
    "    \"\"\"\n",
    "    lang_x = tokenizer(\n",
    "        [query],\n",
    "        return_tensors=\"pt\",\n",
    "    )\n",
    "    return lang_x"
   ]
  },
  {
   "cell_type": "code",
   "execution_count": 6,
   "id": "5a83d80c-97ea-4963-a223-f6b150eb6db1",
   "metadata": {},
   "outputs": [],
   "source": [
    "def get_n_shot_demonstrations(item, n=2, use_random=True, n_random=0):\n",
    "    if n==0: return [[]]\n",
    "    if use_random:\n",
    "        train_idxs = list(np.random.choice(len(train_dataset),n))\n",
    "        icl_demonstrs = [[train_dataset[idx] for idx in train_idxs]]\n",
    "    else:\n",
    "        if n_random:\n",
    "            train_idxs = list(np.random.choice(len(train_dataset),n_random))\n",
    "            icl_demonstrs = [train_dataset[idx] for idx in train_idxs]\n",
    "        icl_demonstrs = [icl_demonstrs + retriever.find([item['image']],n-n_random)[0]]\n",
    "        \n",
    "    return icl_demonstrs"
   ]
  },
  {
   "cell_type": "code",
   "execution_count": 7,
   "id": "7b73bc8b-d48b-4f9c-a09c-7fee21b2bdab",
   "metadata": {},
   "outputs": [],
   "source": [
    "def construct_captioning_query(query_items, icl_demonstrs_list):\n",
    "    querys, im_lists = [], []\n",
    "    for query_item,icl_demonstrs in zip(query_items, icl_demonstrs_list):\n",
    "        query = \"<image> Output: \"\n",
    "        images = []\n",
    "        for item in icl_demonstrs:\n",
    "            query += f\"{item['caption']} |<endofchunk>| <image> Output: \"\n",
    "            images.append(item['image'])\n",
    "        images.append(query_item['image'])\n",
    "        querys.append(query)\n",
    "        im_lists.append(images)\n",
    "    return querys, im_lists"
   ]
  },
  {
   "cell_type": "code",
   "execution_count": 12,
   "id": "ef176ab7-84ae-4f96-96af-01c1fbb4276d",
   "metadata": {},
   "outputs": [
    {
     "data": {
      "text/plain": [
       "[[{'image': <PIL.JpegImagePlugin.JpegImageFile image mode=RGB size=500x375>,\n",
       "   'caption': 'The green suitcase has many stickers on the side of it.',\n",
       "   'image_id': 372458},\n",
       "  {'image': <PIL.JpegImagePlugin.JpegImageFile image mode=RGB size=640x426>,\n",
       "   'caption': 'a small white bed is in a room',\n",
       "   'image_id': 339020},\n",
       "  {'image': <PIL.JpegImagePlugin.JpegImageFile image mode=RGB size=640x480>,\n",
       "   'caption': 'A man putting food into a pot in a kitchen.',\n",
       "   'image_id': 218674},\n",
       "  {'image': <PIL.JpegImagePlugin.JpegImageFile image mode=RGB size=640x480>,\n",
       "   'caption': 'A white refrigerator freezer sitting next to a stone wall.',\n",
       "   'image_id': 465374}]]"
      ]
     },
     "execution_count": 12,
     "metadata": {},
     "output_type": "execute_result"
    }
   ],
   "source": [
    "get_n_shot_demonstrations(val_dataset[0], n=4, use_random=False, n_random=2)"
   ]
  },
  {
   "cell_type": "code",
   "execution_count": 58,
   "id": "242f428c-5066-492b-9f60-09d59b990e77",
   "metadata": {},
   "outputs": [],
   "source": [
    "def get_output(item, n= 2, use_random= False):\n",
    "    icl_demonstrs = get_n_shot_demonstrations(item, n, use_random)\n",
    "    querys, im_lists = construct_captioning_query([item], icl_demonstrs)\n",
    "    vision_x = preprocess_images(im_lists[0], image_processor)\n",
    "    lang_x = tok_query(querys[0])\n",
    "    generated_text = model.generate(\n",
    "        vision_x=vision_x.cuda(),\n",
    "        lang_x=lang_x[\"input_ids\"].cuda(),\n",
    "        attention_mask=lang_x[\"attention_mask\"].cuda(),\n",
    "        max_new_tokens=20,\n",
    "        num_beams=1,\n",
    "    )\n",
    "    # print(\"Generated text: \", tokenizer.decode(generated_text[0]))\n",
    "    return tokenizer.decode(generated_text[0])[len(querys[0]):]"
   ]
  },
  {
   "cell_type": "code",
   "execution_count": 60,
   "id": "0d340536-4696-4187-b6f0-c96ce33e550e",
   "metadata": {
    "scrolled": true
   },
   "outputs": [
    {
     "name": "stderr",
     "output_type": "stream",
     "text": [
      "  0%|                                                                                         | 0/100 [00:00<?, ?it/s]Setting `pad_token_id` to `eos_token_id`:None for open-end generation.\n",
      "  1%|▊                                                                                | 1/100 [00:01<01:57,  1.19s/it]Setting `pad_token_id` to `eos_token_id`:None for open-end generation.\n",
      "  2%|█▌                                                                               | 2/100 [00:02<01:36,  1.01it/s]Setting `pad_token_id` to `eos_token_id`:None for open-end generation.\n",
      "  3%|██▍                                                                              | 3/100 [00:02<01:23,  1.16it/s]Setting `pad_token_id` to `eos_token_id`:None for open-end generation.\n",
      "  4%|███▏                                                                             | 4/100 [00:03<01:35,  1.01it/s]Setting `pad_token_id` to `eos_token_id`:None for open-end generation.\n",
      "  5%|████                                                                             | 5/100 [00:05<01:40,  1.06s/it]Setting `pad_token_id` to `eos_token_id`:None for open-end generation.\n",
      "  6%|████▊                                                                            | 6/100 [00:05<01:31,  1.03it/s]Setting `pad_token_id` to `eos_token_id`:None for open-end generation.\n",
      "  7%|█████▋                                                                           | 7/100 [00:06<01:23,  1.12it/s]Setting `pad_token_id` to `eos_token_id`:None for open-end generation.\n",
      "  8%|██████▍                                                                          | 8/100 [00:07<01:30,  1.02it/s]Setting `pad_token_id` to `eos_token_id`:None for open-end generation.\n",
      "  9%|███████▎                                                                         | 9/100 [00:09<01:35,  1.05s/it]Setting `pad_token_id` to `eos_token_id`:None for open-end generation.\n",
      " 10%|████████                                                                        | 10/100 [00:10<01:37,  1.09s/it]Setting `pad_token_id` to `eos_token_id`:None for open-end generation.\n",
      " 11%|████████▊                                                                       | 11/100 [00:11<01:41,  1.14s/it]Setting `pad_token_id` to `eos_token_id`:None for open-end generation.\n",
      " 12%|█████████▌                                                                      | 12/100 [00:12<01:40,  1.15s/it]Setting `pad_token_id` to `eos_token_id`:None for open-end generation.\n",
      " 13%|██████████▍                                                                     | 13/100 [00:13<01:28,  1.02s/it]Setting `pad_token_id` to `eos_token_id`:None for open-end generation.\n",
      " 14%|███████████▏                                                                    | 14/100 [00:14<01:32,  1.07s/it]Setting `pad_token_id` to `eos_token_id`:None for open-end generation.\n",
      " 15%|████████████                                                                    | 15/100 [00:15<01:34,  1.11s/it]Setting `pad_token_id` to `eos_token_id`:None for open-end generation.\n",
      " 16%|████████████▊                                                                   | 16/100 [00:16<01:34,  1.12s/it]Setting `pad_token_id` to `eos_token_id`:None for open-end generation.\n",
      " 17%|█████████████▌                                                                  | 17/100 [00:18<01:34,  1.14s/it]Setting `pad_token_id` to `eos_token_id`:None for open-end generation.\n",
      " 18%|██████████████▍                                                                 | 18/100 [00:19<01:35,  1.16s/it]Setting `pad_token_id` to `eos_token_id`:None for open-end generation.\n",
      " 19%|███████████████▏                                                                | 19/100 [00:20<01:34,  1.17s/it]Setting `pad_token_id` to `eos_token_id`:None for open-end generation.\n",
      " 20%|████████████████                                                                | 20/100 [00:21<01:32,  1.16s/it]Setting `pad_token_id` to `eos_token_id`:None for open-end generation.\n",
      " 21%|████████████████▊                                                               | 21/100 [00:22<01:32,  1.17s/it]Setting `pad_token_id` to `eos_token_id`:None for open-end generation.\n",
      " 22%|█████████████████▌                                                              | 22/100 [00:23<01:31,  1.18s/it]Setting `pad_token_id` to `eos_token_id`:None for open-end generation.\n",
      " 23%|██████████████████▍                                                             | 23/100 [00:25<01:29,  1.16s/it]Setting `pad_token_id` to `eos_token_id`:None for open-end generation.\n",
      " 24%|███████████████████▏                                                            | 24/100 [00:26<01:27,  1.15s/it]Setting `pad_token_id` to `eos_token_id`:None for open-end generation.\n",
      " 25%|████████████████████                                                            | 25/100 [00:27<01:19,  1.06s/it]Setting `pad_token_id` to `eos_token_id`:None for open-end generation.\n",
      " 26%|████████████████████▊                                                           | 26/100 [00:28<01:21,  1.10s/it]Setting `pad_token_id` to `eos_token_id`:None for open-end generation.\n",
      " 27%|█████████████████████▌                                                          | 27/100 [00:28<01:11,  1.03it/s]Setting `pad_token_id` to `eos_token_id`:None for open-end generation.\n",
      " 28%|██████████████████████▍                                                         | 28/100 [00:30<01:14,  1.04s/it]Setting `pad_token_id` to `eos_token_id`:None for open-end generation.\n",
      " 29%|███████████████████████▏                                                        | 29/100 [00:31<01:17,  1.09s/it]Setting `pad_token_id` to `eos_token_id`:None for open-end generation.\n",
      " 30%|████████████████████████                                                        | 30/100 [00:32<01:09,  1.01it/s]Setting `pad_token_id` to `eos_token_id`:None for open-end generation.\n",
      " 31%|████████████████████████▊                                                       | 31/100 [00:32<01:02,  1.11it/s]Setting `pad_token_id` to `eos_token_id`:None for open-end generation.\n",
      " 32%|█████████████████████████▌                                                      | 32/100 [00:33<00:58,  1.17it/s]Setting `pad_token_id` to `eos_token_id`:None for open-end generation.\n",
      " 33%|██████████████████████████▍                                                     | 33/100 [00:34<01:04,  1.05it/s]Setting `pad_token_id` to `eos_token_id`:None for open-end generation.\n",
      " 34%|███████████████████████████▏                                                    | 34/100 [00:35<01:02,  1.06it/s]Setting `pad_token_id` to `eos_token_id`:None for open-end generation.\n",
      " 35%|████████████████████████████                                                    | 35/100 [00:36<01:06,  1.02s/it]Setting `pad_token_id` to `eos_token_id`:None for open-end generation.\n",
      " 36%|████████████████████████████▊                                                   | 36/100 [00:38<01:08,  1.07s/it]Setting `pad_token_id` to `eos_token_id`:None for open-end generation.\n",
      " 37%|█████████████████████████████▌                                                  | 37/100 [00:38<01:02,  1.01it/s]Setting `pad_token_id` to `eos_token_id`:None for open-end generation.\n",
      " 38%|██████████████████████████████▍                                                 | 38/100 [00:39<01:04,  1.03s/it]Setting `pad_token_id` to `eos_token_id`:None for open-end generation.\n",
      " 39%|███████████████████████████████▏                                                | 39/100 [00:41<01:05,  1.07s/it]Setting `pad_token_id` to `eos_token_id`:None for open-end generation.\n",
      " 40%|████████████████████████████████                                                | 40/100 [00:42<01:06,  1.10s/it]Setting `pad_token_id` to `eos_token_id`:None for open-end generation.\n",
      " 41%|████████████████████████████████▊                                               | 41/100 [00:43<01:06,  1.12s/it]Setting `pad_token_id` to `eos_token_id`:None for open-end generation.\n",
      " 42%|█████████████████████████████████▌                                              | 42/100 [00:44<01:06,  1.14s/it]Setting `pad_token_id` to `eos_token_id`:None for open-end generation.\n",
      " 43%|██████████████████████████████████▍                                             | 43/100 [00:45<01:05,  1.15s/it]Setting `pad_token_id` to `eos_token_id`:None for open-end generation.\n",
      " 44%|███████████████████████████████████▏                                            | 44/100 [00:47<01:04,  1.16s/it]Setting `pad_token_id` to `eos_token_id`:None for open-end generation.\n",
      " 45%|████████████████████████████████████                                            | 45/100 [00:48<01:04,  1.16s/it]Setting `pad_token_id` to `eos_token_id`:None for open-end generation.\n",
      " 46%|████████████████████████████████████▊                                           | 46/100 [00:49<01:03,  1.18s/it]Setting `pad_token_id` to `eos_token_id`:None for open-end generation.\n",
      " 47%|█████████████████████████████████████▌                                          | 47/100 [00:50<01:02,  1.19s/it]Setting `pad_token_id` to `eos_token_id`:None for open-end generation.\n",
      " 48%|██████████████████████████████████████▍                                         | 48/100 [00:51<01:01,  1.19s/it]Setting `pad_token_id` to `eos_token_id`:None for open-end generation.\n",
      " 49%|███████████████████████████████████████▏                                        | 49/100 [00:52<01:00,  1.18s/it]Setting `pad_token_id` to `eos_token_id`:None for open-end generation.\n",
      " 50%|████████████████████████████████████████                                        | 50/100 [00:54<00:58,  1.18s/it]Setting `pad_token_id` to `eos_token_id`:None for open-end generation.\n",
      " 51%|████████████████████████████████████████▊                                       | 51/100 [00:55<00:54,  1.11s/it]Setting `pad_token_id` to `eos_token_id`:None for open-end generation.\n",
      " 52%|█████████████████████████████████████████▌                                      | 52/100 [00:56<00:54,  1.13s/it]Setting `pad_token_id` to `eos_token_id`:None for open-end generation.\n",
      " 53%|██████████████████████████████████████████▍                                     | 53/100 [00:57<00:52,  1.12s/it]Setting `pad_token_id` to `eos_token_id`:None for open-end generation.\n",
      " 54%|███████████████████████████████████████████▏                                    | 54/100 [00:58<00:52,  1.14s/it]Setting `pad_token_id` to `eos_token_id`:None for open-end generation.\n",
      " 55%|████████████████████████████████████████████                                    | 55/100 [00:59<00:51,  1.16s/it]Setting `pad_token_id` to `eos_token_id`:None for open-end generation.\n",
      " 56%|████████████████████████████████████████████▊                                   | 56/100 [01:00<00:50,  1.16s/it]Setting `pad_token_id` to `eos_token_id`:None for open-end generation.\n",
      " 57%|█████████████████████████████████████████████▌                                  | 57/100 [01:01<00:43,  1.01s/it]Setting `pad_token_id` to `eos_token_id`:None for open-end generation.\n",
      " 58%|██████████████████████████████████████████████▍                                 | 58/100 [01:02<00:44,  1.06s/it]Setting `pad_token_id` to `eos_token_id`:None for open-end generation.\n",
      " 59%|███████████████████████████████████████████████▏                                | 59/100 [01:03<00:44,  1.08s/it]Setting `pad_token_id` to `eos_token_id`:None for open-end generation.\n",
      " 60%|████████████████████████████████████████████████                                | 60/100 [01:05<00:44,  1.10s/it]Setting `pad_token_id` to `eos_token_id`:None for open-end generation.\n",
      " 61%|████████████████████████████████████████████████▊                               | 61/100 [01:06<00:43,  1.12s/it]Setting `pad_token_id` to `eos_token_id`:None for open-end generation.\n",
      " 62%|█████████████████████████████████████████████████▌                              | 62/100 [01:07<00:43,  1.14s/it]Setting `pad_token_id` to `eos_token_id`:None for open-end generation.\n",
      " 63%|██████████████████████████████████████████████████▍                             | 63/100 [01:08<00:42,  1.15s/it]Setting `pad_token_id` to `eos_token_id`:None for open-end generation.\n",
      " 64%|███████████████████████████████████████████████████▏                            | 64/100 [01:09<00:41,  1.16s/it]Setting `pad_token_id` to `eos_token_id`:None for open-end generation.\n",
      " 65%|████████████████████████████████████████████████████                            | 65/100 [01:10<00:40,  1.15s/it]Setting `pad_token_id` to `eos_token_id`:None for open-end generation.\n",
      " 66%|████████████████████████████████████████████████████▊                           | 66/100 [01:12<00:39,  1.16s/it]Setting `pad_token_id` to `eos_token_id`:None for open-end generation.\n",
      " 67%|█████████████████████████████████████████████████████▌                          | 67/100 [01:13<00:38,  1.16s/it]Setting `pad_token_id` to `eos_token_id`:None for open-end generation.\n",
      " 68%|██████████████████████████████████████████████████████▍                         | 68/100 [01:14<00:37,  1.17s/it]Setting `pad_token_id` to `eos_token_id`:None for open-end generation.\n",
      " 69%|███████████████████████████████████████████████████████▏                        | 69/100 [01:15<00:36,  1.16s/it]Setting `pad_token_id` to `eos_token_id`:None for open-end generation.\n",
      " 70%|████████████████████████████████████████████████████████                        | 70/100 [01:16<00:34,  1.16s/it]Setting `pad_token_id` to `eos_token_id`:None for open-end generation.\n",
      " 71%|████████████████████████████████████████████████████████▊                       | 71/100 [01:17<00:33,  1.17s/it]Setting `pad_token_id` to `eos_token_id`:None for open-end generation.\n",
      " 72%|█████████████████████████████████████████████████████████▌                      | 72/100 [01:19<00:33,  1.18s/it]Setting `pad_token_id` to `eos_token_id`:None for open-end generation.\n",
      " 73%|██████████████████████████████████████████████████████████▍                     | 73/100 [01:20<00:31,  1.18s/it]Setting `pad_token_id` to `eos_token_id`:None for open-end generation.\n",
      " 74%|███████████████████████████████████████████████████████████▏                    | 74/100 [01:21<00:30,  1.18s/it]Setting `pad_token_id` to `eos_token_id`:None for open-end generation.\n",
      " 75%|████████████████████████████████████████████████████████████                    | 75/100 [01:22<00:29,  1.19s/it]Setting `pad_token_id` to `eos_token_id`:None for open-end generation.\n",
      " 76%|████████████████████████████████████████████████████████████▊                   | 76/100 [01:23<00:28,  1.19s/it]Setting `pad_token_id` to `eos_token_id`:None for open-end generation.\n",
      " 77%|█████████████████████████████████████████████████████████████▌                  | 77/100 [01:25<00:27,  1.19s/it]Setting `pad_token_id` to `eos_token_id`:None for open-end generation.\n",
      " 78%|██████████████████████████████████████████████████████████████▍                 | 78/100 [01:25<00:23,  1.07s/it]Setting `pad_token_id` to `eos_token_id`:None for open-end generation.\n",
      " 79%|███████████████████████████████████████████████████████████████▏                | 79/100 [01:27<00:23,  1.11s/it]Setting `pad_token_id` to `eos_token_id`:None for open-end generation.\n",
      " 80%|████████████████████████████████████████████████████████████████                | 80/100 [01:28<00:22,  1.13s/it]Setting `pad_token_id` to `eos_token_id`:None for open-end generation.\n",
      " 81%|████████████████████████████████████████████████████████████████▊               | 81/100 [01:29<00:19,  1.03s/it]Setting `pad_token_id` to `eos_token_id`:None for open-end generation.\n",
      " 82%|█████████████████████████████████████████████████████████████████▌              | 82/100 [01:30<00:19,  1.07s/it]Setting `pad_token_id` to `eos_token_id`:None for open-end generation.\n",
      " 83%|██████████████████████████████████████████████████████████████████▍             | 83/100 [01:31<00:18,  1.10s/it]Setting `pad_token_id` to `eos_token_id`:None for open-end generation.\n",
      " 84%|███████████████████████████████████████████████████████████████████▏            | 84/100 [01:32<00:16,  1.00s/it]Setting `pad_token_id` to `eos_token_id`:None for open-end generation.\n",
      " 85%|████████████████████████████████████████████████████████████████████            | 85/100 [01:33<00:15,  1.05s/it]Setting `pad_token_id` to `eos_token_id`:None for open-end generation.\n",
      " 86%|████████████████████████████████████████████████████████████████████▊           | 86/100 [01:34<00:15,  1.09s/it]Setting `pad_token_id` to `eos_token_id`:None for open-end generation.\n",
      " 87%|█████████████████████████████████████████████████████████████████████▌          | 87/100 [01:35<00:14,  1.11s/it]Setting `pad_token_id` to `eos_token_id`:None for open-end generation.\n",
      " 88%|██████████████████████████████████████████████████████████████████████▍         | 88/100 [01:36<00:13,  1.14s/it]Setting `pad_token_id` to `eos_token_id`:None for open-end generation.\n",
      " 89%|███████████████████████████████████████████████████████████████████████▏        | 89/100 [01:38<00:12,  1.16s/it]Setting `pad_token_id` to `eos_token_id`:None for open-end generation.\n",
      " 90%|████████████████████████████████████████████████████████████████████████        | 90/100 [01:38<00:10,  1.06s/it]Setting `pad_token_id` to `eos_token_id`:None for open-end generation.\n",
      " 91%|████████████████████████████████████████████████████████████████████████▊       | 91/100 [01:40<00:09,  1.10s/it]Setting `pad_token_id` to `eos_token_id`:None for open-end generation.\n",
      " 92%|█████████████████████████████████████████████████████████████████████████▌      | 92/100 [01:41<00:08,  1.12s/it]Setting `pad_token_id` to `eos_token_id`:None for open-end generation.\n",
      " 93%|██████████████████████████████████████████████████████████████████████████▍     | 93/100 [01:42<00:08,  1.14s/it]Setting `pad_token_id` to `eos_token_id`:None for open-end generation.\n",
      " 94%|███████████████████████████████████████████████████████████████████████████▏    | 94/100 [01:43<00:06,  1.02s/it]Setting `pad_token_id` to `eos_token_id`:None for open-end generation.\n",
      " 95%|████████████████████████████████████████████████████████████████████████████    | 95/100 [01:44<00:04,  1.03it/s]Setting `pad_token_id` to `eos_token_id`:None for open-end generation.\n",
      " 96%|████████████████████████████████████████████████████████████████████████████▊   | 96/100 [01:45<00:04,  1.02s/it]Setting `pad_token_id` to `eos_token_id`:None for open-end generation.\n",
      " 97%|█████████████████████████████████████████████████████████████████████████████▌  | 97/100 [01:46<00:03,  1.06s/it]Setting `pad_token_id` to `eos_token_id`:None for open-end generation.\n",
      " 98%|██████████████████████████████████████████████████████████████████████████████▍ | 98/100 [01:47<00:02,  1.09s/it]Setting `pad_token_id` to `eos_token_id`:None for open-end generation.\n",
      " 99%|███████████████████████████████████████████████████████████████████████████████▏| 99/100 [01:48<00:01,  1.11s/it]Setting `pad_token_id` to `eos_token_id`:None for open-end generation.\n",
      "100%|███████████████████████████████████████████████████████████████████████████████| 100/100 [01:49<00:00,  1.10s/it]\n"
     ]
    }
   ],
   "source": [
    "outputs = []\n",
    "for i in tqdm(range(100)):\n",
    "    out = get_output(val_dataset[i],4)\n",
    "    outputs.append(out)"
   ]
  },
  {
   "cell_type": "code",
   "execution_count": 61,
   "id": "5545d6f9-f48e-4c52-a951-644051042a05",
   "metadata": {
    "scrolled": true
   },
   "outputs": [
    {
     "data": {
      "text/plain": [
       "['\\xa0A kitchen filled with lots of pots and pans. |<endofchunk>|  Output',\n",
       " '\\xa0A kitchen with a small dining table in the middle.<|endofchunk|>',\n",
       " '\\xa0A homeless man in New York City.<|endofchunk|>',\n",
       " '\\xa0Skateboarders performing a trick on a skateboard. |<endofchunk>|',\n",
       " '\\xa0A blue bicycle parked on a street. |<endofchunk>|  Output: A',\n",
       " '・A bathroom with toilet, sink, and shower.<|endofchunk|>',\n",
       " '\\xa0A Japanese style toilet stall with a window.<|endofchunk|>',\n",
       " '\\xa0A shiny motorcycle on display. |<endofchunk>|  Output: A shiny motorcycle',\n",
       " '\\xa0A row of white and brown toilets in a bathroom. |<endofchunk>|',\n",
       " '\\xa0A toilet with a panel for controls. |<endofchunk>|  Output: A',\n",
       " '\\tA row of flats in a residential area. |<endofchunk>|  Output:',\n",
       " '\\xa0A woman is sitting at a desk with a computer. |<endofchunk>| ',\n",
       " '\\xa0A door leading to a graveyard.<|endofchunk|>',\n",
       " '\\xa0A TV sitting on a bed with a bookcase behind it. |<endofchunk>',\n",
       " '\\xa0A still life painting of a bowl of fruit and a tea set on a tablecloth.<|endofchunk|>',\n",
       " '\\xa0A passenger plane is parked on an airport tarmac. |<endofchunk>| ',\n",
       " '\\xa0A group of toy animals next to a toy train. |<endofchunk>| ',\n",
       " '\\xa0A view of the beach from a bench. |<endofchunk>|  Output:',\n",
       " '\\xa0A man with a flock of sheep. |<endofchunk>|  Output: A',\n",
       " '\\tA view of the Western Wall, the holiest site in Judaism. |<endofchunk',\n",
       " '\\xa0A bus with a campaign sign on it. |<endofchunk>|  Output:',\n",
       " '\\xa0A group of people walking on the street next to a large bus. |<endofchunk',\n",
       " '\\xa0A bus is parked on the road in front of the building. |<endofchunk>',\n",
       " '\\xa0A bus on a highway. |<endofchunk>|  Output: A bus on',\n",
       " '\\xa0A yellow taxi cab parked next to a street sign.<|endofchunk|>',\n",
       " '\\xa0A sign prohibiting bicycles or skateboards. |<endofchunk>|  Output:',\n",
       " '\\xa0A giraffe and its baby.<|endofchunk|>',\n",
       " \"「I'M NOT GOING TO THE BUS, I'M GOING TO THE STATION\",\n",
       " '\\tA woman sitting on a bench with pigeons around her. |<endofchunk>',\n",
       " '\\xa0The sign is a reminder of the past.<|endofchunk|>',\n",
       " '\\xa0A group of birds in a field.<|endofchunk|>',\n",
       " '\\xa0A train on the platform at a station.<|endofchunk|>',\n",
       " '「The Blue Train」 is a train that runs along the mountain. |<endofchunk>',\n",
       " '\\xa0A red stop sign sitting on top of a wooden pole.<|endofchunk|>',\n",
       " '\\xa0A stop sign on a street corner. |<endofchunk>|  Output: A',\n",
       " '\\xa0A stop sign with a \"Goldz\" sticker on it. |<endofchunk',\n",
       " '\\xa0Two dogs and a cat sleeping on a couch.<|endofchunk|>',\n",
       " '\\xa0Two cats sitting on a shoe. |<endofchunk>|  Output: A cat',\n",
       " '\\xa0A cat laying in a suitcase. |<endofchunk>|  Output: A cat',\n",
       " '~~A field with a river running through it~~ |<endofchunk>|  Output:',\n",
       " '\\tA white cow standing in a field with lots of palm trees. |<endofchunk>',\n",
       " '\\xa0A cat on a tv. |<endofchunk>|  Output: A cat on',\n",
       " '\\xa0A cat sitting on top of a computer monitor. |<endofchunk>|  Output',\n",
       " 'ia a photo of a girl with a tattoo on her face. |<endofchunk>|',\n",
       " '\\xa0A man holding a white sheet to cover a coffin. |<endofchunk>| ',\n",
       " '\\xa0A boat with a large number of people on board. |<endofchunk>| ',\n",
       " '\\xa0Elephants drinking at the waterhole. |<endofchunk>|  Output: Ele',\n",
       " '\\xa0A group of boats floating on the river Thames in London, England. |<endofchunk',\n",
       " '\\xa0An elephant standing in front of some trees. |<endofchunk>|  Output:',\n",
       " '\\xa0A person holding an umbrella in the rain. |<endofchunk>|  Output:',\n",
       " '\\xa0An elephant standing in the dry grass at the edge of water.<|endofchunk|>',\n",
       " '\\xa0Two women walking down a busy sidewalk under a green umbrella. |<endofchunk>|',\n",
       " '「The King of Pop」 is a suitcase that is used as a stage prop.<|endofchunk|>',\n",
       " '\\tA man and a dog in a park. |<endofchunk>|  Output:',\n",
       " '\\xa0A man standing on the side of a road with bags of luggage. |<endofchunk',\n",
       " '\\xa0A polar bear standing on a rock in the water. |<endofchunk>| ',\n",
       " '\\xa0A zebra stands in the grass.<|endofchunk|>',\n",
       " '\\xa0A herd of zebra grazing in the grass. |<endofchunk>|  Output:',\n",
       " '\\xa0A zebra standing in a field of grass. |<endofchunk>|  Output:',\n",
       " '\\tTwo zebras fighting in the dust. |<endofchunk>|  Output: Two',\n",
       " '\\xa0A horse and a jockey are racing against each other. |<endofchunk>|',\n",
       " '\\xa0A horse drawn trolley on a track. |<endofchunk>|  Output',\n",
       " '\\xa0A white horse standing in front of a fence. |<endofchunk>|  Output',\n",
       " '\\xa0A man in a blue jacket is walking through the snow. |<endofchunk>|',\n",
       " '\\xa0A pitcher throwing a baseball. |<endofchunk>|  Output: A baseball player',\n",
       " '\\xa0A girl skiing down a snow covered slope. |<endofchunk>|  Output:',\n",
       " 'icing, chocolate chips, and sprinkles sit on a blue plate. |<endofchunk>',\n",
       " '\\xa0A plate of noodles with vegetables and broccoli. |<endofchunk>|  Output',\n",
       " '\\xa0A skateboarder riding a skateboard down a street. |<endofchunk>|',\n",
       " '\\xa0A young boy skateboarding on a concrete skateboard ramp. |<endofchunk>|',\n",
       " '\\xa0A skateboarder with a long shadow. |<endofchunk>|  Output:',\n",
       " '\\xa0A skateboarder in mid-air. |<endofchunk>|  Output:',\n",
       " '\\xa0A young man wearing a t-shirt with the words \"AC/DC at your service\"',\n",
       " '\\xa0A picture of a person eating a dozen donuts. |<endofchunk>| ',\n",
       " '\\xa0A man eating a donut. |<endofchunk>|  Output: A man',\n",
       " 'iced donuts with sprinkles. |<endofchunk>|  Output: A close up',\n",
       " '\\xa0Three women standing in a bakery with bagels behind them. |<endofchunk>',\n",
       " '\\xa0A tray of donuts on a baking sheet.<|endofchunk|>',\n",
       " '\\xa0A sandwich with avocado, salmon and bacon. |<endofchunk>|  Output',\n",
       " '\\xa0A person holding a doughnut with a bloodshot eye. |<endofchunk>|',\n",
       " '\\xa0A man playing a game of pickleball.<|endofchunk|>',\n",
       " '\\xa0People watch the sunset on the beach. |<endofchunk>|  Output: A',\n",
       " '\\xa0A cake with a blue ribbon and a blue and white flower. |<endofchunk>',\n",
       " '\\xa0A group of men playing a game of soccer.<|endofchunk|>',\n",
       " '\\xa0A woman blowing out the candles on a birthday cake. |<endofchunk>| ',\n",
       " '\\xa0A room with a bed, a table, and a chest. |<endofchunk>',\n",
       " '\\xa0The bedroom is a mess. |<endofchunk>|  Output: The bedroom is',\n",
       " '\\xa0A baby boy eating a cake. |<endofchunk>|  Output: A baby',\n",
       " '\\xa0A young boy playing a game of soccer. |<endofchunk>|  Output:',\n",
       " '\\xa0A bed with mosquito netting hanging around it.<|endofchunk|>',\n",
       " '\\xa0A patient lying in a hospital bed. |<endofchunk>|  Output: A',\n",
       " '\\xa0A pizza on a pizza stone. |<endofchunk>|  Output: A pizza',\n",
       " '\\xa0A surfer in a black wetsuit rides a wave. |<endofchunk>',\n",
       " '\\xa0A little boy sleeping in a bed.<|endofchunk|>',\n",
       " '\\xa0A picture frame with a picture of a couple on it.<|endofchunk|>',\n",
       " '\\xa0A man and woman stand next to a mobile bar. |<endofchunk>| ',\n",
       " '\\xa0A young girl eating a slice of pizza. |<endofchunk>|  Output:',\n",
       " '\\xa0A mirror in a bedroom. |<endofchunk>|  Output: A mirror in',\n",
       " '\\xa0A slice of pizza with a sauce on it. |<endofchunk>|  Output',\n",
       " '\\xa0A tennis player serves the ball. |<endofchunk>|  Output: A tennis']"
      ]
     },
     "execution_count": 61,
     "metadata": {},
     "output_type": "execute_result"
    }
   ],
   "source": [
    "outputs"
   ]
  },
  {
   "cell_type": "code",
   "execution_count": 51,
   "id": "a2a7a343-0462-4c09-8016-9b2628a7c80e",
   "metadata": {},
   "outputs": [
    {
     "name": "stderr",
     "output_type": "stream",
     "text": [
      "Setting `pad_token_id` to `eos_token_id`:None for open-end generation.\n"
     ]
    },
    {
     "data": {
      "text/plain": [
       "'<image> Output: \\xa0The kitchen is a large room with a large stove, a large sink, and a large counter'"
      ]
     },
     "execution_count": 51,
     "metadata": {},
     "output_type": "execute_result"
    }
   ],
   "source": [
    "get_output(val_dataset[0],0)"
   ]
  },
  {
   "cell_type": "code",
   "execution_count": 48,
   "id": "353e48d2-fecb-465f-835a-a957ce47565c",
   "metadata": {
    "scrolled": true
   },
   "outputs": [
    {
     "name": "stderr",
     "output_type": "stream",
     "text": [
      "Setting `pad_token_id` to `eos_token_id`:None for open-end generation.\n"
     ]
    },
    {
     "data": {
      "text/plain": [
       "'<image> Output: A man putting food into a pot in a kitchen. |<endofchunk>| <image> Output: A white refrigerator freezer sitting next to a stone wall. |<endofchunk>| <image> Output: \\xa0A cook preparing food in a kitchen. |<endofchunk>|  Output: A'"
      ]
     },
     "execution_count": 48,
     "metadata": {},
     "output_type": "execute_result"
    }
   ],
   "source": [
    "get_output(val_dataset[0])"
   ]
  },
  {
   "cell_type": "code",
   "execution_count": 49,
   "id": "0702dab3-f2e2-4677-be9c-85f1142a6104",
   "metadata": {},
   "outputs": [
    {
     "name": "stderr",
     "output_type": "stream",
     "text": [
      "Setting `pad_token_id` to `eos_token_id`:None for open-end generation.\n"
     ]
    },
    {
     "data": {
      "text/plain": [
       "'<image> Output: A room filled with lots of pottery and a window. |<endofchunk>| <image> Output: A run down kitchen filled with lots of construction equipment. |<endofchunk>| <image> Output: A man putting food into a pot in a kitchen. |<endofchunk>| <image> Output: A white refrigerator freezer sitting next to a stone wall. |<endofchunk>| <image> Output: \\xa0A kitchen filled with lots of pots and pans. |<endofchunk>|  Output'"
      ]
     },
     "execution_count": 49,
     "metadata": {},
     "output_type": "execute_result"
    }
   ],
   "source": [
    "get_output(val_dataset[0],4)"
   ]
  },
  {
   "cell_type": "code",
   "execution_count": 55,
   "id": "456bf7aa-d75f-450d-afc9-01e12a137456",
   "metadata": {},
   "outputs": [
    {
     "name": "stderr",
     "output_type": "stream",
     "text": [
      "Setting `pad_token_id` to `eos_token_id`:None for open-end generation.\n"
     ]
    },
    {
     "data": {
      "text/plain": [
       "'<image> Output: A close up of a pizza pie on a paper plate. |<endofchunk>| <image> Output: there is a large book shelf in this living room |<endofchunk>| <image> Output: A white bus parked in front of a  building. |<endofchunk>| <image> Output: A giraffe in the middle of a field looking astute |<endofchunk>| <image> Output: \\xa0A cook in a kitchen in a museum. |<endofchunk>|  Output:'"
      ]
     },
     "execution_count": 55,
     "metadata": {},
     "output_type": "execute_result"
    }
   ],
   "source": [
    "get_output(val_dataset[0],4, True)"
   ]
  },
  {
   "cell_type": "code",
   "execution_count": 50,
   "id": "a784c965-56f1-44f8-94b8-d9943d6d48bc",
   "metadata": {},
   "outputs": [
    {
     "name": "stderr",
     "output_type": "stream",
     "text": [
      "Setting `pad_token_id` to `eos_token_id`:None for open-end generation.\n"
     ]
    },
    {
     "data": {
      "text/plain": [
       "'<image> Output: A very nice looking dining table by a bright window. |<endofchunk>| <image> Output: A building has tan wood floors and wooden walls. |<endofchunk>| <image> Output: A lady and a small girl in a room full of things. |<endofchunk>| <image> Output: A kitchen with a center island covered in clutter. |<endofchunk>| <image> Output: A room filled with lots of pottery and a window. |<endofchunk>| <image> Output: A run down kitchen filled with lots of construction equipment. |<endofchunk>| <image> Output: A man putting food into a pot in a kitchen. |<endofchunk>| <image> Output: A white refrigerator freezer sitting next to a stone wall. |<endofchunk>| <image> Output: \\xa0A kitchen with a stove and a stove top. |<endofchunk>|  Output'"
      ]
     },
     "execution_count": 50,
     "metadata": {},
     "output_type": "execute_result"
    }
   ],
   "source": [
    "get_output(val_dataset[0],8)"
   ]
  },
  {
   "cell_type": "code",
   "execution_count": 20,
   "id": "99608477-4df2-4534-9c9d-415eb9a10fb2",
   "metadata": {},
   "outputs": [
    {
     "data": {
      "text/plain": [
       "{'image': <PIL.JpegImagePlugin.JpegImageFile image mode=RGB size=640x427>,\n",
       " 'caption': 'A man is in a kitchen making pizzas.',\n",
       " 'image_id': 397133}"
      ]
     },
     "execution_count": 20,
     "metadata": {},
     "output_type": "execute_result"
    }
   ],
   "source": [
    "val_dataset[0]"
   ]
  },
  {
   "cell_type": "code",
   "execution_count": 36,
   "id": "9cba0002-b997-48f1-9823-78cdfa44e166",
   "metadata": {},
   "outputs": [
    {
     "data": {
      "text/plain": [
       "[[{'image': <PIL.JpegImagePlugin.JpegImageFile image mode=RGB size=640x427>,\n",
       "   'caption': 'A room filled with lots of pottery and a window.',\n",
       "   'image_id': 339830},\n",
       "  {'image': <PIL.JpegImagePlugin.JpegImageFile image mode=RGB size=640x427>,\n",
       "   'caption': 'A run down kitchen filled with lots of construction equipment.',\n",
       "   'image_id': 326936},\n",
       "  {'image': <PIL.JpegImagePlugin.JpegImageFile image mode=RGB size=640x480>,\n",
       "   'caption': 'A man putting food into a pot in a kitchen.',\n",
       "   'image_id': 218674},\n",
       "  {'image': <PIL.JpegImagePlugin.JpegImageFile image mode=RGB size=640x480>,\n",
       "   'caption': 'A white refrigerator freezer sitting next to a stone wall.',\n",
       "   'image_id': 465374}]]"
      ]
     },
     "execution_count": 36,
     "metadata": {},
     "output_type": "execute_result"
    }
   ],
   "source": [
    "relevant = retriever.find([val_dataset[0]['image']], 4)\n",
    "relevant"
   ]
  },
  {
   "cell_type": "code",
   "execution_count": 65,
   "id": "1dd3b138-e86e-47f1-b1b8-f3845eabb8ab",
   "metadata": {},
   "outputs": [
    {
     "name": "stdout",
     "output_type": "stream",
     "text": [
      "/home/asureddy_umass_edu/cs682/flamingo\n"
     ]
    }
   ],
   "source": [
    "!pwd"
   ]
  },
  {
   "cell_type": "code",
   "execution_count": null,
   "id": "957543fa-b858-4057-82e6-d23c96da8a52",
   "metadata": {
    "scrolled": true
   },
   "outputs": [
    {
     "name": "stdout",
     "output_type": "stream",
     "text": [
      "/home/asureddy_umass_edu/.conda/envs/open-flamingo/lib/python3.9/site-packages/transformers/utils/hub.py:128: FutureWarning: Using `TRANSFORMERS_CACHE` is deprecated and will be removed in v5 of Transformers. Use `HF_HOME` instead.\n",
      "  warnings.warn(\n",
      "A new version of the following files was downloaded from https://huggingface.co/anas-awadalla/mpt-1b-redpajama-200b:\n",
      "- configuration_mosaic_gpt.py\n",
      ". Make sure to double-check they do not contain any added malicious code. To avoid downloading new versions of the code file, you can pin a revision.\n",
      "A new version of the following files was downloaded from https://huggingface.co/anas-awadalla/mpt-1b-redpajama-200b:\n",
      "- mosaic_gpt.py\n",
      ". Make sure to double-check they do not contain any added malicious code. To avoid downloading new versions of the code file, you can pin a revision.\n",
      "/home/asureddy_umass_edu/.conda/envs/open-flamingo/lib/python3.9/site-packages/torchvision/datapoints/__init__.py:12: UserWarning: The torchvision.datapoints and torchvision.transforms.v2 namespaces are still Beta. While we do not expect major breaking changes, some APIs may still change according to user feedback. Please submit any feedback you may have in this issue: https://github.com/pytorch/vision/issues/6753, and you can also check out https://github.com/pytorch/vision/issues/7319 to learn more about the APIs that we suspect might involve future changes. You can silence this warning by calling torchvision.disable_beta_transforms_warning().\n",
      "  warnings.warn(_BETA_TRANSFORMS_WARNING)\n",
      "/home/asureddy_umass_edu/.conda/envs/open-flamingo/lib/python3.9/site-packages/torchvision/transforms/v2/__init__.py:54: UserWarning: The torchvision.datapoints and torchvision.transforms.v2 namespaces are still Beta. While we do not expect major breaking changes, some APIs may still change according to user feedback. Please submit any feedback you may have in this issue: https://github.com/pytorch/vision/issues/6753, and you can also check out https://github.com/pytorch/vision/issues/7319 to learn more about the APIs that we suspect might involve future changes. You can silence this warning by calling torchvision.disable_beta_transforms_warning().\n",
      "  warnings.warn(_BETA_TRANSFORMS_WARNING)\n",
      "/home/asureddy_umass_edu/.conda/envs/open-flamingo/lib/python3.9/site-packages/torch/_utils.py:776: UserWarning: TypedStorage is deprecated. It will be removed in the future and UntypedStorage will be the only storage class. This should only matter to you if you are using storages directly.  To access UntypedStorage directly, use tensor.untyped_storage() instead of tensor.storage()\n",
      "  return self.fget.__get__(instance, owner)()\n",
      "/scratch/workspace/asureddy_umass_edu-llm_alignment/hf-cache/modules/transformers_modules/anas-awadalla/mpt-1b-redpajama-200b/50d6bc94e17812873f39c36c5f815263fa71fb80/attention.py:289: UserWarning: Using `attn_impl: torch`. If your model does not use `alibi` or `prefix_lm` we recommend using `attn_impl: flash` otherwise we recommend using `attn_impl: triton`.\n",
      "  warnings.warn(\n",
      "You are using config.init_device='cpu', but you can also use config.init_device=\"meta\" with Composer + FSDP for fast initialization.\n",
      "Flamingo model initialized with 1046992944 trainable parameters\n",
      "  0%|                                                   | 0/100 [00:00<?, ?it/s]<image> Output: A room filled with lots of pottery and a window. |<endofchunk>| <image> Output: A run down kitchen filled with lots of construction equipment. |<endofchunk>| <image> Output: A man putting food into a pot in a kitchen. |<endofchunk>| <image> Output: A white refrigerator freezer sitting next to a stone wall. |<endofchunk>| <image> Output: \n",
      "Setting `pad_token_id` to `eos_token_id`:None for open-end generation.\n",
      "  1%|▍                                          | 1/100 [00:02<03:19,  2.02s/it]<image> Output: A kitchen with wooden cabinets and cupboards with black counter tops. |<endofchunk>| <image> Output: a white counter a black oven a chair a light and a microwave |<endofchunk>| <image> Output: A wooden kitchen table with three wooden chairs. |<endofchunk>| <image> Output: A kitchen with a small dining table in the middle.  |<endofchunk>| <image> Output: \n",
      "Setting `pad_token_id` to `eos_token_id`:None for open-end generation.\n",
      "  2%|▊                                          | 2/100 [00:02<02:11,  1.34s/it]<image> Output: People sitting at outdoor tables on the street. |<endofchunk>| <image> Output: A woman with an umbrella is walking down the street |<endofchunk>| <image> Output: A man lying on a bench while holding his umbrella.  |<endofchunk>| <image> Output: a man sitting on top of a mini van with kids next to it  |<endofchunk>| <image> Output: \n",
      "Setting `pad_token_id` to `eos_token_id`:None for open-end generation.\n",
      "  3%|█▎                                         | 3/100 [00:03<01:42,  1.05s/it]<image> Output: Aerial trick performed by skateboarder at indoor park. |<endofchunk>| <image> Output: The audience waits to see if this skateboarder will land his jump. |<endofchunk>| <image> Output: A boy is jumping over a hurdle on his skateboard.  |<endofchunk>| <image> Output: A bunch of kids skateboarding off of various objects in a skate park. |<endofchunk>| <image> Output: \n",
      "Setting `pad_token_id` to `eos_token_id`:None for open-end generation.\n",
      "  4%|█▋                                         | 4/100 [00:04<01:46,  1.11s/it]<image> Output: Two bikes parked next to each other on a bike rack. |<endofchunk>| <image> Output: A bike parked against a parking meter near a street. |<endofchunk>| <image> Output: a gray bicycle is locked to some metal doors |<endofchunk>| <image> Output: Bike chained to pole along side a busy street |<endofchunk>| <image> Output: \n",
      "Setting `pad_token_id` to `eos_token_id`:None for open-end generation.\n"
     ]
    }
   ],
   "source": [
    "!python flamingo_e2e_captioning_coco.py --n_shots 4"
   ]
  },
  {
   "cell_type": "code",
   "execution_count": null,
   "id": "eb1ab208-f1a6-4630-aadc-8847ddabb698",
   "metadata": {},
   "outputs": [],
   "source": []
  }
 ],
 "metadata": {
  "kernelspec": {
   "display_name": "Python 3 (ipykernel)",
   "language": "python",
   "name": "python3"
  },
  "language_info": {
   "codemirror_mode": {
    "name": "ipython",
    "version": 3
   },
   "file_extension": ".py",
   "mimetype": "text/x-python",
   "name": "python",
   "nbconvert_exporter": "python",
   "pygments_lexer": "ipython3",
   "version": "3.9.20"
  }
 },
 "nbformat": 4,
 "nbformat_minor": 5
}
