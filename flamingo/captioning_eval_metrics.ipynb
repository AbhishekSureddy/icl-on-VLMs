{
 "cells": [
  {
   "cell_type": "code",
   "execution_count": 11,
   "id": "f27b1641-d17d-497a-89f8-56e7ea5b18d3",
   "metadata": {
    "scrolled": true
   },
   "outputs": [
    {
     "name": "stdout",
     "output_type": "stream",
     "text": [
      "Collecting httpx==0.24.0\n",
      "  Using cached httpx-0.24.0-py3-none-any.whl.metadata (8.1 kB)\n",
      "Collecting transformers==4.37.2\n",
      "  Using cached transformers-4.37.2-py3-none-any.whl.metadata (129 kB)\n",
      "Requirement already satisfied: certifi in /home/asureddy_umass_edu/.conda/envs/vila/lib/python3.10/site-packages (from httpx==0.24.0) (2024.8.30)\n",
      "Collecting httpcore<0.18.0,>=0.15.0 (from httpx==0.24.0)\n",
      "  Using cached httpcore-0.17.3-py3-none-any.whl.metadata (18 kB)\n",
      "Requirement already satisfied: idna in /home/asureddy_umass_edu/.conda/envs/vila/lib/python3.10/site-packages (from httpx==0.24.0) (3.10)\n",
      "Requirement already satisfied: sniffio in /home/asureddy_umass_edu/.conda/envs/vila/lib/python3.10/site-packages (from httpx==0.24.0) (1.3.1)\n",
      "Requirement already satisfied: filelock in /home/asureddy_umass_edu/.conda/envs/vila/lib/python3.10/site-packages (from transformers==4.37.2) (3.16.1)\n",
      "Requirement already satisfied: huggingface-hub<1.0,>=0.19.3 in /home/asureddy_umass_edu/.conda/envs/vila/lib/python3.10/site-packages (from transformers==4.37.2) (0.26.1)\n",
      "Requirement already satisfied: numpy>=1.17 in /home/asureddy_umass_edu/.conda/envs/vila/lib/python3.10/site-packages (from transformers==4.37.2) (1.26.0)\n",
      "Requirement already satisfied: packaging>=20.0 in /home/asureddy_umass_edu/.conda/envs/vila/lib/python3.10/site-packages (from transformers==4.37.2) (24.1)\n",
      "Requirement already satisfied: pyyaml>=5.1 in /home/asureddy_umass_edu/.conda/envs/vila/lib/python3.10/site-packages (from transformers==4.37.2) (6.0.2)\n",
      "Requirement already satisfied: regex!=2019.12.17 in /home/asureddy_umass_edu/.conda/envs/vila/lib/python3.10/site-packages (from transformers==4.37.2) (2024.9.11)\n",
      "Requirement already satisfied: requests in /home/asureddy_umass_edu/.conda/envs/vila/lib/python3.10/site-packages (from transformers==4.37.2) (2.32.3)\n",
      "Collecting tokenizers<0.19,>=0.14 (from transformers==4.37.2)\n",
      "  Using cached tokenizers-0.15.2-cp310-cp310-manylinux_2_17_x86_64.manylinux2014_x86_64.whl.metadata (6.7 kB)\n",
      "Requirement already satisfied: safetensors>=0.4.1 in /home/asureddy_umass_edu/.conda/envs/vila/lib/python3.10/site-packages (from transformers==4.37.2) (0.4.5)\n",
      "Requirement already satisfied: tqdm>=4.27 in /home/asureddy_umass_edu/.conda/envs/vila/lib/python3.10/site-packages (from transformers==4.37.2) (4.66.5)\n",
      "Requirement already satisfied: h11<0.15,>=0.13 in /home/asureddy_umass_edu/.conda/envs/vila/lib/python3.10/site-packages (from httpcore<0.18.0,>=0.15.0->httpx==0.24.0) (0.14.0)\n",
      "Requirement already satisfied: anyio<5.0,>=3.0 in /home/asureddy_umass_edu/.conda/envs/vila/lib/python3.10/site-packages (from httpcore<0.18.0,>=0.15.0->httpx==0.24.0) (4.6.2.post1)\n",
      "Requirement already satisfied: fsspec>=2023.5.0 in /home/asureddy_umass_edu/.conda/envs/vila/lib/python3.10/site-packages (from huggingface-hub<1.0,>=0.19.3->transformers==4.37.2) (2023.10.0)\n",
      "Requirement already satisfied: typing-extensions>=3.7.4.3 in /home/asureddy_umass_edu/.conda/envs/vila/lib/python3.10/site-packages (from huggingface-hub<1.0,>=0.19.3->transformers==4.37.2) (4.12.2)\n",
      "Requirement already satisfied: charset-normalizer<4,>=2 in /home/asureddy_umass_edu/.conda/envs/vila/lib/python3.10/site-packages (from requests->transformers==4.37.2) (3.4.0)\n",
      "Requirement already satisfied: urllib3<3,>=1.21.1 in /home/asureddy_umass_edu/.conda/envs/vila/lib/python3.10/site-packages (from requests->transformers==4.37.2) (2.2.3)\n",
      "Requirement already satisfied: exceptiongroup>=1.0.2 in /home/asureddy_umass_edu/.conda/envs/vila/lib/python3.10/site-packages (from anyio<5.0,>=3.0->httpcore<0.18.0,>=0.15.0->httpx==0.24.0) (1.2.2)\n",
      "Using cached httpx-0.24.0-py3-none-any.whl (75 kB)\n",
      "Using cached transformers-4.37.2-py3-none-any.whl (8.4 MB)\n",
      "Using cached httpcore-0.17.3-py3-none-any.whl (74 kB)\n",
      "Using cached tokenizers-0.15.2-cp310-cp310-manylinux_2_17_x86_64.manylinux2014_x86_64.whl (3.6 MB)\n",
      "Installing collected packages: httpcore, tokenizers, httpx, transformers\n",
      "  Attempting uninstall: httpcore\n",
      "    Found existing installation: httpcore 1.0.6\n",
      "    Uninstalling httpcore-1.0.6:\n",
      "      Successfully uninstalled httpcore-1.0.6\n",
      "  Attempting uninstall: tokenizers\n",
      "    Found existing installation: tokenizers 0.20.3\n",
      "    Uninstalling tokenizers-0.20.3:\n",
      "      Successfully uninstalled tokenizers-0.20.3\n",
      "\u001b[33m  WARNING: Failed to remove contents in a temporary directory '/home/asureddy_umass_edu/.conda/envs/vila/lib/python3.10/site-packages/~-kenizers'.\n",
      "  You can safely remove it manually.\u001b[0m\u001b[33m\n",
      "\u001b[0m  Attempting uninstall: httpx\n",
      "    Found existing installation: httpx 0.27.2\n",
      "    Uninstalling httpx-0.27.2:\n",
      "      Successfully uninstalled httpx-0.27.2\n",
      "  Attempting uninstall: transformers\n",
      "    Found existing installation: transformers 4.46.2\n",
      "    Uninstalling transformers-4.46.2:\n",
      "      Successfully uninstalled transformers-4.46.2\n",
      "\u001b[31mERROR: pip's dependency resolver does not currently take into account all the packages that are installed. This behaviour is the source of the following dependency conflicts.\n",
      "jupyterlab 4.2.5 requires httpx>=0.25.0, but you have httpx 0.24.0 which is incompatible.\n",
      "sentence-transformers 3.3.0 requires transformers<5.0.0,>=4.41.0, but you have transformers 4.37.2 which is incompatible.\u001b[0m\u001b[31m\n",
      "\u001b[0mSuccessfully installed httpcore-0.17.3 httpx-0.24.0 tokenizers-0.15.2 transformers-4.37.2\n"
     ]
    }
   ],
   "source": [
    "!pip install httpx==0.24.0 transformers==4.37.2"
   ]
  },
  {
   "cell_type": "code",
   "execution_count": 2,
   "id": "1da2290e-8f3c-4a06-97ef-e1ea63b3024c",
   "metadata": {
    "scrolled": true
   },
   "outputs": [
    {
     "name": "stdout",
     "output_type": "stream",
     "text": [
      "Collecting aac_metrics\n",
      "  Using cached aac-metrics-0.5.4.tar.gz (161 kB)\n",
      "  Installing build dependencies ... \u001b[?25ldone\n",
      "\u001b[?25h  Getting requirements to build wheel ... \u001b[?25ldone\n",
      "\u001b[?25h  Preparing metadata (pyproject.toml) ... \u001b[?25ldone\n",
      "\u001b[?25hRequirement already satisfied: numpy>=1.21.2 in /home/asureddy_umass_edu/.conda/envs/vila/lib/python3.10/site-packages (from aac_metrics) (1.26.0)\n",
      "Requirement already satisfied: packaging>=23 in /home/asureddy_umass_edu/.conda/envs/vila/lib/python3.10/site-packages (from aac_metrics) (24.1)\n",
      "Requirement already satisfied: pyyaml>=6.0 in /home/asureddy_umass_edu/.conda/envs/vila/lib/python3.10/site-packages (from aac_metrics) (6.0.2)\n",
      "Collecting sentence-transformers>=2.2.2 (from aac_metrics)\n",
      "  Downloading sentence_transformers-3.3.0-py3-none-any.whl.metadata (10 kB)\n",
      "Requirement already satisfied: torch>=1.10.1 in /home/asureddy_umass_edu/.conda/envs/vila/lib/python3.10/site-packages (from aac_metrics) (2.3.0)\n",
      "Collecting torchmetrics>=0.11.4 (from aac_metrics)\n",
      "  Downloading torchmetrics-1.6.0-py3-none-any.whl.metadata (20 kB)\n",
      "Requirement already satisfied: tqdm>=4.64.0 in /home/asureddy_umass_edu/.conda/envs/vila/lib/python3.10/site-packages (from aac_metrics) (4.66.5)\n",
      "Requirement already satisfied: transformers in /home/asureddy_umass_edu/.conda/envs/vila/lib/python3.10/site-packages (from aac_metrics) (4.37.2)\n",
      "Collecting transformers (from aac_metrics)\n",
      "  Downloading transformers-4.46.2-py3-none-any.whl.metadata (44 kB)\n",
      "Requirement already satisfied: scikit-learn in /home/asureddy_umass_edu/.conda/envs/vila/lib/python3.10/site-packages (from sentence-transformers>=2.2.2->aac_metrics) (1.2.2)\n",
      "Requirement already satisfied: scipy in /home/asureddy_umass_edu/.conda/envs/vila/lib/python3.10/site-packages (from sentence-transformers>=2.2.2->aac_metrics) (1.14.1)\n",
      "Requirement already satisfied: huggingface-hub>=0.20.0 in /home/asureddy_umass_edu/.conda/envs/vila/lib/python3.10/site-packages (from sentence-transformers>=2.2.2->aac_metrics) (0.26.1)\n",
      "Requirement already satisfied: Pillow in /home/asureddy_umass_edu/.conda/envs/vila/lib/python3.10/site-packages (from sentence-transformers>=2.2.2->aac_metrics) (11.0.0)\n",
      "Requirement already satisfied: filelock in /home/asureddy_umass_edu/.conda/envs/vila/lib/python3.10/site-packages (from torch>=1.10.1->aac_metrics) (3.16.1)\n",
      "Requirement already satisfied: typing-extensions>=4.8.0 in /home/asureddy_umass_edu/.conda/envs/vila/lib/python3.10/site-packages (from torch>=1.10.1->aac_metrics) (4.12.2)\n",
      "Requirement already satisfied: sympy in /home/asureddy_umass_edu/.conda/envs/vila/lib/python3.10/site-packages (from torch>=1.10.1->aac_metrics) (1.13.1)\n",
      "Requirement already satisfied: networkx in /home/asureddy_umass_edu/.conda/envs/vila/lib/python3.10/site-packages (from torch>=1.10.1->aac_metrics) (3.4.2)\n",
      "Requirement already satisfied: jinja2 in /home/asureddy_umass_edu/.conda/envs/vila/lib/python3.10/site-packages (from torch>=1.10.1->aac_metrics) (3.1.4)\n",
      "Requirement already satisfied: fsspec in /home/asureddy_umass_edu/.conda/envs/vila/lib/python3.10/site-packages (from torch>=1.10.1->aac_metrics) (2023.10.0)\n",
      "Requirement already satisfied: nvidia-cuda-nvrtc-cu12==12.1.105 in /home/asureddy_umass_edu/.conda/envs/vila/lib/python3.10/site-packages (from torch>=1.10.1->aac_metrics) (12.1.105)\n",
      "Requirement already satisfied: nvidia-cuda-runtime-cu12==12.1.105 in /home/asureddy_umass_edu/.conda/envs/vila/lib/python3.10/site-packages (from torch>=1.10.1->aac_metrics) (12.1.105)\n",
      "Requirement already satisfied: nvidia-cuda-cupti-cu12==12.1.105 in /home/asureddy_umass_edu/.conda/envs/vila/lib/python3.10/site-packages (from torch>=1.10.1->aac_metrics) (12.1.105)\n",
      "Requirement already satisfied: nvidia-cudnn-cu12==8.9.2.26 in /home/asureddy_umass_edu/.conda/envs/vila/lib/python3.10/site-packages (from torch>=1.10.1->aac_metrics) (8.9.2.26)\n",
      "Requirement already satisfied: nvidia-cublas-cu12==12.1.3.1 in /home/asureddy_umass_edu/.conda/envs/vila/lib/python3.10/site-packages (from torch>=1.10.1->aac_metrics) (12.1.3.1)\n",
      "Requirement already satisfied: nvidia-cufft-cu12==11.0.2.54 in /home/asureddy_umass_edu/.conda/envs/vila/lib/python3.10/site-packages (from torch>=1.10.1->aac_metrics) (11.0.2.54)\n",
      "Requirement already satisfied: nvidia-curand-cu12==10.3.2.106 in /home/asureddy_umass_edu/.conda/envs/vila/lib/python3.10/site-packages (from torch>=1.10.1->aac_metrics) (10.3.2.106)\n",
      "Requirement already satisfied: nvidia-cusolver-cu12==11.4.5.107 in /home/asureddy_umass_edu/.conda/envs/vila/lib/python3.10/site-packages (from torch>=1.10.1->aac_metrics) (11.4.5.107)\n",
      "Requirement already satisfied: nvidia-cusparse-cu12==12.1.0.106 in /home/asureddy_umass_edu/.conda/envs/vila/lib/python3.10/site-packages (from torch>=1.10.1->aac_metrics) (12.1.0.106)\n",
      "Requirement already satisfied: nvidia-nccl-cu12==2.20.5 in /home/asureddy_umass_edu/.conda/envs/vila/lib/python3.10/site-packages (from torch>=1.10.1->aac_metrics) (2.20.5)\n",
      "Requirement already satisfied: nvidia-nvtx-cu12==12.1.105 in /home/asureddy_umass_edu/.conda/envs/vila/lib/python3.10/site-packages (from torch>=1.10.1->aac_metrics) (12.1.105)\n",
      "Requirement already satisfied: triton==2.3.0 in /home/asureddy_umass_edu/.conda/envs/vila/lib/python3.10/site-packages (from torch>=1.10.1->aac_metrics) (2.3.0)\n",
      "Requirement already satisfied: nvidia-nvjitlink-cu12 in /home/asureddy_umass_edu/.conda/envs/vila/lib/python3.10/site-packages (from nvidia-cusolver-cu12==11.4.5.107->torch>=1.10.1->aac_metrics) (12.4.127)\n",
      "Collecting lightning-utilities>=0.8.0 (from torchmetrics>=0.11.4->aac_metrics)\n",
      "  Using cached lightning_utilities-0.11.8-py3-none-any.whl.metadata (5.2 kB)\n",
      "Requirement already satisfied: regex!=2019.12.17 in /home/asureddy_umass_edu/.conda/envs/vila/lib/python3.10/site-packages (from transformers->aac_metrics) (2024.9.11)\n",
      "Requirement already satisfied: requests in /home/asureddy_umass_edu/.conda/envs/vila/lib/python3.10/site-packages (from transformers->aac_metrics) (2.32.3)\n",
      "Requirement already satisfied: safetensors>=0.4.1 in /home/asureddy_umass_edu/.conda/envs/vila/lib/python3.10/site-packages (from transformers->aac_metrics) (0.4.5)\n",
      "Collecting tokenizers<0.21,>=0.20 (from transformers->aac_metrics)\n",
      "  Downloading tokenizers-0.20.3-cp310-cp310-manylinux_2_17_x86_64.manylinux2014_x86_64.whl.metadata (6.7 kB)\n",
      "Requirement already satisfied: setuptools in /home/asureddy_umass_edu/.conda/envs/vila/lib/python3.10/site-packages (from lightning-utilities>=0.8.0->torchmetrics>=0.11.4->aac_metrics) (75.1.0)\n",
      "Requirement already satisfied: MarkupSafe>=2.0 in /home/asureddy_umass_edu/.conda/envs/vila/lib/python3.10/site-packages (from jinja2->torch>=1.10.1->aac_metrics) (3.0.2)\n",
      "Requirement already satisfied: charset-normalizer<4,>=2 in /home/asureddy_umass_edu/.conda/envs/vila/lib/python3.10/site-packages (from requests->transformers->aac_metrics) (3.4.0)\n",
      "Requirement already satisfied: idna<4,>=2.5 in /home/asureddy_umass_edu/.conda/envs/vila/lib/python3.10/site-packages (from requests->transformers->aac_metrics) (3.10)\n",
      "Requirement already satisfied: urllib3<3,>=1.21.1 in /home/asureddy_umass_edu/.conda/envs/vila/lib/python3.10/site-packages (from requests->transformers->aac_metrics) (2.2.3)\n",
      "Requirement already satisfied: certifi>=2017.4.17 in /home/asureddy_umass_edu/.conda/envs/vila/lib/python3.10/site-packages (from requests->transformers->aac_metrics) (2024.8.30)\n",
      "Requirement already satisfied: joblib>=1.1.1 in /home/asureddy_umass_edu/.conda/envs/vila/lib/python3.10/site-packages (from scikit-learn->sentence-transformers>=2.2.2->aac_metrics) (1.4.2)\n",
      "Requirement already satisfied: threadpoolctl>=2.0.0 in /home/asureddy_umass_edu/.conda/envs/vila/lib/python3.10/site-packages (from scikit-learn->sentence-transformers>=2.2.2->aac_metrics) (3.5.0)\n",
      "Requirement already satisfied: mpmath<1.4,>=1.1.0 in /home/asureddy_umass_edu/.conda/envs/vila/lib/python3.10/site-packages (from sympy->torch>=1.10.1->aac_metrics) (1.3.0)\n",
      "Downloading sentence_transformers-3.3.0-py3-none-any.whl (268 kB)\n",
      "Downloading torchmetrics-1.6.0-py3-none-any.whl (926 kB)\n",
      "\u001b[2K   \u001b[90m━━━━━━━━━━━━━━━━━━━━━━━━━━━━━━━━━━━━━━━━\u001b[0m \u001b[32m926.4/926.4 kB\u001b[0m \u001b[31m15.4 MB/s\u001b[0m eta \u001b[36m0:00:00\u001b[0m\n",
      "\u001b[?25hDownloading transformers-4.46.2-py3-none-any.whl (10.0 MB)\n",
      "\u001b[2K   \u001b[90m━━━━━━━━━━━━━━━━━━━━━━━━━━━━━━━━━━━━━━━━\u001b[0m \u001b[32m10.0/10.0 MB\u001b[0m \u001b[31m69.6 MB/s\u001b[0m eta \u001b[36m0:00:00\u001b[0m\n",
      "\u001b[?25hUsing cached lightning_utilities-0.11.8-py3-none-any.whl (26 kB)\n",
      "Downloading tokenizers-0.20.3-cp310-cp310-manylinux_2_17_x86_64.manylinux2014_x86_64.whl (3.0 MB)\n",
      "\u001b[2K   \u001b[90m━━━━━━━━━━━━━━━━━━━━━━━━━━━━━━━━━━━━━━━━\u001b[0m \u001b[32m3.0/3.0 MB\u001b[0m \u001b[31m47.4 MB/s\u001b[0m eta \u001b[36m0:00:00\u001b[0m\n",
      "\u001b[?25hBuilding wheels for collected packages: aac_metrics\n",
      "  Building wheel for aac_metrics (pyproject.toml) ... \u001b[?25ldone\n",
      "\u001b[?25h  Created wheel for aac_metrics: filename=aac_metrics-0.5.4-py3-none-any.whl size=81165 sha256=a509289425f5ddf6dc2fc59851001909987e0b7c76bcdb22c73d075c36adafde\n",
      "  Stored in directory: /home/asureddy_umass_edu/.cache/pip/wheels/ec/3d/e2/1d7cc3036cd832bf4578448cb62aa3fcd2132a61edc2b95f8f\n",
      "Successfully built aac_metrics\n",
      "Installing collected packages: lightning-utilities, tokenizers, transformers, torchmetrics, sentence-transformers, aac_metrics\n",
      "  Attempting uninstall: tokenizers\n",
      "    Found existing installation: tokenizers 0.15.2\n",
      "    Uninstalling tokenizers-0.15.2:\n",
      "      Successfully uninstalled tokenizers-0.15.2\n",
      "\u001b[33m  WARNING: Failed to remove contents in a temporary directory '/home/asureddy_umass_edu/.conda/envs/vila/lib/python3.10/site-packages/~okenizers'.\n",
      "  You can safely remove it manually.\u001b[0m\u001b[33m\n",
      "\u001b[0m  Attempting uninstall: transformers\n",
      "    Found existing installation: transformers 4.37.2\n",
      "    Uninstalling transformers-4.37.2:\n",
      "      Successfully uninstalled transformers-4.37.2\n",
      "\u001b[31mERROR: pip's dependency resolver does not currently take into account all the packages that are installed. This behaviour is the source of the following dependency conflicts.\n",
      "vila 1.0.0 requires httpx==0.24.0, but you have httpx 0.27.2 which is incompatible.\n",
      "vila 1.0.0 requires transformers==4.37.2, but you have transformers 4.46.2 which is incompatible.\u001b[0m\u001b[31m\n",
      "\u001b[0mSuccessfully installed aac_metrics-0.5.4 lightning-utilities-0.11.8 sentence-transformers-3.3.0 tokenizers-0.20.3 torchmetrics-1.6.0 transformers-4.46.2\n"
     ]
    }
   ],
   "source": [
    "! pip install aac_metrics"
   ]
  },
  {
   "cell_type": "code",
   "execution_count": 3,
   "id": "efd602b2-deed-43cc-9fb6-9bd9ca9cca49",
   "metadata": {
    "scrolled": true
   },
   "outputs": [
    {
     "name": "stderr",
     "output_type": "stream",
     "text": [
      "/home/asureddy_umass_edu/.conda/envs/vila/lib/python3.10/site-packages/transformers/utils/hub.py:128: FutureWarning: Using `TRANSFORMERS_CACHE` is deprecated and will be removed in v5 of Transformers. Use `HF_HOME` instead.\n",
      "  warnings.warn(\n"
     ]
    }
   ],
   "source": [
    "import json\n",
    "import pandas as pd\n",
    "\n",
    "from tqdm import tqdm\n",
    "from eval_datasets import CaptionDataset\n",
    "from aac_metrics.functional import cider_d, bleu_4, rouge_l\n",
    "from aac_metrics.utils.tokenization import preprocess_mono_sents, preprocess_mult_sents\n",
    "\n",
    "\n",
    "def get_metrics_captioning(res_file, annotations_path, image_dir_path):\n",
    "    with open(res_file) as f:\n",
    "        data = json.load(f)\n",
    "    \n",
    "    model_outputs = []\n",
    "    for item in data[\"outputs\"]:\n",
    "        model_outputs.append( item)\n",
    "    \n",
    "    dataset = CaptionDataset(image_dir_path, annotations_path)\n",
    "    hyps, refs = [], []\n",
    "    for k,v in enumerate(model_outputs):\n",
    "        hyps.append(v.replace('\\n',' '))\n",
    "        refs.append([rf.replace('\\n',' ') for rf in dataset.get_item_with_idx(k)[\"captions\"]])\n",
    "\n",
    "    candidates = preprocess_mono_sents(hyps)\n",
    "    mult_references = preprocess_mult_sents(refs)\n",
    "    \n",
    "    cider_scores, _ = cider_d(candidates, mult_references)\n",
    "    bleu_scores, _  = bleu_4(candidates, mult_references)\n",
    "    rouge_scores, _  = rouge_l(candidates, mult_references)\n",
    "    print(\"Corpus BLEU Score:\", bleu_scores)\n",
    "    print(\"Corpus ROUGE Scores:\", rouge_scores)\n",
    "    print(\"Corpus Cider Scores:\", cider_scores)\n",
    "    scores = {\n",
    "        'cider_d': cider_scores['cider_d'].item(),\n",
    "        'bleu_4': bleu_scores['bleu_4'].item(),\n",
    "        'rouge_l': rouge_scores['rouge_l'].item()\n",
    "    }\n",
    "    return scores"
   ]
  },
  {
   "cell_type": "markdown",
   "id": "9e6f0cdc-0cd1-4df9-99a8-2d7d79f1ef31",
   "metadata": {},
   "source": [
    "### Random In-context demonstrations"
   ]
  },
  {
   "cell_type": "code",
   "execution_count": 4,
   "id": "c36c88a9-3fb3-48bd-8648-2a2740737a17",
   "metadata": {},
   "outputs": [
    {
     "name": "stdout",
     "output_type": "stream",
     "text": [
      "Corpus BLEU Score: {'bleu_4': tensor(0.0324, dtype=torch.float64)}\n",
      "Corpus ROUGE Scores: {'rouge_l': tensor(0.2225, dtype=torch.float64)}\n",
      "Corpus Cider Scores: {'cider_d': tensor(0.1288, dtype=torch.float64)}\n"
     ]
    }
   ],
   "source": [
    "res_file = \"/home/asureddy_umass_edu/cs682/flamingo/results/captioning/OpenFlamingo-3B-vitl-mpt1b_0-shot_random-examples.json\"\n",
    "annotations_path = \"../dataset/annotations/captions_val2017.json\"\n",
    "image_dir_path = \"/scratch/workspace/asureddy_umass_edu-llm_alignment/dataset/val2017\"\n",
    "scores = get_metrics_captioning(res_file, annotations_path, image_dir_path)"
   ]
  },
  {
   "cell_type": "code",
   "execution_count": 16,
   "id": "32c41c5d-d5dd-4019-b965-abdc10b2e875",
   "metadata": {},
   "outputs": [
    {
     "data": {
      "text/plain": [
       "{'cider_d': 0.1288488658011192,\n",
       " 'bleu_4': 0.03241325450792217,\n",
       " 'rouge_l': 0.2224781488994907}"
      ]
     },
     "execution_count": 16,
     "metadata": {},
     "output_type": "execute_result"
    }
   ],
   "source": [
    "scores"
   ]
  },
  {
   "cell_type": "code",
   "execution_count": 3,
   "id": "78fcf9a8-037c-471d-913c-64e0026c1f57",
   "metadata": {},
   "outputs": [
    {
     "name": "stdout",
     "output_type": "stream",
     "text": [
      "Corpus BLEU Score: {'bleu_4': tensor(0.0945, dtype=torch.float64)}\n",
      "Corpus ROUGE Scores: {'rouge_l': tensor(0.3238, dtype=torch.float64)}\n",
      "Corpus Cider Scores: {'cider_d': tensor(0.2331, dtype=torch.float64)}\n"
     ]
    }
   ],
   "source": [
    "res_file = \"/home/asureddy_umass_edu/cs682/flamingo/results/captioning/OpenFlamingo-3B-vitl-mpt1b_1-shot_random-examples.json\"\n",
    "annotations_path = \"../dataset/annotations/captions_val2017.json\"\n",
    "image_dir_path = \"/scratch/workspace/asureddy_umass_edu-llm_alignment/dataset/val2017\"\n",
    "get_metrics_captioning(res_file, annotations_path, image_dir_path)"
   ]
  },
  {
   "cell_type": "code",
   "execution_count": 11,
   "id": "6006c14b-9fdb-42a9-a453-9dd842099b6e",
   "metadata": {},
   "outputs": [
    {
     "name": "stdout",
     "output_type": "stream",
     "text": [
      "Corpus BLEU Score: {'bleu_4': tensor(0.1307, dtype=torch.float64)}\n",
      "Corpus ROUGE Scores: {'rouge_l': tensor(0.3844, dtype=torch.float64)}\n",
      "Corpus Cider Scores: {'cider_d': tensor(0.3318, dtype=torch.float64)}\n"
     ]
    }
   ],
   "source": [
    "res_file = \"/home/asureddy_umass_edu/cs682/flamingo/results/captioning/OpenFlamingo-3B-vitl-mpt1b_2-shot_random-examples.json\"\n",
    "annotations_path = \"../dataset/annotations/captions_val2017.json\"\n",
    "image_dir_path = \"/scratch/workspace/asureddy_umass_edu-llm_alignment/dataset/val2017\"\n",
    "get_metrics_captioning(res_file, annotations_path, image_dir_path)"
   ]
  },
  {
   "cell_type": "code",
   "execution_count": 9,
   "id": "f0478c13-daee-4658-8768-a69c256b7fbb",
   "metadata": {},
   "outputs": [
    {
     "name": "stdout",
     "output_type": "stream",
     "text": [
      "Corpus BLEU Score: {'bleu_4': tensor(0.1440, dtype=torch.float64)}\n",
      "Corpus ROUGE Scores: {'rouge_l': tensor(0.3961, dtype=torch.float64)}\n",
      "Corpus Cider Scores: {'cider_d': tensor(0.3558, dtype=torch.float64)}\n"
     ]
    }
   ],
   "source": [
    "res_file = \"/home/asureddy_umass_edu/cs682/flamingo/results/captioning/OpenFlamingo-3B-vitl-mpt1b_4-shot_random-examples.json\"\n",
    "annotations_path = \"../dataset/annotations/captions_val2017.json\"\n",
    "image_dir_path = \"/scratch/workspace/asureddy_umass_edu-llm_alignment/dataset/val2017\"\n",
    "get_metrics_captioning(res_file, annotations_path, image_dir_path)"
   ]
  },
  {
   "cell_type": "code",
   "execution_count": 12,
   "id": "a3c8bd87-4851-452f-a38f-19777348ad82",
   "metadata": {},
   "outputs": [
    {
     "name": "stdout",
     "output_type": "stream",
     "text": [
      "Corpus BLEU Score: {'bleu_4': tensor(0.1539, dtype=torch.float64)}\n",
      "Corpus ROUGE Scores: {'rouge_l': tensor(0.4065, dtype=torch.float64)}\n",
      "Corpus Cider Scores: {'cider_d': tensor(0.3749, dtype=torch.float64)}\n"
     ]
    }
   ],
   "source": [
    "res_file = \"/home/asureddy_umass_edu/cs682/flamingo/results/captioning/OpenFlamingo-3B-vitl-mpt1b_8-shot_random-examples.json\"\n",
    "annotations_path = \"../dataset/annotations/captions_val2017.json\"\n",
    "image_dir_path = \"/scratch/workspace/asureddy_umass_edu-llm_alignment/dataset/val2017\"\n",
    "get_metrics_captioning(res_file, annotations_path, image_dir_path)"
   ]
  },
  {
   "cell_type": "code",
   "execution_count": 5,
   "id": "04f9c9d0-f372-410e-b2dc-4607cb228ea9",
   "metadata": {},
   "outputs": [],
   "source": [
    "# random examples\n",
    "annotations_path = \"../dataset/annotations/captions_val2017.json\"\n",
    "image_dir_path = \"/scratch/workspace/asureddy_umass_edu-llm_alignment/dataset/val2017\"\n",
    "res_prefix = \"/home/asureddy_umass_edu/cs682/flamingo/results/captioning/OpenFlamingo-3B-vitl-mpt1b_\"\n",
    "def make_captioning_results_csv(res_prefix, shots = [0,2,4,8], prefix=\"shot_random-examples.json\"):\n",
    "    results = []\n",
    "    for shot in tqdm(shots):\n",
    "        res_file = f\"{res_prefix}{shot}-{prefix}\"\n",
    "        print(res_file)\n",
    "        res = get_metrics_captioning(res_file, annotations_path, image_dir_path)\n",
    "        res[\"shots\"] = shot\n",
    "        results.append(res)\n",
    "    return results"
   ]
  },
  {
   "cell_type": "code",
   "execution_count": 20,
   "id": "b805d780-4758-4b42-92cb-acaf8d97a874",
   "metadata": {},
   "outputs": [
    {
     "data": {
      "text/plain": [
       "[{'cider_d': 0.1288488658011192,\n",
       "  'bleu_4': 0.03241325450792217,\n",
       "  'rouge_l': 0.2224781488994907,\n",
       "  'shots': 0},\n",
       " {'cider_d': 0.3318401536013735,\n",
       "  'bleu_4': 0.13072228143017525,\n",
       "  'rouge_l': 0.3844033588177514,\n",
       "  'shots': 2},\n",
       " {'cider_d': 0.35578189093092394,\n",
       "  'bleu_4': 0.14402223225927346,\n",
       "  'rouge_l': 0.39609784709364887,\n",
       "  'shots': 4},\n",
       " {'cider_d': 0.3749366642092328,\n",
       "  'bleu_4': 0.15393822428375473,\n",
       "  'rouge_l': 0.40647422579440007,\n",
       "  'shots': 8}]"
      ]
     },
     "execution_count": 20,
     "metadata": {},
     "output_type": "execute_result"
    }
   ],
   "source": [
    "results"
   ]
  },
  {
   "cell_type": "code",
   "execution_count": 22,
   "id": "fa1e9a85-bab0-4279-9c40-b6a90ee62d81",
   "metadata": {},
   "outputs": [],
   "source": [
    "res_df = pd.DataFrame(results)"
   ]
  },
  {
   "cell_type": "code",
   "execution_count": 25,
   "id": "e0d2037f-9663-44e2-bf7a-4a0ebf1709ee",
   "metadata": {},
   "outputs": [],
   "source": [
    "res_df.to_csv(res_prefix+\"random.csv\",index=False)"
   ]
  },
  {
   "cell_type": "code",
   "execution_count": 8,
   "id": "2cb8072f-14c3-4e0f-9221-638a185b25d1",
   "metadata": {},
   "outputs": [
    {
     "name": "stderr",
     "output_type": "stream",
     "text": [
      "  0%|                                                                                                                                                                                 | 0/4 [00:00<?, ?it/s]"
     ]
    },
    {
     "name": "stdout",
     "output_type": "stream",
     "text": [
      "/home/asureddy_umass_edu/cs682/VILA/results/captioning_detailed/VILA1.5-13b_0-shot_random-examples.json\n"
     ]
    },
    {
     "name": "stderr",
     "output_type": "stream",
     "text": [
      " 25%|██████████████████████████████████████████▎                                                                                                                              | 1/4 [00:01<00:03,  1.28s/it]"
     ]
    },
    {
     "name": "stdout",
     "output_type": "stream",
     "text": [
      "Corpus BLEU Score: {'bleu_4': tensor(0.2424, dtype=torch.float64)}\n",
      "Corpus ROUGE Scores: {'rouge_l': tensor(0.5209, dtype=torch.float64)}\n",
      "Corpus Cider Scores: {'cider_d': tensor(0.9726, dtype=torch.float64)}\n",
      "/home/asureddy_umass_edu/cs682/VILA/results/captioning_detailed/VILA1.5-13b_2-shot_random-examples.json\n"
     ]
    },
    {
     "name": "stderr",
     "output_type": "stream",
     "text": [
      " 50%|████████████████████████████████████████████████████████████████████████████████████▌                                                                                    | 2/4 [00:02<00:02,  1.12s/it]"
     ]
    },
    {
     "name": "stdout",
     "output_type": "stream",
     "text": [
      "Corpus BLEU Score: {'bleu_4': tensor(0.2714, dtype=torch.float64)}\n",
      "Corpus ROUGE Scores: {'rouge_l': tensor(0.5483, dtype=torch.float64)}\n",
      "Corpus Cider Scores: {'cider_d': tensor(1.1383, dtype=torch.float64)}\n",
      "/home/asureddy_umass_edu/cs682/VILA/results/captioning_detailed/VILA1.5-13b_4-shot_random-examples.json\n"
     ]
    },
    {
     "name": "stderr",
     "output_type": "stream",
     "text": [
      " 75%|██████████████████████████████████████████████████████████████████████████████████████████████████████████████████████████████▊                                          | 3/4 [00:03<00:01,  1.06s/it]"
     ]
    },
    {
     "name": "stdout",
     "output_type": "stream",
     "text": [
      "Corpus BLEU Score: {'bleu_4': tensor(0.3424, dtype=torch.float64)}\n",
      "Corpus ROUGE Scores: {'rouge_l': tensor(0.5656, dtype=torch.float64)}\n",
      "Corpus Cider Scores: {'cider_d': tensor(1.2858, dtype=torch.float64)}\n",
      "/home/asureddy_umass_edu/cs682/VILA/results/captioning_detailed/VILA1.5-13b_8-shot_random-examples.json\n"
     ]
    },
    {
     "name": "stderr",
     "output_type": "stream",
     "text": [
      "100%|█████████████████████████████████████████████████████████████████████████████████████████████████████████████████████████████████████████████████████████████████████████| 4/4 [00:04<00:00,  1.07s/it]"
     ]
    },
    {
     "name": "stdout",
     "output_type": "stream",
     "text": [
      "Corpus BLEU Score: {'bleu_4': tensor(0.3146, dtype=torch.float64)}\n",
      "Corpus ROUGE Scores: {'rouge_l': tensor(0.5678, dtype=torch.float64)}\n",
      "Corpus Cider Scores: {'cider_d': tensor(1.2519, dtype=torch.float64)}\n"
     ]
    },
    {
     "name": "stderr",
     "output_type": "stream",
     "text": [
      "\n"
     ]
    }
   ],
   "source": [
    "res_prefix = \"/home/asureddy_umass_edu/cs682/VILA/results/captioning_detailed/VILA1.5-13b_\"\n",
    "results_vila = make_captioning_results_csv(res_prefix, shots = [0,2,4,8], prefix=\"shot_random-examples.json\")"
   ]
  },
  {
   "cell_type": "code",
   "execution_count": 7,
   "id": "a0e7f59f-160c-4904-bba7-406e02814120",
   "metadata": {},
   "outputs": [
    {
     "name": "stderr",
     "output_type": "stream",
     "text": [
      "  0%|                                                                                                                                                                                 | 0/4 [00:00<?, ?it/s]"
     ]
    },
    {
     "name": "stdout",
     "output_type": "stream",
     "text": [
      "/home/asureddy_umass_edu/cs682/VILA/results/captioning/VILA1.5-13b_0-shot.json\n"
     ]
    },
    {
     "name": "stderr",
     "output_type": "stream",
     "text": [
      " 25%|██████████████████████████████████████████▎                                                                                                                              | 1/4 [00:01<00:03,  1.21s/it]"
     ]
    },
    {
     "name": "stdout",
     "output_type": "stream",
     "text": [
      "Corpus BLEU Score: {'bleu_4': tensor(0.2422, dtype=torch.float64)}\n",
      "Corpus ROUGE Scores: {'rouge_l': tensor(0.5221, dtype=torch.float64)}\n",
      "Corpus Cider Scores: {'cider_d': tensor(0.9784, dtype=torch.float64)}\n",
      "/home/asureddy_umass_edu/cs682/VILA/results/captioning/VILA1.5-13b_2-shot.json\n"
     ]
    },
    {
     "name": "stderr",
     "output_type": "stream",
     "text": [
      " 50%|████████████████████████████████████████████████████████████████████████████████████▌                                                                                    | 2/4 [00:02<00:02,  1.07s/it]"
     ]
    },
    {
     "name": "stdout",
     "output_type": "stream",
     "text": [
      "Corpus BLEU Score: {'bleu_4': tensor(0.2905, dtype=torch.float64)}\n",
      "Corpus ROUGE Scores: {'rouge_l': tensor(0.5438, dtype=torch.float64)}\n",
      "Corpus Cider Scores: {'cider_d': tensor(1.1470, dtype=torch.float64)}\n",
      "/home/asureddy_umass_edu/cs682/VILA/results/captioning/VILA1.5-13b_4-shot.json\n"
     ]
    },
    {
     "name": "stderr",
     "output_type": "stream",
     "text": [
      " 75%|██████████████████████████████████████████████████████████████████████████████████████████████████████████████████████████████▊                                          | 3/4 [00:03<00:01,  1.05s/it]"
     ]
    },
    {
     "name": "stdout",
     "output_type": "stream",
     "text": [
      "Corpus BLEU Score: {'bleu_4': tensor(0.2852, dtype=torch.float64)}\n",
      "Corpus ROUGE Scores: {'rouge_l': tensor(0.5404, dtype=torch.float64)}\n",
      "Corpus Cider Scores: {'cider_d': tensor(1.2289, dtype=torch.float64)}\n",
      "/home/asureddy_umass_edu/cs682/VILA/results/captioning/VILA1.5-13b_8-shot.json\n"
     ]
    },
    {
     "name": "stderr",
     "output_type": "stream",
     "text": [
      "100%|█████████████████████████████████████████████████████████████████████████████████████████████████████████████████████████████████████████████████████████████████████████| 4/4 [00:04<00:00,  1.04s/it]"
     ]
    },
    {
     "name": "stdout",
     "output_type": "stream",
     "text": [
      "Corpus BLEU Score: {'bleu_4': tensor(0.2850, dtype=torch.float64)}\n",
      "Corpus ROUGE Scores: {'rouge_l': tensor(0.5380, dtype=torch.float64)}\n",
      "Corpus Cider Scores: {'cider_d': tensor(1.2223, dtype=torch.float64)}\n"
     ]
    },
    {
     "name": "stderr",
     "output_type": "stream",
     "text": [
      "\n"
     ]
    }
   ],
   "source": [
    "res_prefix = \"/home/asureddy_umass_edu/cs682/VILA/results/captioning_detailed/VILA1.5-13b_\"\n",
    "results_vila_rice = make_captioning_results_csv(res_prefix, shots = [0,2,4,8], prefix=\"shot.json\")"
   ]
  },
  {
   "cell_type": "code",
   "execution_count": 10,
   "id": "e57823b9-5bbf-4a0a-bc09-f3f61ca25df8",
   "metadata": {},
   "outputs": [
    {
     "name": "stderr",
     "output_type": "stream",
     "text": [
      "  0%|                                                                                                                                                                                 | 0/4 [00:00<?, ?it/s]"
     ]
    },
    {
     "name": "stdout",
     "output_type": "stream",
     "text": [
      "/home/asureddy_umass_edu/cs682/VILA/results/captioning/VILA1.5-13b_0-shot_random-examples.json\n"
     ]
    },
    {
     "name": "stderr",
     "output_type": "stream",
     "text": [
      " 25%|██████████████████████████████████████████▎                                                                                                                              | 1/4 [00:01<00:03,  1.12s/it]"
     ]
    },
    {
     "name": "stdout",
     "output_type": "stream",
     "text": [
      "Corpus BLEU Score: {'bleu_4': tensor(0.2397, dtype=torch.float64)}\n",
      "Corpus ROUGE Scores: {'rouge_l': tensor(0.5217, dtype=torch.float64)}\n",
      "Corpus Cider Scores: {'cider_d': tensor(0.9916, dtype=torch.float64)}\n",
      "/home/asureddy_umass_edu/cs682/VILA/results/captioning/VILA1.5-13b_2-shot_random-examples.json\n"
     ]
    },
    {
     "name": "stderr",
     "output_type": "stream",
     "text": [
      " 50%|████████████████████████████████████████████████████████████████████████████████████▌                                                                                    | 2/4 [00:02<00:02,  1.07s/it]"
     ]
    },
    {
     "name": "stdout",
     "output_type": "stream",
     "text": [
      "Corpus BLEU Score: {'bleu_4': tensor(0.3005, dtype=torch.float64)}\n",
      "Corpus ROUGE Scores: {'rouge_l': tensor(0.5503, dtype=torch.float64)}\n",
      "Corpus Cider Scores: {'cider_d': tensor(1.2073, dtype=torch.float64)}\n",
      "/home/asureddy_umass_edu/cs682/VILA/results/captioning/VILA1.5-13b_4-shot_random-examples.json\n"
     ]
    },
    {
     "name": "stderr",
     "output_type": "stream",
     "text": [
      " 75%|██████████████████████████████████████████████████████████████████████████████████████████████████████████████████████████████▊                                          | 3/4 [00:03<00:01,  1.14s/it]"
     ]
    },
    {
     "name": "stdout",
     "output_type": "stream",
     "text": [
      "Corpus BLEU Score: {'bleu_4': tensor(0.3275, dtype=torch.float64)}\n",
      "Corpus ROUGE Scores: {'rouge_l': tensor(0.5593, dtype=torch.float64)}\n",
      "Corpus Cider Scores: {'cider_d': tensor(1.2553, dtype=torch.float64)}\n",
      "/home/asureddy_umass_edu/cs682/VILA/results/captioning/VILA1.5-13b_8-shot_random-examples.json\n"
     ]
    },
    {
     "name": "stderr",
     "output_type": "stream",
     "text": [
      "100%|█████████████████████████████████████████████████████████████████████████████████████████████████████████████████████████████████████████████████████████████████████████| 4/4 [00:04<00:00,  1.10s/it]"
     ]
    },
    {
     "name": "stdout",
     "output_type": "stream",
     "text": [
      "Corpus BLEU Score: {'bleu_4': tensor(0.3006, dtype=torch.float64)}\n",
      "Corpus ROUGE Scores: {'rouge_l': tensor(0.5565, dtype=torch.float64)}\n",
      "Corpus Cider Scores: {'cider_d': tensor(1.1904, dtype=torch.float64)}\n"
     ]
    },
    {
     "name": "stderr",
     "output_type": "stream",
     "text": [
      "\n"
     ]
    }
   ],
   "source": [
    "res_prefix = \"/home/asureddy_umass_edu/cs682/VILA/results/captioning/VILA1.5-13b_\"\n",
    "results_vila = make_captioning_results_csv(res_prefix, shots = [0,2,4,8], prefix=\"shot_random-examples.json\")"
   ]
  },
  {
   "cell_type": "code",
   "execution_count": 9,
   "id": "c512c084-c362-4c8a-8e60-3cbc374a9048",
   "metadata": {},
   "outputs": [
    {
     "name": "stderr",
     "output_type": "stream",
     "text": [
      "  0%|                                                                                                                                                                                 | 0/4 [00:00<?, ?it/s]"
     ]
    },
    {
     "name": "stdout",
     "output_type": "stream",
     "text": [
      "/home/asureddy_umass_edu/cs682/VILA/results/captioning/VILA1.5-13b_0-shot.json\n"
     ]
    },
    {
     "name": "stderr",
     "output_type": "stream",
     "text": [
      " 25%|██████████████████████████████████████████▎                                                                                                                              | 1/4 [00:01<00:05,  1.80s/it]"
     ]
    },
    {
     "name": "stdout",
     "output_type": "stream",
     "text": [
      "Corpus BLEU Score: {'bleu_4': tensor(0.2366, dtype=torch.float64)}\n",
      "Corpus ROUGE Scores: {'rouge_l': tensor(0.5180, dtype=torch.float64)}\n",
      "Corpus Cider Scores: {'cider_d': tensor(0.9706, dtype=torch.float64)}\n",
      "/home/asureddy_umass_edu/cs682/VILA/results/captioning/VILA1.5-13b_2-shot.json\n"
     ]
    },
    {
     "name": "stderr",
     "output_type": "stream",
     "text": [
      " 50%|████████████████████████████████████████████████████████████████████████████████████▌                                                                                    | 2/4 [00:03<00:03,  1.78s/it]"
     ]
    },
    {
     "name": "stdout",
     "output_type": "stream",
     "text": [
      "Corpus BLEU Score: {'bleu_4': tensor(0.2358, dtype=torch.float64)}\n",
      "Corpus ROUGE Scores: {'rouge_l': tensor(0.5005, dtype=torch.float64)}\n",
      "Corpus Cider Scores: {'cider_d': tensor(1.0061, dtype=torch.float64)}\n",
      "/home/asureddy_umass_edu/cs682/VILA/results/captioning/VILA1.5-13b_4-shot.json\n"
     ]
    },
    {
     "name": "stderr",
     "output_type": "stream",
     "text": [
      " 75%|██████████████████████████████████████████████████████████████████████████████████████████████████████████████████████████████▊                                          | 3/4 [00:05<00:01,  1.76s/it]"
     ]
    },
    {
     "name": "stdout",
     "output_type": "stream",
     "text": [
      "Corpus BLEU Score: {'bleu_4': tensor(0.2883, dtype=torch.float64)}\n",
      "Corpus ROUGE Scores: {'rouge_l': tensor(0.5421, dtype=torch.float64)}\n",
      "Corpus Cider Scores: {'cider_d': tensor(1.1977, dtype=torch.float64)}\n",
      "/home/asureddy_umass_edu/cs682/VILA/results/captioning/VILA1.5-13b_8-shot.json\n"
     ]
    },
    {
     "name": "stderr",
     "output_type": "stream",
     "text": [
      "100%|█████████████████████████████████████████████████████████████████████████████████████████████████████████████████████████████████████████████████████████████████████████| 4/4 [00:07<00:00,  1.75s/it]"
     ]
    },
    {
     "name": "stdout",
     "output_type": "stream",
     "text": [
      "Corpus BLEU Score: {'bleu_4': tensor(0.2762, dtype=torch.float64)}\n",
      "Corpus ROUGE Scores: {'rouge_l': tensor(0.5285, dtype=torch.float64)}\n",
      "Corpus Cider Scores: {'cider_d': tensor(1.1604, dtype=torch.float64)}\n"
     ]
    },
    {
     "name": "stderr",
     "output_type": "stream",
     "text": [
      "\n"
     ]
    }
   ],
   "source": [
    "res_prefix = \"/home/asureddy_umass_edu/cs682/VILA/results/captioning/VILA1.5-13b_\"\n",
    "results_vila_rice = make_captioning_results_csv(res_prefix, shots = [0,2,4,8], prefix=\"shot.json\")"
   ]
  },
  {
   "cell_type": "markdown",
   "id": "b41833ba-a5db-4f86-bd1d-e0de6d8179f7",
   "metadata": {
    "jp-MarkdownHeadingCollapsed": true
   },
   "source": [
    "### RICE based in-context examples"
   ]
  },
  {
   "cell_type": "code",
   "execution_count": 13,
   "id": "054bc461-1c0d-4789-bc6f-e98f7b19cb3d",
   "metadata": {},
   "outputs": [],
   "source": [
    "annotations_path = \"../dataset/annotations/captions_val2017.json\"\n",
    "image_dir_path = \"/scratch/workspace/asureddy_umass_edu-llm_alignment/dataset/val2017\""
   ]
  },
  {
   "cell_type": "code",
   "execution_count": 14,
   "id": "85684b40-6392-40eb-aacd-f0615f15859f",
   "metadata": {},
   "outputs": [
    {
     "name": "stdout",
     "output_type": "stream",
     "text": [
      "\n",
      "1-shots ICL with RICE\n",
      "\n",
      "Corpus BLEU Score: {'bleu_4': tensor(0.1042, dtype=torch.float64)}\n",
      "Corpus ROUGE Scores: {'rouge_l': tensor(0.3500, dtype=torch.float64)}\n",
      "Corpus Cider Scores: {'cider_d': tensor(0.2251, dtype=torch.float64)}\n",
      "\n",
      "2-shots ICL with RICE\n",
      "\n",
      "Corpus BLEU Score: {'bleu_4': tensor(0.1437, dtype=torch.float64)}\n",
      "Corpus ROUGE Scores: {'rouge_l': tensor(0.4019, dtype=torch.float64)}\n",
      "Corpus Cider Scores: {'cider_d': tensor(0.3358, dtype=torch.float64)}\n",
      "\n",
      "4-shots ICL with RICE\n",
      "\n",
      "Corpus BLEU Score: {'bleu_4': tensor(0.1713, dtype=torch.float64)}\n",
      "Corpus ROUGE Scores: {'rouge_l': tensor(0.4275, dtype=torch.float64)}\n",
      "Corpus Cider Scores: {'cider_d': tensor(0.4084, dtype=torch.float64)}\n",
      "\n",
      "8-shots ICL with RICE\n",
      "\n",
      "Corpus BLEU Score: {'bleu_4': tensor(0.1892, dtype=torch.float64)}\n",
      "Corpus ROUGE Scores: {'rouge_l': tensor(0.4402, dtype=torch.float64)}\n",
      "Corpus Cider Scores: {'cider_d': tensor(0.4414, dtype=torch.float64)}\n"
     ]
    }
   ],
   "source": [
    "for i in [1,2,4,8]:\n",
    "    res_file = f\"/home/asureddy_umass_edu/cs682/flamingo/results/captioning/OpenFlamingo-3B-vitl-mpt1b_{i}-shot.json\"\n",
    "    print(f\"\\n{i}-shots ICL with RICE\\n\")\n",
    "    get_metrics_captioning(res_file, annotations_path, image_dir_path)"
   ]
  },
  {
   "cell_type": "code",
   "execution_count": null,
   "id": "bae3e54a-2c36-4b75-968f-b15f67f5069a",
   "metadata": {},
   "outputs": [],
   "source": [
    "# rice based\n",
    "# n-shots,bleu,rouge,cider\n",
    "# 0,0.0324,0.2225,0.1288\n",
    "# 1,0.1042,0.3500,0.2251\n",
    "# 2,0.1437,0.4019,0.3358\n",
    "# 4,0.1713,0.4275,0.4084\n",
    "# 8,0.1892,0.4402,0.4414\n"
   ]
  },
  {
   "cell_type": "code",
   "execution_count": null,
   "id": "ec7b904c-ea46-49b8-b3cd-67d26680de74",
   "metadata": {},
   "outputs": [],
   "source": [
    "# random"
   ]
  },
  {
   "cell_type": "code",
   "execution_count": null,
   "id": "45023757-0141-4bf0-a25a-92b6a43fd9cb",
   "metadata": {},
   "outputs": [],
   "source": []
  },
  {
   "cell_type": "code",
   "execution_count": 44,
   "id": "dc87c163-1a6a-4430-a8ce-5c91fa791b1f",
   "metadata": {},
   "outputs": [
    {
     "name": "stdout",
     "output_type": "stream",
     "text": [
      "Corpus BLEU Score: {'bleu_4': tensor(0.1012, dtype=torch.float64)}\n",
      "Corpus ROUGE Scores: {'rouge_l': tensor(0.3440, dtype=torch.float64)}\n",
      "Corpus Cider Scores: {'cider_d': tensor(0.4058, dtype=torch.float64)}\n"
     ]
    }
   ],
   "source": [
    "res_file = \"/home/asureddy_umass_edu/cs682/flamingo/flamingo-3b-coco-one-shot.json\"\n",
    "annotations_path = \"../dataset/annotations/captions_val2017.json\"\n",
    "image_dir_path = \"/scratch/workspace/asureddy_umass_edu-llm_alignment/dataset/val2017\"\n",
    "get_metrics(res_file, annotations_path, image_dir_path)"
   ]
  },
  {
   "cell_type": "code",
   "execution_count": 45,
   "id": "c706ed50-541d-4b35-84ce-f7414a334e58",
   "metadata": {},
   "outputs": [
    {
     "name": "stdout",
     "output_type": "stream",
     "text": [
      "Corpus BLEU Score: {'bleu_4': tensor(0.0532, dtype=torch.float64)}\n",
      "Corpus ROUGE Scores: {'rouge_l': tensor(0.2362, dtype=torch.float64)}\n",
      "Corpus Cider Scores: {'cider_d': tensor(0.2325, dtype=torch.float64)}\n"
     ]
    }
   ],
   "source": [
    "res_file = \"/home/asureddy_umass_edu/cs682/flamingo/flamingo-3b-coco-ZS.json\"\n",
    "annotations_path = \"../dataset/annotations/captions_val2017.json\"\n",
    "image_dir_path = \"/scratch/workspace/asureddy_umass_edu-llm_alignment/dataset/val2017\"\n",
    "get_metrics(res_file, annotations_path, image_dir_path)"
   ]
  },
  {
   "cell_type": "code",
   "execution_count": 46,
   "id": "5cdc36c2-4e06-44b3-8dca-2fabc1410f10",
   "metadata": {},
   "outputs": [
    {
     "name": "stdout",
     "output_type": "stream",
     "text": [
      "Corpus BLEU Score: {'bleu_4': tensor(0.0899, dtype=torch.float64)}\n",
      "Corpus ROUGE Scores: {'rouge_l': tensor(0.3341, dtype=torch.float64)}\n",
      "Corpus Cider Scores: {'cider_d': tensor(0.4238, dtype=torch.float64)}\n"
     ]
    }
   ],
   "source": [
    "res_file = \"/home/asureddy_umass_edu/cs682/flamingo/flamingo-3b-coco-two-shot.json\"\n",
    "annotations_path = \"../dataset/annotations/captions_val2017.json\"\n",
    "image_dir_path = \"/scratch/workspace/asureddy_umass_edu-llm_alignment/dataset/val2017\"\n",
    "get_metrics(res_file, annotations_path, image_dir_path)"
   ]
  },
  {
   "cell_type": "code",
   "execution_count": 24,
   "id": "7c782bc6-c52c-46a7-9714-c959e034f6cc",
   "metadata": {},
   "outputs": [
    {
     "name": "stdout",
     "output_type": "stream",
     "text": [
      "Corpus BLEU Score: 0.059729001580259705\n",
      "Corpus ROUGE Scores: {'rouge1': 0.010141944522348787, 'rouge2': 0.0002675585284280936, 'rougeL': 0.010141944522348787}\n"
     ]
    }
   ],
   "source": [
    "# old\n",
    "res_file = \"/home/asureddy_umass_edu/cs682/flamingo/flamingo-3b-coco-ZS.json\"\n",
    "annotations_path = \"../dataset/annotations/captions_val2017.json\"\n",
    "image_dir_path = \"/scratch/workspace/asureddy_umass_edu-llm_alignment/dataset/val2017\"\n",
    "get_metrics(res_file, annotations_path, image_dir_path)"
   ]
  },
  {
   "cell_type": "code",
   "execution_count": 25,
   "id": "7d38d5d2-ad08-425f-a417-35c7d3d19056",
   "metadata": {},
   "outputs": [
    {
     "name": "stdout",
     "output_type": "stream",
     "text": [
      "Corpus BLEU Score: 0.08197111291929228\n",
      "Corpus ROUGE Scores: {'rouge1': 0.014435707489431725, 'rouge2': 9.020386072523904e-05, 'rougeL': 0.014435707489431725}\n"
     ]
    }
   ],
   "source": [
    "res_file = \"/home/asureddy_umass_edu/cs682/flamingo/flamingo-3b-coco-two-shot.json\"\n",
    "annotations_path = \"../dataset/annotations/captions_val2017.json\"\n",
    "image_dir_path = \"/scratch/workspace/asureddy_umass_edu-llm_alignment/dataset/val2017\"\n",
    "get_metrics(res_file, annotations_path, image_dir_path)"
   ]
  },
  {
   "cell_type": "code",
   "execution_count": 27,
   "id": "3a698dbc-e2b0-40d8-a915-da04e72cc193",
   "metadata": {},
   "outputs": [
    {
     "name": "stdout",
     "output_type": "stream",
     "text": [
      "Corpus BLEU Score: 1.0\n",
      "Corpus ROUGE Scores: {'rouge1': 0.014656737642366828, 'rouge2': 0.0, 'rougeL': 0.014656737642366828}\n"
     ]
    }
   ],
   "source": [
    "with open(res_file) as f:\n",
    "    data = json.load(f)\n",
    "\n",
    "model_outputs = {}\n",
    "for k,item in data[\"outputs\"].items():\n",
    "    model_outputs[k] = item[len(data[\"query\"]):]\n",
    "\n",
    "dataset = CaptionDataset(image_dir_path, annotations_path)\n",
    "hyps, refs = [], []\n",
    "for k,v in model_outputs.items():\n",
    "    hyps.append(dataset.data_dict[int(k)][\"captions\"][0])\n",
    "    refs.append(dataset.data_dict[int(k)][\"captions\"])\n",
    "\n",
    "bleu_score = compute_corpus_bleu(refs, hyps)\n",
    "rouge_scores = compute_corpus_rouge(refs, hyps)\n",
    "\n",
    "print(\"Corpus BLEU Score:\", bleu_score)\n",
    "print(\"Corpus ROUGE Scores:\", rouge_scores)"
   ]
  },
  {
   "cell_type": "code",
   "execution_count": 33,
   "id": "bbc12ccb-ac66-44a0-8aa5-c25865860ddd",
   "metadata": {},
   "outputs": [
    {
     "name": "stdout",
     "output_type": "stream",
     "text": [
      "{'bleu_1': tensor(0.4278, dtype=torch.float64), 'bleu_2': tensor(0.4059, dtype=torch.float64), 'bleu_3': tensor(0.4390, dtype=torch.float64), 'bleu_4': tensor(0.4565, dtype=torch.float64), 'meteor': tensor(0.2634, dtype=torch.float64), 'rouge_l': tensor(0.4871, dtype=torch.float64), 'cider_d': tensor(0.9614, dtype=torch.float64), 'spice': tensor(0.4222, dtype=torch.float64), 'spider': tensor(0.6918, dtype=torch.float64)}\n"
     ]
    }
   ],
   "source": [
    "from aac_metrics import evaluate\n",
    "\n",
    "candidates: list[str] = [\"a man is speaking\", \"rain falls\"]\n",
    "mult_references: list[list[str]] = [[\"a man speaks.\", \"someone speaks.\", \"a man is speaking while a bird is chirping in the background\"], [\"rain is falling hard on a surface\"]]\n",
    "\n",
    "corpus_scores, _ = evaluate(candidates, mult_references)\n",
    "print(corpus_scores)\n",
    "# dict containing the score of each metric: \"bleu_1\", \"bleu_2\", \"bleu_3\", \"bleu_4\", \"rouge_l\", \"meteor\", \"cider_d\", \"spice\", \"spider\"\n",
    "# {\"bleu_1\": tensor(0.4278), \"bleu_2\": ..., ...}"
   ]
  },
  {
   "cell_type": "code",
   "execution_count": 38,
   "id": "5f12ec8a-2658-4d3d-8c44-1174b28f537d",
   "metadata": {},
   "outputs": [
    {
     "name": "stdout",
     "output_type": "stream",
     "text": [
      "{'cider_d': tensor(0.9614, dtype=torch.float64)}\n",
      "{'cider_d': tensor([1.3641, 0.5587], dtype=torch.float64)}\n"
     ]
    }
   ],
   "source": [
    "from aac_metrics.functional import cider_d, bleu_4, rouge_l\n",
    "from aac_metrics.utils.tokenization import preprocess_mono_sents, preprocess_mult_sents\n",
    "\n",
    "candidates: list[str] = [\"a man is speaking\", \"rain falls\"]\n",
    "mult_references: list[list[str]] = [[\"a man speaks.\", \"someone speaks.\", \"a man is speaking while a bird is chirping in the background\"], [\"rain is falling hard on a surface\"]]\n",
    "\n",
    "candidates = preprocess_mono_sents(candidates)\n",
    "mult_references = preprocess_mult_sents(mult_references)\n",
    "\n",
    "corpus_scores, sents_scores = cider_d(candidates, mult_references)\n",
    "print(corpus_scores)\n",
    "# {\"cider_d\": tensor(0.9614)}\n",
    "print(sents_scores)\n",
    "# {\"cider_d\": tensor([1.3641, 0.5587])}"
   ]
  },
  {
   "cell_type": "code",
   "execution_count": 37,
   "id": "9dcd1b27-e4cc-438c-995a-d9da6ca33e6c",
   "metadata": {},
   "outputs": [
    {
     "data": {
      "text/plain": [
       "0.34686464535871"
      ]
     },
     "execution_count": 37,
     "metadata": {},
     "output_type": "execute_result"
    }
   ],
   "source": [
    "compute_corpus_bleu(mult_references, candidates)"
   ]
  },
  {
   "cell_type": "code",
   "execution_count": 39,
   "id": "b16ce38f-168b-447f-9778-5f29955d593f",
   "metadata": {},
   "outputs": [
    {
     "name": "stdout",
     "output_type": "stream",
     "text": [
      "{'bleu_4': tensor(0.4565, dtype=torch.float64)}\n",
      "{'bleu_4': tensor([1.0000e+00, 1.2275e-08], dtype=torch.float64)}\n"
     ]
    }
   ],
   "source": [
    "corpus_scores, sents_scores = bleu_4(candidates, mult_references)\n",
    "print(corpus_scores)\n",
    "# {\"cider_d\": tensor(0.9614)}\n",
    "print(sents_scores)\n",
    "# {\"cider_d\": tensor([1.3641, 0.5587])}"
   ]
  },
  {
   "cell_type": "code",
   "execution_count": null,
   "id": "a717d302-7306-4381-9ee5-24c592fe99e8",
   "metadata": {},
   "outputs": [],
   "source": []
  }
 ],
 "metadata": {
  "kernelspec": {
   "display_name": "Python 3 (ipykernel)",
   "language": "python",
   "name": "python3"
  },
  "language_info": {
   "codemirror_mode": {
    "name": "ipython",
    "version": 3
   },
   "file_extension": ".py",
   "mimetype": "text/x-python",
   "name": "python",
   "nbconvert_exporter": "python",
   "pygments_lexer": "ipython3",
   "version": "3.10.15"
  }
 },
 "nbformat": 4,
 "nbformat_minor": 5
}
