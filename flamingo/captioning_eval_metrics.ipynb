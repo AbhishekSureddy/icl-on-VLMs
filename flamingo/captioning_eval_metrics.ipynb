{
 "cells": [
  {
   "cell_type": "code",
   "execution_count": 7,
   "id": "efd602b2-deed-43cc-9fb6-9bd9ca9cca49",
   "metadata": {
    "scrolled": true
   },
   "outputs": [],
   "source": [
    "import json\n",
    "from eval_datasets import CaptionDataset\n",
    "from aac_metrics.functional import cider_d, bleu_4, rouge_l\n",
    "from aac_metrics.utils.tokenization import preprocess_mono_sents, preprocess_mult_sents\n",
    "\n",
    "# def get_metrics_captioning(res_file, annotations_path, image_dir_path):\n",
    "#     with open(res_file) as f:\n",
    "#         data = json.load(f)\n",
    "    \n",
    "#     model_outputs = {}\n",
    "#     for k,item in data[\"outputs\"].items():\n",
    "#         model_outputs[k] = item[len(data[\"query\"]):]\n",
    "    \n",
    "#     dataset = CaptionDataset(image_dir_path, annotations_path)\n",
    "#     hyps, refs = [], []\n",
    "#     for k,v in model_outputs.items():\n",
    "#         hyps.append(v.replace('\\n',' '))\n",
    "#         refs.append(dataset.data_dict[int(k)][\"captions\"])\n",
    "\n",
    "#     candidates = preprocess_mono_sents(hyps)\n",
    "#     mult_references = preprocess_mult_sents(refs)\n",
    "    \n",
    "#     cider_scores, _ = cider_d(candidates, mult_references)\n",
    "#     bleu_scores, _  = bleu_4(candidates, mult_references)\n",
    "#     rouge_scores, _  = rouge_l(candidates, mult_references)\n",
    "#     print(\"Corpus BLEU Score:\", bleu_scores)\n",
    "#     print(\"Corpus ROUGE Scores:\", rouge_scores)\n",
    "#     print(\"Corpus Cider Scores:\", cider_scores)\n",
    "\n",
    "def get_metrics_captioning(res_file, annotations_path, image_dir_path):\n",
    "    with open(res_file) as f:\n",
    "        data = json.load(f)\n",
    "    \n",
    "    model_outputs = []\n",
    "    for item in data[\"outputs\"]:\n",
    "        model_outputs.append( item)\n",
    "    \n",
    "    dataset = CaptionDataset(image_dir_path, annotations_path)\n",
    "    hyps, refs = [], []\n",
    "    for k,v in enumerate(model_outputs):\n",
    "        hyps.append(v.replace('\\n',' '))\n",
    "        refs.append([rf.replace('\\n',' ') for rf in dataset.get_item_with_idx(k)[\"captions\"]])\n",
    "\n",
    "    candidates = preprocess_mono_sents(hyps)\n",
    "    mult_references = preprocess_mult_sents(refs)\n",
    "    \n",
    "    cider_scores, _ = cider_d(candidates, mult_references)\n",
    "    bleu_scores, _  = bleu_4(candidates, mult_references)\n",
    "    rouge_scores, _  = rouge_l(candidates, mult_references)\n",
    "    print(\"Corpus BLEU Score:\", bleu_scores)\n",
    "    print(\"Corpus ROUGE Scores:\", rouge_scores)\n",
    "    print(\"Corpus Cider Scores:\", cider_scores)"
   ]
  },
  {
   "cell_type": "markdown",
   "id": "9e6f0cdc-0cd1-4df9-99a8-2d7d79f1ef31",
   "metadata": {},
   "source": [
    "### Random In-context demonstrations"
   ]
  },
  {
   "cell_type": "code",
   "execution_count": 8,
   "id": "c36c88a9-3fb3-48bd-8648-2a2740737a17",
   "metadata": {},
   "outputs": [
    {
     "name": "stdout",
     "output_type": "stream",
     "text": [
      "Corpus BLEU Score: {'bleu_4': tensor(0.0324, dtype=torch.float64)}\n",
      "Corpus ROUGE Scores: {'rouge_l': tensor(0.2225, dtype=torch.float64)}\n",
      "Corpus Cider Scores: {'cider_d': tensor(0.1288, dtype=torch.float64)}\n"
     ]
    }
   ],
   "source": [
    "res_file = \"/home/asureddy_umass_edu/cs682/flamingo/results/captioning/OpenFlamingo-3B-vitl-mpt1b_0-shot_random-examples.json\"\n",
    "annotations_path = \"../dataset/annotations/captions_val2017.json\"\n",
    "image_dir_path = \"/scratch/workspace/asureddy_umass_edu-llm_alignment/dataset/val2017\"\n",
    "get_metrics_captioning(res_file, annotations_path, image_dir_path)"
   ]
  },
  {
   "cell_type": "code",
   "execution_count": 10,
   "id": "78fcf9a8-037c-471d-913c-64e0026c1f57",
   "metadata": {},
   "outputs": [
    {
     "name": "stdout",
     "output_type": "stream",
     "text": [
      "Corpus BLEU Score: {'bleu_4': tensor(0.0945, dtype=torch.float64)}\n",
      "Corpus ROUGE Scores: {'rouge_l': tensor(0.3238, dtype=torch.float64)}\n",
      "Corpus Cider Scores: {'cider_d': tensor(0.2331, dtype=torch.float64)}\n"
     ]
    }
   ],
   "source": [
    "res_file = \"/home/asureddy_umass_edu/cs682/flamingo/results/captioning/OpenFlamingo-3B-vitl-mpt1b_1-shot_random-examples.json\"\n",
    "annotations_path = \"../dataset/annotations/captions_val2017.json\"\n",
    "image_dir_path = \"/scratch/workspace/asureddy_umass_edu-llm_alignment/dataset/val2017\"\n",
    "get_metrics_captioning(res_file, annotations_path, image_dir_path)"
   ]
  },
  {
   "cell_type": "code",
   "execution_count": 11,
   "id": "6006c14b-9fdb-42a9-a453-9dd842099b6e",
   "metadata": {},
   "outputs": [
    {
     "name": "stdout",
     "output_type": "stream",
     "text": [
      "Corpus BLEU Score: {'bleu_4': tensor(0.1307, dtype=torch.float64)}\n",
      "Corpus ROUGE Scores: {'rouge_l': tensor(0.3844, dtype=torch.float64)}\n",
      "Corpus Cider Scores: {'cider_d': tensor(0.3318, dtype=torch.float64)}\n"
     ]
    }
   ],
   "source": [
    "res_file = \"/home/asureddy_umass_edu/cs682/flamingo/results/captioning/OpenFlamingo-3B-vitl-mpt1b_2-shot_random-examples.json\"\n",
    "annotations_path = \"../dataset/annotations/captions_val2017.json\"\n",
    "image_dir_path = \"/scratch/workspace/asureddy_umass_edu-llm_alignment/dataset/val2017\"\n",
    "get_metrics_captioning(res_file, annotations_path, image_dir_path)"
   ]
  },
  {
   "cell_type": "code",
   "execution_count": 9,
   "id": "f0478c13-daee-4658-8768-a69c256b7fbb",
   "metadata": {},
   "outputs": [
    {
     "name": "stdout",
     "output_type": "stream",
     "text": [
      "Corpus BLEU Score: {'bleu_4': tensor(0.1440, dtype=torch.float64)}\n",
      "Corpus ROUGE Scores: {'rouge_l': tensor(0.3961, dtype=torch.float64)}\n",
      "Corpus Cider Scores: {'cider_d': tensor(0.3558, dtype=torch.float64)}\n"
     ]
    }
   ],
   "source": [
    "res_file = \"/home/asureddy_umass_edu/cs682/flamingo/results/captioning/OpenFlamingo-3B-vitl-mpt1b_4-shot_random-examples.json\"\n",
    "annotations_path = \"../dataset/annotations/captions_val2017.json\"\n",
    "image_dir_path = \"/scratch/workspace/asureddy_umass_edu-llm_alignment/dataset/val2017\"\n",
    "get_metrics_captioning(res_file, annotations_path, image_dir_path)"
   ]
  },
  {
   "cell_type": "code",
   "execution_count": 12,
   "id": "a3c8bd87-4851-452f-a38f-19777348ad82",
   "metadata": {},
   "outputs": [
    {
     "name": "stdout",
     "output_type": "stream",
     "text": [
      "Corpus BLEU Score: {'bleu_4': tensor(0.1539, dtype=torch.float64)}\n",
      "Corpus ROUGE Scores: {'rouge_l': tensor(0.4065, dtype=torch.float64)}\n",
      "Corpus Cider Scores: {'cider_d': tensor(0.3749, dtype=torch.float64)}\n"
     ]
    }
   ],
   "source": [
    "res_file = \"/home/asureddy_umass_edu/cs682/flamingo/results/captioning/OpenFlamingo-3B-vitl-mpt1b_8-shot_random-examples.json\"\n",
    "annotations_path = \"../dataset/annotations/captions_val2017.json\"\n",
    "image_dir_path = \"/scratch/workspace/asureddy_umass_edu-llm_alignment/dataset/val2017\"\n",
    "get_metrics_captioning(res_file, annotations_path, image_dir_path)"
   ]
  },
  {
   "cell_type": "markdown",
   "id": "b41833ba-a5db-4f86-bd1d-e0de6d8179f7",
   "metadata": {},
   "source": [
    "### RICE based in-context examples"
   ]
  },
  {
   "cell_type": "code",
   "execution_count": 13,
   "id": "054bc461-1c0d-4789-bc6f-e98f7b19cb3d",
   "metadata": {},
   "outputs": [],
   "source": [
    "annotations_path = \"../dataset/annotations/captions_val2017.json\"\n",
    "image_dir_path = \"/scratch/workspace/asureddy_umass_edu-llm_alignment/dataset/val2017\""
   ]
  },
  {
   "cell_type": "code",
   "execution_count": 14,
   "id": "85684b40-6392-40eb-aacd-f0615f15859f",
   "metadata": {},
   "outputs": [
    {
     "name": "stdout",
     "output_type": "stream",
     "text": [
      "\n",
      "1-shots ICL with RICE\n",
      "\n",
      "Corpus BLEU Score: {'bleu_4': tensor(0.1042, dtype=torch.float64)}\n",
      "Corpus ROUGE Scores: {'rouge_l': tensor(0.3500, dtype=torch.float64)}\n",
      "Corpus Cider Scores: {'cider_d': tensor(0.2251, dtype=torch.float64)}\n",
      "\n",
      "2-shots ICL with RICE\n",
      "\n",
      "Corpus BLEU Score: {'bleu_4': tensor(0.1437, dtype=torch.float64)}\n",
      "Corpus ROUGE Scores: {'rouge_l': tensor(0.4019, dtype=torch.float64)}\n",
      "Corpus Cider Scores: {'cider_d': tensor(0.3358, dtype=torch.float64)}\n",
      "\n",
      "4-shots ICL with RICE\n",
      "\n",
      "Corpus BLEU Score: {'bleu_4': tensor(0.1713, dtype=torch.float64)}\n",
      "Corpus ROUGE Scores: {'rouge_l': tensor(0.4275, dtype=torch.float64)}\n",
      "Corpus Cider Scores: {'cider_d': tensor(0.4084, dtype=torch.float64)}\n",
      "\n",
      "8-shots ICL with RICE\n",
      "\n",
      "Corpus BLEU Score: {'bleu_4': tensor(0.1892, dtype=torch.float64)}\n",
      "Corpus ROUGE Scores: {'rouge_l': tensor(0.4402, dtype=torch.float64)}\n",
      "Corpus Cider Scores: {'cider_d': tensor(0.4414, dtype=torch.float64)}\n"
     ]
    }
   ],
   "source": [
    "for i in [1,2,4,8]:\n",
    "    res_file = f\"/home/asureddy_umass_edu/cs682/flamingo/results/captioning/OpenFlamingo-3B-vitl-mpt1b_{i}-shot.json\"\n",
    "    print(f\"\\n{i}-shots ICL with RICE\\n\")\n",
    "    get_metrics_captioning(res_file, annotations_path, image_dir_path)"
   ]
  },
  {
   "cell_type": "code",
   "execution_count": null,
   "id": "bae3e54a-2c36-4b75-968f-b15f67f5069a",
   "metadata": {},
   "outputs": [],
   "source": [
    "# rice based\n",
    "# n-shots,bleu,rouge,cider\n",
    "# 0,0.0324,0.2225,0.1288\n",
    "# 1,0.1042,0.3500,0.2251\n",
    "# 2,0.1437,0.4019,0.3358\n",
    "# 4,0.1713,0.4275,0.4084\n",
    "# 8,0.1892,0.4402,0.4414\n"
   ]
  },
  {
   "cell_type": "code",
   "execution_count": null,
   "id": "ec7b904c-ea46-49b8-b3cd-67d26680de74",
   "metadata": {},
   "outputs": [],
   "source": [
    "# random"
   ]
  },
  {
   "cell_type": "code",
   "execution_count": null,
   "id": "45023757-0141-4bf0-a25a-92b6a43fd9cb",
   "metadata": {},
   "outputs": [],
   "source": []
  },
  {
   "cell_type": "code",
   "execution_count": 44,
   "id": "dc87c163-1a6a-4430-a8ce-5c91fa791b1f",
   "metadata": {},
   "outputs": [
    {
     "name": "stdout",
     "output_type": "stream",
     "text": [
      "Corpus BLEU Score: {'bleu_4': tensor(0.1012, dtype=torch.float64)}\n",
      "Corpus ROUGE Scores: {'rouge_l': tensor(0.3440, dtype=torch.float64)}\n",
      "Corpus Cider Scores: {'cider_d': tensor(0.4058, dtype=torch.float64)}\n"
     ]
    }
   ],
   "source": [
    "res_file = \"/home/asureddy_umass_edu/cs682/flamingo/flamingo-3b-coco-one-shot.json\"\n",
    "annotations_path = \"../dataset/annotations/captions_val2017.json\"\n",
    "image_dir_path = \"/scratch/workspace/asureddy_umass_edu-llm_alignment/dataset/val2017\"\n",
    "get_metrics(res_file, annotations_path, image_dir_path)"
   ]
  },
  {
   "cell_type": "code",
   "execution_count": 45,
   "id": "c706ed50-541d-4b35-84ce-f7414a334e58",
   "metadata": {},
   "outputs": [
    {
     "name": "stdout",
     "output_type": "stream",
     "text": [
      "Corpus BLEU Score: {'bleu_4': tensor(0.0532, dtype=torch.float64)}\n",
      "Corpus ROUGE Scores: {'rouge_l': tensor(0.2362, dtype=torch.float64)}\n",
      "Corpus Cider Scores: {'cider_d': tensor(0.2325, dtype=torch.float64)}\n"
     ]
    }
   ],
   "source": [
    "res_file = \"/home/asureddy_umass_edu/cs682/flamingo/flamingo-3b-coco-ZS.json\"\n",
    "annotations_path = \"../dataset/annotations/captions_val2017.json\"\n",
    "image_dir_path = \"/scratch/workspace/asureddy_umass_edu-llm_alignment/dataset/val2017\"\n",
    "get_metrics(res_file, annotations_path, image_dir_path)"
   ]
  },
  {
   "cell_type": "code",
   "execution_count": 46,
   "id": "5cdc36c2-4e06-44b3-8dca-2fabc1410f10",
   "metadata": {},
   "outputs": [
    {
     "name": "stdout",
     "output_type": "stream",
     "text": [
      "Corpus BLEU Score: {'bleu_4': tensor(0.0899, dtype=torch.float64)}\n",
      "Corpus ROUGE Scores: {'rouge_l': tensor(0.3341, dtype=torch.float64)}\n",
      "Corpus Cider Scores: {'cider_d': tensor(0.4238, dtype=torch.float64)}\n"
     ]
    }
   ],
   "source": [
    "res_file = \"/home/asureddy_umass_edu/cs682/flamingo/flamingo-3b-coco-two-shot.json\"\n",
    "annotations_path = \"../dataset/annotations/captions_val2017.json\"\n",
    "image_dir_path = \"/scratch/workspace/asureddy_umass_edu-llm_alignment/dataset/val2017\"\n",
    "get_metrics(res_file, annotations_path, image_dir_path)"
   ]
  },
  {
   "cell_type": "code",
   "execution_count": 24,
   "id": "7c782bc6-c52c-46a7-9714-c959e034f6cc",
   "metadata": {},
   "outputs": [
    {
     "name": "stdout",
     "output_type": "stream",
     "text": [
      "Corpus BLEU Score: 0.059729001580259705\n",
      "Corpus ROUGE Scores: {'rouge1': 0.010141944522348787, 'rouge2': 0.0002675585284280936, 'rougeL': 0.010141944522348787}\n"
     ]
    }
   ],
   "source": [
    "# old\n",
    "res_file = \"/home/asureddy_umass_edu/cs682/flamingo/flamingo-3b-coco-ZS.json\"\n",
    "annotations_path = \"../dataset/annotations/captions_val2017.json\"\n",
    "image_dir_path = \"/scratch/workspace/asureddy_umass_edu-llm_alignment/dataset/val2017\"\n",
    "get_metrics(res_file, annotations_path, image_dir_path)"
   ]
  },
  {
   "cell_type": "code",
   "execution_count": 25,
   "id": "7d38d5d2-ad08-425f-a417-35c7d3d19056",
   "metadata": {},
   "outputs": [
    {
     "name": "stdout",
     "output_type": "stream",
     "text": [
      "Corpus BLEU Score: 0.08197111291929228\n",
      "Corpus ROUGE Scores: {'rouge1': 0.014435707489431725, 'rouge2': 9.020386072523904e-05, 'rougeL': 0.014435707489431725}\n"
     ]
    }
   ],
   "source": [
    "res_file = \"/home/asureddy_umass_edu/cs682/flamingo/flamingo-3b-coco-two-shot.json\"\n",
    "annotations_path = \"../dataset/annotations/captions_val2017.json\"\n",
    "image_dir_path = \"/scratch/workspace/asureddy_umass_edu-llm_alignment/dataset/val2017\"\n",
    "get_metrics(res_file, annotations_path, image_dir_path)"
   ]
  },
  {
   "cell_type": "code",
   "execution_count": 27,
   "id": "3a698dbc-e2b0-40d8-a915-da04e72cc193",
   "metadata": {},
   "outputs": [
    {
     "name": "stdout",
     "output_type": "stream",
     "text": [
      "Corpus BLEU Score: 1.0\n",
      "Corpus ROUGE Scores: {'rouge1': 0.014656737642366828, 'rouge2': 0.0, 'rougeL': 0.014656737642366828}\n"
     ]
    }
   ],
   "source": [
    "with open(res_file) as f:\n",
    "    data = json.load(f)\n",
    "\n",
    "model_outputs = {}\n",
    "for k,item in data[\"outputs\"].items():\n",
    "    model_outputs[k] = item[len(data[\"query\"]):]\n",
    "\n",
    "dataset = CaptionDataset(image_dir_path, annotations_path)\n",
    "hyps, refs = [], []\n",
    "for k,v in model_outputs.items():\n",
    "    hyps.append(dataset.data_dict[int(k)][\"captions\"][0])\n",
    "    refs.append(dataset.data_dict[int(k)][\"captions\"])\n",
    "\n",
    "bleu_score = compute_corpus_bleu(refs, hyps)\n",
    "rouge_scores = compute_corpus_rouge(refs, hyps)\n",
    "\n",
    "print(\"Corpus BLEU Score:\", bleu_score)\n",
    "print(\"Corpus ROUGE Scores:\", rouge_scores)"
   ]
  },
  {
   "cell_type": "code",
   "execution_count": 33,
   "id": "bbc12ccb-ac66-44a0-8aa5-c25865860ddd",
   "metadata": {},
   "outputs": [
    {
     "name": "stdout",
     "output_type": "stream",
     "text": [
      "{'bleu_1': tensor(0.4278, dtype=torch.float64), 'bleu_2': tensor(0.4059, dtype=torch.float64), 'bleu_3': tensor(0.4390, dtype=torch.float64), 'bleu_4': tensor(0.4565, dtype=torch.float64), 'meteor': tensor(0.2634, dtype=torch.float64), 'rouge_l': tensor(0.4871, dtype=torch.float64), 'cider_d': tensor(0.9614, dtype=torch.float64), 'spice': tensor(0.4222, dtype=torch.float64), 'spider': tensor(0.6918, dtype=torch.float64)}\n"
     ]
    }
   ],
   "source": [
    "from aac_metrics import evaluate\n",
    "\n",
    "candidates: list[str] = [\"a man is speaking\", \"rain falls\"]\n",
    "mult_references: list[list[str]] = [[\"a man speaks.\", \"someone speaks.\", \"a man is speaking while a bird is chirping in the background\"], [\"rain is falling hard on a surface\"]]\n",
    "\n",
    "corpus_scores, _ = evaluate(candidates, mult_references)\n",
    "print(corpus_scores)\n",
    "# dict containing the score of each metric: \"bleu_1\", \"bleu_2\", \"bleu_3\", \"bleu_4\", \"rouge_l\", \"meteor\", \"cider_d\", \"spice\", \"spider\"\n",
    "# {\"bleu_1\": tensor(0.4278), \"bleu_2\": ..., ...}"
   ]
  },
  {
   "cell_type": "code",
   "execution_count": 38,
   "id": "5f12ec8a-2658-4d3d-8c44-1174b28f537d",
   "metadata": {},
   "outputs": [
    {
     "name": "stdout",
     "output_type": "stream",
     "text": [
      "{'cider_d': tensor(0.9614, dtype=torch.float64)}\n",
      "{'cider_d': tensor([1.3641, 0.5587], dtype=torch.float64)}\n"
     ]
    }
   ],
   "source": [
    "from aac_metrics.functional import cider_d, bleu_4, rouge_l\n",
    "from aac_metrics.utils.tokenization import preprocess_mono_sents, preprocess_mult_sents\n",
    "\n",
    "candidates: list[str] = [\"a man is speaking\", \"rain falls\"]\n",
    "mult_references: list[list[str]] = [[\"a man speaks.\", \"someone speaks.\", \"a man is speaking while a bird is chirping in the background\"], [\"rain is falling hard on a surface\"]]\n",
    "\n",
    "candidates = preprocess_mono_sents(candidates)\n",
    "mult_references = preprocess_mult_sents(mult_references)\n",
    "\n",
    "corpus_scores, sents_scores = cider_d(candidates, mult_references)\n",
    "print(corpus_scores)\n",
    "# {\"cider_d\": tensor(0.9614)}\n",
    "print(sents_scores)\n",
    "# {\"cider_d\": tensor([1.3641, 0.5587])}"
   ]
  },
  {
   "cell_type": "code",
   "execution_count": 37,
   "id": "9dcd1b27-e4cc-438c-995a-d9da6ca33e6c",
   "metadata": {},
   "outputs": [
    {
     "data": {
      "text/plain": [
       "0.34686464535871"
      ]
     },
     "execution_count": 37,
     "metadata": {},
     "output_type": "execute_result"
    }
   ],
   "source": [
    "compute_corpus_bleu(mult_references, candidates)"
   ]
  },
  {
   "cell_type": "code",
   "execution_count": 39,
   "id": "b16ce38f-168b-447f-9778-5f29955d593f",
   "metadata": {},
   "outputs": [
    {
     "name": "stdout",
     "output_type": "stream",
     "text": [
      "{'bleu_4': tensor(0.4565, dtype=torch.float64)}\n",
      "{'bleu_4': tensor([1.0000e+00, 1.2275e-08], dtype=torch.float64)}\n"
     ]
    }
   ],
   "source": [
    "corpus_scores, sents_scores = bleu_4(candidates, mult_references)\n",
    "print(corpus_scores)\n",
    "# {\"cider_d\": tensor(0.9614)}\n",
    "print(sents_scores)\n",
    "# {\"cider_d\": tensor([1.3641, 0.5587])}"
   ]
  },
  {
   "cell_type": "code",
   "execution_count": null,
   "id": "a717d302-7306-4381-9ee5-24c592fe99e8",
   "metadata": {},
   "outputs": [],
   "source": []
  }
 ],
 "metadata": {
  "kernelspec": {
   "display_name": "Python 3 (ipykernel)",
   "language": "python",
   "name": "python3"
  },
  "language_info": {
   "codemirror_mode": {
    "name": "ipython",
    "version": 3
   },
   "file_extension": ".py",
   "mimetype": "text/x-python",
   "name": "python",
   "nbconvert_exporter": "python",
   "pygments_lexer": "ipython3",
   "version": "3.9.20"
  }
 },
 "nbformat": 4,
 "nbformat_minor": 5
}
