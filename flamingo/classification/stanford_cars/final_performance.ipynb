{
 "cells": [
  {
   "cell_type": "code",
   "execution_count": 20,
   "metadata": {},
   "outputs": [
    {
     "name": "stdout",
     "output_type": "stream",
     "text": [
      "(1000, 6)\n"
     ]
    },
    {
     "data": {
      "text/html": [
       "<div>\n",
       "<style scoped>\n",
       "    .dataframe tbody tr th:only-of-type {\n",
       "        vertical-align: middle;\n",
       "    }\n",
       "\n",
       "    .dataframe tbody tr th {\n",
       "        vertical-align: top;\n",
       "    }\n",
       "\n",
       "    .dataframe thead th {\n",
       "        text-align: right;\n",
       "    }\n",
       "</style>\n",
       "<table border=\"1\" class=\"dataframe\">\n",
       "  <thead>\n",
       "    <tr style=\"text-align: right;\">\n",
       "      <th></th>\n",
       "      <th>index</th>\n",
       "      <th>target_label</th>\n",
       "      <th>pick_n_files_names</th>\n",
       "      <th>few_shot_query</th>\n",
       "      <th>raw_responses</th>\n",
       "      <th>predicted_label</th>\n",
       "    </tr>\n",
       "  </thead>\n",
       "  <tbody>\n",
       "    <tr>\n",
       "      <th>0</th>\n",
       "      <td>0</td>\n",
       "      <td>Dodge Caliber Wagon 2012</td>\n",
       "      <td>[/scratch/workspace/dsaluru_umass_edu-email/st...</td>\n",
       "      <td>&lt;image&gt;\\nQuestion: Identify and classify the c...</td>\n",
       "      <td>Dodge Journey SUV 2011 |&lt;endofchunk&gt;|\\n\\n Que...</td>\n",
       "      <td>Dodge Journey SUV 2011</td>\n",
       "    </tr>\n",
       "    <tr>\n",
       "      <th>1</th>\n",
       "      <td>1</td>\n",
       "      <td>Dodge Caliber Wagon 2012</td>\n",
       "      <td>[/scratch/workspace/dsaluru_umass_edu-email/st...</td>\n",
       "      <td>&lt;image&gt;\\nQuestion: Identify and classify the c...</td>\n",
       "      <td>GMC Acadia SUV 2012 |&lt;endofchunk&gt;|\\n\\n Question</td>\n",
       "      <td>GMC Acadia SUV 2012</td>\n",
       "    </tr>\n",
       "    <tr>\n",
       "      <th>2</th>\n",
       "      <td>2</td>\n",
       "      <td>Dodge Caliber Wagon 2012</td>\n",
       "      <td>[/scratch/workspace/dsaluru_umass_edu-email/st...</td>\n",
       "      <td>&lt;image&gt;\\nQuestion: Identify and classify the c...</td>\n",
       "      <td>Dodge Journey SUV 2011 |&lt;endofchunk&gt;|\\n\\n Que...</td>\n",
       "      <td>Dodge Journey SUV 2011</td>\n",
       "    </tr>\n",
       "  </tbody>\n",
       "</table>\n",
       "</div>"
      ],
      "text/plain": [
       "   index              target_label  \\\n",
       "0      0  Dodge Caliber Wagon 2012   \n",
       "1      1  Dodge Caliber Wagon 2012   \n",
       "2      2  Dodge Caliber Wagon 2012   \n",
       "\n",
       "                                  pick_n_files_names  \\\n",
       "0  [/scratch/workspace/dsaluru_umass_edu-email/st...   \n",
       "1  [/scratch/workspace/dsaluru_umass_edu-email/st...   \n",
       "2  [/scratch/workspace/dsaluru_umass_edu-email/st...   \n",
       "\n",
       "                                      few_shot_query  \\\n",
       "0  <image>\\nQuestion: Identify and classify the c...   \n",
       "1  <image>\\nQuestion: Identify and classify the c...   \n",
       "2  <image>\\nQuestion: Identify and classify the c...   \n",
       "\n",
       "                                       raw_responses         predicted_label  \n",
       "0   Dodge Journey SUV 2011 |<endofchunk>|\\n\\n Que...  Dodge Journey SUV 2011  \n",
       "1    GMC Acadia SUV 2012 |<endofchunk>|\\n\\n Question     GMC Acadia SUV 2012  \n",
       "2   Dodge Journey SUV 2011 |<endofchunk>|\\n\\n Que...  Dodge Journey SUV 2011  "
      ]
     },
     "execution_count": 20,
     "metadata": {},
     "output_type": "execute_result"
    }
   ],
   "source": [
    "import pandas as pd\n",
    "df = pd.read_pickle(\"rice_eight_shot.pickle\")\n",
    "print(df.shape)\n",
    "df.head(3)"
   ]
  },
  {
   "cell_type": "code",
   "execution_count": 21,
   "metadata": {},
   "outputs": [
    {
     "data": {
      "text/plain": [
       "0.091"
      ]
     },
     "execution_count": 21,
     "metadata": {},
     "output_type": "execute_result"
    }
   ],
   "source": [
    "df[df['predicted_label'].apply(lambda x: x.lower()) == df['target_label'].apply(lambda x: x.lower())].shape[0]/len(df)"
   ]
  },
  {
   "cell_type": "code",
   "execution_count": null,
   "metadata": {},
   "outputs": [],
   "source": []
  },
  {
   "cell_type": "code",
   "execution_count": null,
   "metadata": {},
   "outputs": [],
   "source": []
  }
 ],
 "metadata": {
  "kernelspec": {
   "display_name": "icl",
   "language": "python",
   "name": "python3"
  },
  "language_info": {
   "codemirror_mode": {
    "name": "ipython",
    "version": 3
   },
   "file_extension": ".py",
   "mimetype": "text/x-python",
   "name": "python",
   "nbconvert_exporter": "python",
   "pygments_lexer": "ipython3",
   "version": "3.9.20"
  }
 },
 "nbformat": 4,
 "nbformat_minor": 2
}
