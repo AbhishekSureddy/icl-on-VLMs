{
 "cells": [
  {
   "cell_type": "code",
   "execution_count": 1,
   "metadata": {},
   "outputs": [],
   "source": [
    "import pandas as pd"
   ]
  },
  {
   "cell_type": "markdown",
   "metadata": {},
   "source": [
    "### Create Test Data"
   ]
  },
  {
   "cell_type": "code",
   "execution_count": 3,
   "metadata": {},
   "outputs": [
    {
     "data": {
      "text/plain": [
       "(8144, 8)"
      ]
     },
     "execution_count": 3,
     "metadata": {},
     "output_type": "execute_result"
    }
   ],
   "source": [
    "df = pd.read_excel(\"stanford_cars_with_class_names.xlsx\")\n",
    "df.shape"
   ]
  },
  {
   "cell_type": "code",
   "execution_count": 4,
   "metadata": {},
   "outputs": [
    {
     "data": {
      "text/html": [
       "<div>\n",
       "<style scoped>\n",
       "    .dataframe tbody tr th:only-of-type {\n",
       "        vertical-align: middle;\n",
       "    }\n",
       "\n",
       "    .dataframe tbody tr th {\n",
       "        vertical-align: top;\n",
       "    }\n",
       "\n",
       "    .dataframe thead th {\n",
       "        text-align: right;\n",
       "    }\n",
       "</style>\n",
       "<table border=\"1\" class=\"dataframe\">\n",
       "  <thead>\n",
       "    <tr style=\"text-align: right;\">\n",
       "      <th></th>\n",
       "      <th>Unnamed: 0</th>\n",
       "      <th>x1</th>\n",
       "      <th>y1</th>\n",
       "      <th>x2</th>\n",
       "      <th>y2</th>\n",
       "      <th>class</th>\n",
       "      <th>ture_class_name</th>\n",
       "      <th>image</th>\n",
       "    </tr>\n",
       "  </thead>\n",
       "  <tbody>\n",
       "    <tr>\n",
       "      <th>0</th>\n",
       "      <td>0</td>\n",
       "      <td>39</td>\n",
       "      <td>116</td>\n",
       "      <td>569</td>\n",
       "      <td>375</td>\n",
       "      <td>14</td>\n",
       "      <td>Audi TTS Coupe 2012</td>\n",
       "      <td>00001.jpg</td>\n",
       "    </tr>\n",
       "    <tr>\n",
       "      <th>1</th>\n",
       "      <td>1</td>\n",
       "      <td>36</td>\n",
       "      <td>116</td>\n",
       "      <td>868</td>\n",
       "      <td>587</td>\n",
       "      <td>3</td>\n",
       "      <td>Acura TL Sedan 2012</td>\n",
       "      <td>00002.jpg</td>\n",
       "    </tr>\n",
       "    <tr>\n",
       "      <th>2</th>\n",
       "      <td>2</td>\n",
       "      <td>85</td>\n",
       "      <td>109</td>\n",
       "      <td>601</td>\n",
       "      <td>381</td>\n",
       "      <td>91</td>\n",
       "      <td>Dodge Dakota Club Cab 2007</td>\n",
       "      <td>00003.jpg</td>\n",
       "    </tr>\n",
       "    <tr>\n",
       "      <th>3</th>\n",
       "      <td>3</td>\n",
       "      <td>621</td>\n",
       "      <td>393</td>\n",
       "      <td>1484</td>\n",
       "      <td>1096</td>\n",
       "      <td>134</td>\n",
       "      <td>Hyundai Sonata Hybrid Sedan 2012</td>\n",
       "      <td>00004.jpg</td>\n",
       "    </tr>\n",
       "    <tr>\n",
       "      <th>4</th>\n",
       "      <td>4</td>\n",
       "      <td>14</td>\n",
       "      <td>36</td>\n",
       "      <td>133</td>\n",
       "      <td>99</td>\n",
       "      <td>106</td>\n",
       "      <td>Ford F-450 Super Duty Crew Cab 2012</td>\n",
       "      <td>00005.jpg</td>\n",
       "    </tr>\n",
       "  </tbody>\n",
       "</table>\n",
       "</div>"
      ],
      "text/plain": [
       "   Unnamed: 0   x1   y1    x2    y2  class  \\\n",
       "0           0   39  116   569   375     14   \n",
       "1           1   36  116   868   587      3   \n",
       "2           2   85  109   601   381     91   \n",
       "3           3  621  393  1484  1096    134   \n",
       "4           4   14   36   133    99    106   \n",
       "\n",
       "                       ture_class_name      image  \n",
       "0                  Audi TTS Coupe 2012  00001.jpg  \n",
       "1                  Acura TL Sedan 2012  00002.jpg  \n",
       "2           Dodge Dakota Club Cab 2007  00003.jpg  \n",
       "3     Hyundai Sonata Hybrid Sedan 2012  00004.jpg  \n",
       "4  Ford F-450 Super Duty Crew Cab 2012  00005.jpg  "
      ]
     },
     "execution_count": 4,
     "metadata": {},
     "output_type": "execute_result"
    }
   ],
   "source": [
    "df.head()"
   ]
  },
  {
   "cell_type": "code",
   "execution_count": 10,
   "metadata": {},
   "outputs": [
    {
     "data": {
      "text/plain": [
       "(100, 96)"
      ]
     },
     "execution_count": 10,
     "metadata": {},
     "output_type": "execute_result"
    }
   ],
   "source": [
    "all_classes = df['class'].unique().tolist()\n",
    "\n",
    "import random\n",
    "# 100 classes - randomly\n",
    "test_classes = random.sample(all_classes, 100)\n",
    "\n",
    "# remaining 96 is for rice embeddings\n",
    "rice_classes = [x for x in all_classes if x not in test_classes]\n",
    "\n",
    "len(test_classes), len(rice_classes)"
   ]
  },
  {
   "cell_type": "code",
   "execution_count": 16,
   "metadata": {},
   "outputs": [
    {
     "name": "stdout",
     "output_type": "stream",
     "text": [
      "(1000, 3)\n"
     ]
    },
    {
     "data": {
      "text/html": [
       "<div>\n",
       "<style scoped>\n",
       "    .dataframe tbody tr th:only-of-type {\n",
       "        vertical-align: middle;\n",
       "    }\n",
       "\n",
       "    .dataframe tbody tr th {\n",
       "        vertical-align: top;\n",
       "    }\n",
       "\n",
       "    .dataframe thead th {\n",
       "        text-align: right;\n",
       "    }\n",
       "</style>\n",
       "<table border=\"1\" class=\"dataframe\">\n",
       "  <thead>\n",
       "    <tr style=\"text-align: right;\">\n",
       "      <th></th>\n",
       "      <th>image</th>\n",
       "      <th>class</th>\n",
       "      <th>true_class_name</th>\n",
       "    </tr>\n",
       "  </thead>\n",
       "  <tbody>\n",
       "    <tr>\n",
       "      <th>6385</th>\n",
       "      <td>06386.jpg</td>\n",
       "      <td>55</td>\n",
       "      <td>Chevrolet Corvette Convertible 2012</td>\n",
       "    </tr>\n",
       "    <tr>\n",
       "      <th>2388</th>\n",
       "      <td>02389.jpg</td>\n",
       "      <td>85</td>\n",
       "      <td>Dodge Caravan Minivan 1997</td>\n",
       "    </tr>\n",
       "    <tr>\n",
       "      <th>2901</th>\n",
       "      <td>02902.jpg</td>\n",
       "      <td>157</td>\n",
       "      <td>MINI Cooper Roadster Convertible 2012</td>\n",
       "    </tr>\n",
       "    <tr>\n",
       "      <th>2491</th>\n",
       "      <td>02492.jpg</td>\n",
       "      <td>135</td>\n",
       "      <td>Hyundai Elantra Sedan 2007</td>\n",
       "    </tr>\n",
       "    <tr>\n",
       "      <th>2999</th>\n",
       "      <td>03000.jpg</td>\n",
       "      <td>91</td>\n",
       "      <td>Dodge Dakota Club Cab 2007</td>\n",
       "    </tr>\n",
       "  </tbody>\n",
       "</table>\n",
       "</div>"
      ],
      "text/plain": [
       "          image class                        true_class_name\n",
       "6385  06386.jpg    55    Chevrolet Corvette Convertible 2012\n",
       "2388  02389.jpg    85             Dodge Caravan Minivan 1997\n",
       "2901  02902.jpg   157  MINI Cooper Roadster Convertible 2012\n",
       "2491  02492.jpg   135             Hyundai Elantra Sedan 2007\n",
       "2999  03000.jpg    91             Dodge Dakota Club Cab 2007"
      ]
     },
     "execution_count": 16,
     "metadata": {},
     "output_type": "execute_result"
    }
   ],
   "source": [
    "test_data = pd.DataFrame(columns = ['image', 'class', 'ture_class_name'])\n",
    "for cls in test_classes:\n",
    "    sub_df = df[df['class'] == cls]\n",
    "    sub_df = sub_df.sample(n=10, random_state=cls)\n",
    "    test_data = pd.concat([test_data, sub_df[['image', 'class', 'ture_class_name']]])\n",
    "test_data['true_class_name'] = test_data['ture_class_name'].tolist()\n",
    "test_data = test_data.drop(['ture_class_name'], axis=1)\n",
    "print(test_data.shape)\n",
    "test_data.sample(n=5)"
   ]
  },
  {
   "cell_type": "code",
   "execution_count": 19,
   "metadata": {},
   "outputs": [
    {
     "data": {
      "text/plain": [
       "('00003.jpg', '08135.jpg')"
      ]
     },
     "execution_count": 19,
     "metadata": {},
     "output_type": "execute_result"
    }
   ],
   "source": [
    "basepath = \"/scratch/workspace/dsaluru_umass_edu-email/stanford_cars/stanford_cars/cars_train/cars_train\"\n",
    "test_data.image.min(), test_data.image.max()"
   ]
  },
  {
   "cell_type": "code",
   "execution_count": 24,
   "metadata": {},
   "outputs": [
    {
     "data": {
      "text/plain": [
       "image_path\n",
       "True    1000\n",
       "Name: count, dtype: int64"
      ]
     },
     "execution_count": 24,
     "metadata": {},
     "output_type": "execute_result"
    }
   ],
   "source": [
    "test_data['image_path'] = test_data['image'].apply(lambda x: f\"{basepath}/{x}\")\n",
    "\n",
    "import os\n",
    "test_data['image_path'].apply(lambda x: os.path.exists(x)).value_counts()"
   ]
  },
  {
   "cell_type": "code",
   "execution_count": 25,
   "metadata": {},
   "outputs": [
    {
     "data": {
      "text/html": [
       "<div>\n",
       "<style scoped>\n",
       "    .dataframe tbody tr th:only-of-type {\n",
       "        vertical-align: middle;\n",
       "    }\n",
       "\n",
       "    .dataframe tbody tr th {\n",
       "        vertical-align: top;\n",
       "    }\n",
       "\n",
       "    .dataframe thead th {\n",
       "        text-align: right;\n",
       "    }\n",
       "</style>\n",
       "<table border=\"1\" class=\"dataframe\">\n",
       "  <thead>\n",
       "    <tr style=\"text-align: right;\">\n",
       "      <th></th>\n",
       "      <th>image</th>\n",
       "      <th>class</th>\n",
       "      <th>true_class_name</th>\n",
       "      <th>image_path</th>\n",
       "    </tr>\n",
       "  </thead>\n",
       "  <tbody>\n",
       "    <tr>\n",
       "      <th>2478</th>\n",
       "      <td>02479.jpg</td>\n",
       "      <td>83</td>\n",
       "      <td>Dodge Caliber Wagon 2012</td>\n",
       "      <td>/scratch/workspace/dsaluru_umass_edu-email/sta...</td>\n",
       "    </tr>\n",
       "    <tr>\n",
       "      <th>7215</th>\n",
       "      <td>07216.jpg</td>\n",
       "      <td>83</td>\n",
       "      <td>Dodge Caliber Wagon 2012</td>\n",
       "      <td>/scratch/workspace/dsaluru_umass_edu-email/sta...</td>\n",
       "    </tr>\n",
       "    <tr>\n",
       "      <th>3898</th>\n",
       "      <td>03899.jpg</td>\n",
       "      <td>83</td>\n",
       "      <td>Dodge Caliber Wagon 2012</td>\n",
       "      <td>/scratch/workspace/dsaluru_umass_edu-email/sta...</td>\n",
       "    </tr>\n",
       "    <tr>\n",
       "      <th>3768</th>\n",
       "      <td>03769.jpg</td>\n",
       "      <td>83</td>\n",
       "      <td>Dodge Caliber Wagon 2012</td>\n",
       "      <td>/scratch/workspace/dsaluru_umass_edu-email/sta...</td>\n",
       "    </tr>\n",
       "    <tr>\n",
       "      <th>305</th>\n",
       "      <td>00306.jpg</td>\n",
       "      <td>83</td>\n",
       "      <td>Dodge Caliber Wagon 2012</td>\n",
       "      <td>/scratch/workspace/dsaluru_umass_edu-email/sta...</td>\n",
       "    </tr>\n",
       "  </tbody>\n",
       "</table>\n",
       "</div>"
      ],
      "text/plain": [
       "          image class           true_class_name  \\\n",
       "2478  02479.jpg    83  Dodge Caliber Wagon 2012   \n",
       "7215  07216.jpg    83  Dodge Caliber Wagon 2012   \n",
       "3898  03899.jpg    83  Dodge Caliber Wagon 2012   \n",
       "3768  03769.jpg    83  Dodge Caliber Wagon 2012   \n",
       "305   00306.jpg    83  Dodge Caliber Wagon 2012   \n",
       "\n",
       "                                             image_path  \n",
       "2478  /scratch/workspace/dsaluru_umass_edu-email/sta...  \n",
       "7215  /scratch/workspace/dsaluru_umass_edu-email/sta...  \n",
       "3898  /scratch/workspace/dsaluru_umass_edu-email/sta...  \n",
       "3768  /scratch/workspace/dsaluru_umass_edu-email/sta...  \n",
       "305   /scratch/workspace/dsaluru_umass_edu-email/sta...  "
      ]
     },
     "execution_count": 25,
     "metadata": {},
     "output_type": "execute_result"
    }
   ],
   "source": [
    "test_data.head()"
   ]
  },
  {
   "cell_type": "code",
   "execution_count": 26,
   "metadata": {},
   "outputs": [
    {
     "name": "stdout",
     "output_type": "stream",
     "text": [
      "(96, 3)\n"
     ]
    },
    {
     "data": {
      "text/html": [
       "<div>\n",
       "<style scoped>\n",
       "    .dataframe tbody tr th:only-of-type {\n",
       "        vertical-align: middle;\n",
       "    }\n",
       "\n",
       "    .dataframe tbody tr th {\n",
       "        vertical-align: top;\n",
       "    }\n",
       "\n",
       "    .dataframe thead th {\n",
       "        text-align: right;\n",
       "    }\n",
       "</style>\n",
       "<table border=\"1\" class=\"dataframe\">\n",
       "  <thead>\n",
       "    <tr style=\"text-align: right;\">\n",
       "      <th></th>\n",
       "      <th>image</th>\n",
       "      <th>class</th>\n",
       "      <th>true_class_name</th>\n",
       "    </tr>\n",
       "  </thead>\n",
       "  <tbody>\n",
       "    <tr>\n",
       "      <th>3190</th>\n",
       "      <td>03191.jpg</td>\n",
       "      <td>5</td>\n",
       "      <td>Acura TSX Sedan 2012</td>\n",
       "    </tr>\n",
       "    <tr>\n",
       "      <th>8090</th>\n",
       "      <td>08091.jpg</td>\n",
       "      <td>95</td>\n",
       "      <td>Dodge Durango SUV 2007</td>\n",
       "    </tr>\n",
       "    <tr>\n",
       "      <th>2943</th>\n",
       "      <td>02944.jpg</td>\n",
       "      <td>129</td>\n",
       "      <td>Honda Accord Sedan 2012</td>\n",
       "    </tr>\n",
       "    <tr>\n",
       "      <th>3205</th>\n",
       "      <td>03206.jpg</td>\n",
       "      <td>23</td>\n",
       "      <td>Audi S4 Sedan 2012</td>\n",
       "    </tr>\n",
       "    <tr>\n",
       "      <th>6855</th>\n",
       "      <td>06856.jpg</td>\n",
       "      <td>71</td>\n",
       "      <td>Chevrolet Express Van 2007</td>\n",
       "    </tr>\n",
       "  </tbody>\n",
       "</table>\n",
       "</div>"
      ],
      "text/plain": [
       "          image class             true_class_name\n",
       "3190  03191.jpg     5        Acura TSX Sedan 2012\n",
       "8090  08091.jpg    95      Dodge Durango SUV 2007\n",
       "2943  02944.jpg   129     Honda Accord Sedan 2012\n",
       "3205  03206.jpg    23          Audi S4 Sedan 2012\n",
       "6855  06856.jpg    71  Chevrolet Express Van 2007"
      ]
     },
     "execution_count": 26,
     "metadata": {},
     "output_type": "execute_result"
    }
   ],
   "source": [
    "rice_data = pd.DataFrame(columns = ['image', 'class', 'ture_class_name'])\n",
    "for cls in rice_classes:\n",
    "    sub_df = df[df['class'] == cls]\n",
    "    sub_df = sub_df.sample(n=1, random_state=cls)\n",
    "    rice_data = pd.concat([rice_data, sub_df[['image', 'class', 'ture_class_name']]])\n",
    "rice_data['true_class_name'] = rice_data['ture_class_name'].tolist()\n",
    "rice_data = rice_data.drop(['ture_class_name'], axis=1)\n",
    "print(rice_data.shape)\n",
    "rice_data.sample(n=5)"
   ]
  },
  {
   "cell_type": "code",
   "execution_count": 27,
   "metadata": {},
   "outputs": [],
   "source": [
    "rice_data['image_path'] = rice_data['image'].apply(lambda x: f\"{basepath}/{x}\")"
   ]
  },
  {
   "cell_type": "code",
   "execution_count": 28,
   "metadata": {},
   "outputs": [],
   "source": [
    "# test_data.to_pickle(\"stanford_cars_test_data_1k_samples.pickle\")"
   ]
  },
  {
   "cell_type": "code",
   "execution_count": 29,
   "metadata": {},
   "outputs": [],
   "source": [
    "# rice_data.to_pickle(\"stanford_cars_rice_data_1k_samples.pickle\")"
   ]
  }
 ],
 "metadata": {
  "kernelspec": {
   "display_name": "icl",
   "language": "python",
   "name": "python3"
  },
  "language_info": {
   "codemirror_mode": {
    "name": "ipython",
    "version": 3
   },
   "file_extension": ".py",
   "mimetype": "text/x-python",
   "name": "python",
   "nbconvert_exporter": "python",
   "pygments_lexer": "ipython3",
   "version": "3.9.20"
  }
 },
 "nbformat": 4,
 "nbformat_minor": 2
}
