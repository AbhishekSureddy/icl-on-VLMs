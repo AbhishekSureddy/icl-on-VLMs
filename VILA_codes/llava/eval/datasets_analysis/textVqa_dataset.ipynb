{
 "cells": [
  {
   "cell_type": "code",
   "execution_count": 1,
   "id": "2a75ce0e-bb9b-4309-8ad5-12032e2d0068",
   "metadata": {},
   "outputs": [],
   "source": [
    "import json\n",
    "import os\n",
    "\n",
    "from PIL import Image\n",
    "from torch.utils.data import Dataset\n",
    "from collections import Counter"
   ]
  },
  {
   "cell_type": "code",
   "execution_count": 2,
   "id": "d8cfb564-86a2-4d29-beda-b8a48ad8baa2",
   "metadata": {},
   "outputs": [],
   "source": [
    "class TextVQADataset(Dataset):\n",
    "    def __init__(\n",
    "        self, image_dir_path, annotations_path\n",
    "    ):\n",
    "        self.data = json.load(open(annotations_path, \"r\"))[\"data\"]\n",
    "        self.image_dir_path = image_dir_path\n",
    "        \n",
    "    def __len__(self):\n",
    "        return len(self.data)\n",
    "\n",
    "    def get_img_path(self, img_id):\n",
    "        return os.path.join(self.image_dir_path, f\"{img_id}.jpg\")\n",
    "\n",
    "    def most_frequent_string(self, strings):\n",
    "        \"\"\"\n",
    "        Finds the most frequent string in an array of strings.\n",
    "        \n",
    "        :param strings: List of strings\n",
    "        :return: The most frequent string and its count\n",
    "        \"\"\"\n",
    "        if not strings:\n",
    "            return None, 0  # Return None and 0 if the input list is empty\n",
    "    \n",
    "        # Count occurrences of each string\n",
    "        counts = Counter(strings)\n",
    "        \n",
    "        # Find the string with the maximum count\n",
    "        most_frequent = counts.most_common(1)[0]  # Returns a list of tuples [(string, count)]\n",
    "        return most_frequent[0]\n",
    "        \n",
    "    def __getitem__(self, idx):\n",
    "        question = self.data[idx][\"question\"]\n",
    "        img_path = self.get_img_path(self.data[idx][\"image_id\"])\n",
    "        image = Image.open(img_path)\n",
    "        image.load()\n",
    "        results = {\n",
    "            \"image\": image,\n",
    "            \"image_id\": self.data[idx][\"image_id\"],\n",
    "            \"question\": question,\n",
    "            \"question_id\": self.data[idx][\"question_id\"],\n",
    "            \"answers\": self.data[idx][\"answers\"],\n",
    "            \n",
    "        }\n",
    "        results[\"best_answer\"] = self.most_frequent_string(results[\"answers\"])\n",
    "        return results"
   ]
  },
  {
   "cell_type": "code",
   "execution_count": 3,
   "id": "3967828a-0b43-42f3-8ee5-26a708583c68",
   "metadata": {},
   "outputs": [],
   "source": [
    "img_dir_path = \"/scratch/workspace/asureddy_umass_edu-llm_alignment/dataset/vqa/textvqa/train_val_images/train_images\"\n",
    "tr_annotations_path = \"/scratch/workspace/asureddy_umass_edu-llm_alignment/dataset/vqa/textvqa/TextVQA_0.5.1_train.json\"\n",
    "val_annotations_path = \"/scratch/workspace/asureddy_umass_edu-llm_alignment/dataset/vqa/textvqa/TextVQA_0.5.1_val.json\""
   ]
  },
  {
   "cell_type": "code",
   "execution_count": 4,
   "id": "33e92b7b-1e7a-4cdb-aaae-5e66149e4ee2",
   "metadata": {},
   "outputs": [],
   "source": [
    "train_dataset = TextVQADataset(img_dir_path, tr_annotations_path)"
   ]
  },
  {
   "cell_type": "code",
   "execution_count": 5,
   "id": "ce1d0700-de09-44d5-8582-6922cb87aca4",
   "metadata": {},
   "outputs": [],
   "source": [
    "val_dataset = TextVQADataset(img_dir_path, val_annotations_path)"
   ]
  },
  {
   "cell_type": "code",
   "execution_count": 6,
   "id": "d4a33ec6-219e-46ef-9ad1-334184cc2d14",
   "metadata": {},
   "outputs": [
    {
     "data": {
      "text/plain": [
       "34602"
      ]
     },
     "execution_count": 6,
     "metadata": {},
     "output_type": "execute_result"
    }
   ],
   "source": [
    "len(train_dataset)"
   ]
  },
  {
   "cell_type": "code",
   "execution_count": 7,
   "id": "55e3d4f7-0a65-4e17-810d-5816978e8251",
   "metadata": {},
   "outputs": [
    {
     "data": {
      "text/plain": [
       "{'image': <PIL.JpegImagePlugin.JpegImageFile image mode=RGB size=1024x730>,\n",
       " 'image_id': '0054c91397f2fe05',\n",
       " 'question': 'what is the brand of phone?',\n",
       " 'question_id': 0,\n",
       " 'answers': ['nokia',\n",
       "  'nokia',\n",
       "  'nokia',\n",
       "  'nokia',\n",
       "  'toshiba',\n",
       "  'nokia',\n",
       "  'nokia',\n",
       "  'nokia',\n",
       "  'nokia',\n",
       "  'nokia'],\n",
       " 'best_answer': 'nokia'}"
      ]
     },
     "execution_count": 7,
     "metadata": {},
     "output_type": "execute_result"
    }
   ],
   "source": [
    "train_dataset[0]"
   ]
  },
  {
   "cell_type": "code",
   "execution_count": 26,
   "id": "3ca66e8d-60f8-4790-81ea-c213833479ce",
   "metadata": {},
   "outputs": [],
   "source": [
    "from tqdm import tqdm"
   ]
  },
  {
   "cell_type": "code",
   "execution_count": 27,
   "id": "6f608e81-973e-4eda-9ebd-45c57d56257b",
   "metadata": {},
   "outputs": [
    {
     "name": "stderr",
     "output_type": "stream",
     "text": [
      "\n",
      "  0%|                                                 | 0/34602 [00:00<?, ?it/s]\u001b[A\n",
      " 43%|██████████████                   | 14757/34602 [00:00<00:00, 147562.05it/s]\u001b[A\n",
      "100%|█████████████████████████████████| 34602/34602 [00:00<00:00, 151554.65it/s]\u001b[A\n"
     ]
    }
   ],
   "source": [
    "uniq_images = set([train_dataset[i]['image_id'] for i in tqdm(range(len(train_dataset)))])"
   ]
  },
  {
   "cell_type": "code",
   "execution_count": 28,
   "id": "7fb2cc1b-961a-4295-bfbf-d01330045647",
   "metadata": {},
   "outputs": [
    {
     "name": "stderr",
     "output_type": "stream",
     "text": [
      "\n",
      "100%|███████████████████████████████████| 5000/5000 [00:00<00:00, 134718.67it/s]\u001b[A\n"
     ]
    }
   ],
   "source": [
    "val_uniq_images = set([val_dataset[i]['image_id'] for i in tqdm(range(len(val_dataset)))])"
   ]
  },
  {
   "cell_type": "code",
   "execution_count": 32,
   "id": "f81798af-0542-45a2-990b-35fed63b0d84",
   "metadata": {},
   "outputs": [
    {
     "data": {
      "text/plain": [
       "(21953, 21953, 3166)"
      ]
     },
     "execution_count": 32,
     "metadata": {},
     "output_type": "execute_result"
    }
   ],
   "source": [
    "# This means, train and val images are separate => we can use val as our test data\n",
    "len(uniq_images), len(uniq_images-val_uniq_images), len(val_uniq_images)"
   ]
  },
  {
   "cell_type": "markdown",
   "id": "220cd4f3-d78b-4c77-a0cb-c1c6c6f32725",
   "metadata": {},
   "source": [
    "## RICE Features"
   ]
  },
  {
   "cell_type": "code",
   "execution_count": 15,
   "id": "1633a47f-923b-4ce4-b075-bf29f6ec44d6",
   "metadata": {},
   "outputs": [],
   "source": [
    "import sys\n",
    "import pickle\n",
    "sys.path.append(\"..\")"
   ]
  },
  {
   "cell_type": "code",
   "execution_count": 13,
   "id": "9750a053-5206-40a3-9681-bb5a13d67522",
   "metadata": {},
   "outputs": [
    {
     "name": "stderr",
     "output_type": "stream",
     "text": [
      "/home/asureddy_umass_edu/.conda/envs/vila/lib/python3.10/site-packages/transformers/utils/hub.py:124: FutureWarning: Using `TRANSFORMERS_CACHE` is deprecated and will be removed in v5 of Transformers. Use `HF_HOME` instead.\n",
      "  warnings.warn(\n",
      "/home/asureddy_umass_edu/.conda/envs/vila/lib/python3.10/site-packages/open_clip/factory.py:372: UserWarning: These pretrained weights were trained with QuickGELU activation but the model config does not have that enabled. Consider using a model config with a \"-quickgelu\" suffix or enable with a flag.\n",
      "  warnings.warn(\n",
      "Precomputing features for RICES: 100%|██████████████████████████████| 1082/1082 [10:41<00:00,  1.69it/s]\n"
     ]
    }
   ],
   "source": [
    "from rice import RICES\n",
    "\n",
    "rices = RICES(train_dataset, 'cuda', 32)"
   ]
  },
  {
   "cell_type": "code",
   "execution_count": 16,
   "id": "f07beb63-dc27-454f-a44d-f00d3ebb0083",
   "metadata": {},
   "outputs": [],
   "source": [
    "save_path = \"/scratch/workspace/asureddy_umass_edu-llm_alignment/features-cache/textvqa.pkl\"\n",
    "with open(save_path, 'wb') as f:\n",
    "    pickle.dump(rices.features.cpu(),f)\n",
    "\n",
    "with open(save_path, 'rb') as f:\n",
    "    rice_cached_features = pickle.load(f)"
   ]
  },
  {
   "cell_type": "code",
   "execution_count": 17,
   "id": "7862996a-ce34-48de-9557-cdd668d36949",
   "metadata": {},
   "outputs": [
    {
     "data": {
      "text/plain": [
       "tensor([[ 0.0099,  0.0753, -0.0317,  ...,  0.0568, -0.0489, -0.0386],\n",
       "        [ 0.0173,  0.0363, -0.0251,  ...,  0.0230,  0.0046,  0.0255],\n",
       "        [ 0.0173,  0.0363, -0.0251,  ...,  0.0230,  0.0046,  0.0255],\n",
       "        ...,\n",
       "        [ 0.0008,  0.0309,  0.0169,  ...,  0.0940,  0.0352, -0.0186],\n",
       "        [-0.0028, -0.0605, -0.0097,  ...,  0.0221,  0.0069, -0.0292],\n",
       "        [-0.0028, -0.0605, -0.0097,  ...,  0.0221,  0.0069, -0.0292]])"
      ]
     },
     "execution_count": 17,
     "metadata": {},
     "output_type": "execute_result"
    }
   ],
   "source": [
    "rices.features.cpu()"
   ]
  },
  {
   "cell_type": "code",
   "execution_count": 18,
   "id": "0cc65708-f804-49b5-99f6-ca865e380949",
   "metadata": {},
   "outputs": [
    {
     "data": {
      "text/plain": [
       "tensor([[ 0.0099,  0.0753, -0.0317,  ...,  0.0568, -0.0489, -0.0386],\n",
       "        [ 0.0173,  0.0363, -0.0251,  ...,  0.0230,  0.0046,  0.0255],\n",
       "        [ 0.0173,  0.0363, -0.0251,  ...,  0.0230,  0.0046,  0.0255],\n",
       "        ...,\n",
       "        [ 0.0008,  0.0309,  0.0169,  ...,  0.0940,  0.0352, -0.0186],\n",
       "        [-0.0028, -0.0605, -0.0097,  ...,  0.0221,  0.0069, -0.0292],\n",
       "        [-0.0028, -0.0605, -0.0097,  ...,  0.0221,  0.0069, -0.0292]])"
      ]
     },
     "execution_count": 18,
     "metadata": {},
     "output_type": "execute_result"
    }
   ],
   "source": [
    "rice_cached_features"
   ]
  },
  {
   "cell_type": "code",
   "execution_count": null,
   "id": "358c2d6c-06ca-499a-8494-578084b8158b",
   "metadata": {},
   "outputs": [],
   "source": []
  }
 ],
 "metadata": {
  "kernelspec": {
   "display_name": "Python 3 (ipykernel)",
   "language": "python",
   "name": "python3"
  },
  "language_info": {
   "codemirror_mode": {
    "name": "ipython",
    "version": 3
   },
   "file_extension": ".py",
   "mimetype": "text/x-python",
   "name": "python",
   "nbconvert_exporter": "python",
   "pygments_lexer": "ipython3",
   "version": "3.10.15"
  }
 },
 "nbformat": 4,
 "nbformat_minor": 5
}
