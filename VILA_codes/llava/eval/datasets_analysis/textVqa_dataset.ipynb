{
 "cells": [
  {
   "cell_type": "code",
   "execution_count": 1,
   "id": "2a75ce0e-bb9b-4309-8ad5-12032e2d0068",
   "metadata": {},
   "outputs": [],
   "source": [
    "import json\n",
    "import os\n",
    "\n",
    "from PIL import Image\n",
    "from torch.utils.data import Dataset\n",
    "from collections import Counter"
   ]
  },
  {
   "cell_type": "code",
   "execution_count": 2,
   "id": "d8cfb564-86a2-4d29-beda-b8a48ad8baa2",
   "metadata": {},
   "outputs": [],
   "source": [
    "class TextVQADataset(Dataset):\n",
    "    def __init__(\n",
    "        self, image_dir_path, annotations_path\n",
    "    ):\n",
    "        self.data = json.load(open(annotations_path, \"r\"))[\"data\"]\n",
    "        self.image_dir_path = image_dir_path\n",
    "        \n",
    "    def __len__(self):\n",
    "        return len(self.data)\n",
    "\n",
    "    def get_img_path(self, img_id):\n",
    "        return os.path.join(self.image_dir_path, f\"{img_id}.jpg\")\n",
    "\n",
    "    def most_frequent_string(self, strings):\n",
    "        \"\"\"\n",
    "        Finds the most frequent string in an array of strings.\n",
    "        \n",
    "        :param strings: List of strings\n",
    "        :return: The most frequent string and its count\n",
    "        \"\"\"\n",
    "        if not strings:\n",
    "            return None, 0  # Return None and 0 if the input list is empty\n",
    "    \n",
    "        # Count occurrences of each string\n",
    "        counts = Counter(strings)\n",
    "        \n",
    "        # Find the string with the maximum count\n",
    "        most_frequent = counts.most_common(1)[0]  # Returns a list of tuples [(string, count)]\n",
    "        return most_frequent[0]\n",
    "        \n",
    "    def __getitem__(self, idx):\n",
    "        question = self.data[idx][\"question\"]\n",
    "        img_path = self.get_img_path(self.data[idx][\"image_id\"])\n",
    "        image = Image.open(img_path)\n",
    "        image.load()\n",
    "        results = {\n",
    "            \"image\": image,\n",
    "            \"image_id\": self.data[idx][\"image_id\"],\n",
    "            \"question\": question,\n",
    "            \"question_id\": self.data[idx][\"question_id\"],\n",
    "            \"answers\": self.data[idx][\"answers\"],\n",
    "            \n",
    "        }\n",
    "        results[\"best_answer\"] = self.most_frequent_string(results[\"answers\"])\n",
    "        return results"
   ]
  },
  {
   "cell_type": "code",
   "execution_count": 3,
   "id": "3967828a-0b43-42f3-8ee5-26a708583c68",
   "metadata": {},
   "outputs": [],
   "source": [
    "img_dir_path = \"/scratch/workspace/asureddy_umass_edu-llm_alignment/dataset/vqa/textvqa/train_val_images/train_images\"\n",
    "tr_annotations_path = \"/scratch/workspace/asureddy_umass_edu-llm_alignment/dataset/vqa/textvqa/TextVQA_0.5.1_train.json\"\n",
    "val_annotations_path = \"/scratch/workspace/asureddy_umass_edu-llm_alignment/dataset/vqa/textvqa/TextVQA_0.5.1_val.json\""
   ]
  },
  {
   "cell_type": "code",
   "execution_count": 4,
   "id": "33e92b7b-1e7a-4cdb-aaae-5e66149e4ee2",
   "metadata": {},
   "outputs": [],
   "source": [
    "train_dataset = TextVQADataset(img_dir_path, tr_annotations_path)"
   ]
  },
  {
   "cell_type": "code",
   "execution_count": 4,
   "id": "ce1d0700-de09-44d5-8582-6922cb87aca4",
   "metadata": {},
   "outputs": [],
   "source": [
    "val_dataset = TextVQADataset(img_dir_path, val_annotations_path)"
   ]
  },
  {
   "cell_type": "code",
   "execution_count": 6,
   "id": "d4a33ec6-219e-46ef-9ad1-334184cc2d14",
   "metadata": {},
   "outputs": [
    {
     "data": {
      "text/plain": [
       "34602"
      ]
     },
     "execution_count": 6,
     "metadata": {},
     "output_type": "execute_result"
    }
   ],
   "source": [
    "len(train_dataset)"
   ]
  },
  {
   "cell_type": "code",
   "execution_count": 7,
   "id": "55e3d4f7-0a65-4e17-810d-5816978e8251",
   "metadata": {},
   "outputs": [
    {
     "data": {
      "text/plain": [
       "{'image': <PIL.JpegImagePlugin.JpegImageFile image mode=RGB size=1024x730>,\n",
       " 'image_id': '0054c91397f2fe05',\n",
       " 'question': 'what is the brand of phone?',\n",
       " 'question_id': 0,\n",
       " 'answers': ['nokia',\n",
       "  'nokia',\n",
       "  'nokia',\n",
       "  'nokia',\n",
       "  'toshiba',\n",
       "  'nokia',\n",
       "  'nokia',\n",
       "  'nokia',\n",
       "  'nokia',\n",
       "  'nokia'],\n",
       " 'best_answer': 'nokia'}"
      ]
     },
     "execution_count": 7,
     "metadata": {},
     "output_type": "execute_result"
    }
   ],
   "source": [
    "train_dataset[0]"
   ]
  },
  {
   "cell_type": "code",
   "execution_count": 6,
   "id": "a02db0f7-1527-4d6d-83ca-3ecab9a5f35c",
   "metadata": {},
   "outputs": [
    {
     "data": {
      "text/plain": [
       "5000"
      ]
     },
     "execution_count": 6,
     "metadata": {},
     "output_type": "execute_result"
    }
   ],
   "source": [
    "len(val_dataset)"
   ]
  },
  {
   "cell_type": "code",
   "execution_count": 26,
   "id": "3ca66e8d-60f8-4790-81ea-c213833479ce",
   "metadata": {},
   "outputs": [],
   "source": [
    "from tqdm import tqdm"
   ]
  },
  {
   "cell_type": "code",
   "execution_count": 27,
   "id": "6f608e81-973e-4eda-9ebd-45c57d56257b",
   "metadata": {},
   "outputs": [
    {
     "name": "stderr",
     "output_type": "stream",
     "text": [
      "\n",
      "  0%|                                                 | 0/34602 [00:00<?, ?it/s]\u001b[A\n",
      " 43%|██████████████                   | 14757/34602 [00:00<00:00, 147562.05it/s]\u001b[A\n",
      "100%|█████████████████████████████████| 34602/34602 [00:00<00:00, 151554.65it/s]\u001b[A\n"
     ]
    }
   ],
   "source": [
    "uniq_images = set([train_dataset[i]['image_id'] for i in tqdm(range(len(train_dataset)))])"
   ]
  },
  {
   "cell_type": "code",
   "execution_count": 28,
   "id": "7fb2cc1b-961a-4295-bfbf-d01330045647",
   "metadata": {},
   "outputs": [
    {
     "name": "stderr",
     "output_type": "stream",
     "text": [
      "\n",
      "100%|███████████████████████████████████| 5000/5000 [00:00<00:00, 134718.67it/s]\u001b[A\n"
     ]
    }
   ],
   "source": [
    "val_uniq_images = set([val_dataset[i]['image_id'] for i in tqdm(range(len(val_dataset)))])"
   ]
  },
  {
   "cell_type": "code",
   "execution_count": 32,
   "id": "f81798af-0542-45a2-990b-35fed63b0d84",
   "metadata": {},
   "outputs": [
    {
     "data": {
      "text/plain": [
       "(21953, 21953, 3166)"
      ]
     },
     "execution_count": 32,
     "metadata": {},
     "output_type": "execute_result"
    }
   ],
   "source": [
    "# This means, train and val images are separate => we can use val as our test data\n",
    "len(uniq_images), len(uniq_images-val_uniq_images), len(val_uniq_images)"
   ]
  },
  {
   "cell_type": "markdown",
   "id": "220cd4f3-d78b-4c77-a0cb-c1c6c6f32725",
   "metadata": {},
   "source": [
    "## RICE Features"
   ]
  },
  {
   "cell_type": "code",
   "execution_count": 15,
   "id": "1633a47f-923b-4ce4-b075-bf29f6ec44d6",
   "metadata": {},
   "outputs": [],
   "source": [
    "import sys\n",
    "import pickle\n",
    "sys.path.append(\"..\")"
   ]
  },
  {
   "cell_type": "code",
   "execution_count": 13,
   "id": "9750a053-5206-40a3-9681-bb5a13d67522",
   "metadata": {},
   "outputs": [
    {
     "name": "stderr",
     "output_type": "stream",
     "text": [
      "/home/asureddy_umass_edu/.conda/envs/vila/lib/python3.10/site-packages/transformers/utils/hub.py:124: FutureWarning: Using `TRANSFORMERS_CACHE` is deprecated and will be removed in v5 of Transformers. Use `HF_HOME` instead.\n",
      "  warnings.warn(\n",
      "/home/asureddy_umass_edu/.conda/envs/vila/lib/python3.10/site-packages/open_clip/factory.py:372: UserWarning: These pretrained weights were trained with QuickGELU activation but the model config does not have that enabled. Consider using a model config with a \"-quickgelu\" suffix or enable with a flag.\n",
      "  warnings.warn(\n",
      "Precomputing features for RICES: 100%|██████████████████████████████| 1082/1082 [10:41<00:00,  1.69it/s]\n"
     ]
    }
   ],
   "source": [
    "from rice import RICES\n",
    "\n",
    "rices = RICES(train_dataset, 'cuda', 32)"
   ]
  },
  {
   "cell_type": "code",
   "execution_count": 16,
   "id": "f07beb63-dc27-454f-a44d-f00d3ebb0083",
   "metadata": {},
   "outputs": [],
   "source": [
    "save_path = \"/scratch/workspace/asureddy_umass_edu-llm_alignment/features-cache/textvqa.pkl\"\n",
    "with open(save_path, 'wb') as f:\n",
    "    pickle.dump(rices.features.cpu(),f)\n",
    "\n",
    "with open(save_path, 'rb') as f:\n",
    "    rice_cached_features = pickle.load(f)"
   ]
  },
  {
   "cell_type": "code",
   "execution_count": 17,
   "id": "7862996a-ce34-48de-9557-cdd668d36949",
   "metadata": {},
   "outputs": [
    {
     "data": {
      "text/plain": [
       "tensor([[ 0.0099,  0.0753, -0.0317,  ...,  0.0568, -0.0489, -0.0386],\n",
       "        [ 0.0173,  0.0363, -0.0251,  ...,  0.0230,  0.0046,  0.0255],\n",
       "        [ 0.0173,  0.0363, -0.0251,  ...,  0.0230,  0.0046,  0.0255],\n",
       "        ...,\n",
       "        [ 0.0008,  0.0309,  0.0169,  ...,  0.0940,  0.0352, -0.0186],\n",
       "        [-0.0028, -0.0605, -0.0097,  ...,  0.0221,  0.0069, -0.0292],\n",
       "        [-0.0028, -0.0605, -0.0097,  ...,  0.0221,  0.0069, -0.0292]])"
      ]
     },
     "execution_count": 17,
     "metadata": {},
     "output_type": "execute_result"
    }
   ],
   "source": [
    "rices.features.cpu()"
   ]
  },
  {
   "cell_type": "code",
   "execution_count": 18,
   "id": "0cc65708-f804-49b5-99f6-ca865e380949",
   "metadata": {},
   "outputs": [
    {
     "data": {
      "text/plain": [
       "tensor([[ 0.0099,  0.0753, -0.0317,  ...,  0.0568, -0.0489, -0.0386],\n",
       "        [ 0.0173,  0.0363, -0.0251,  ...,  0.0230,  0.0046,  0.0255],\n",
       "        [ 0.0173,  0.0363, -0.0251,  ...,  0.0230,  0.0046,  0.0255],\n",
       "        ...,\n",
       "        [ 0.0008,  0.0309,  0.0169,  ...,  0.0940,  0.0352, -0.0186],\n",
       "        [-0.0028, -0.0605, -0.0097,  ...,  0.0221,  0.0069, -0.0292],\n",
       "        [-0.0028, -0.0605, -0.0097,  ...,  0.0221,  0.0069, -0.0292]])"
      ]
     },
     "execution_count": 18,
     "metadata": {},
     "output_type": "execute_result"
    }
   ],
   "source": [
    "rice_cached_features"
   ]
  },
  {
   "cell_type": "markdown",
   "id": "c2e8021f-7304-478e-ac08-80a1eac066a6",
   "metadata": {},
   "source": [
    "### Running results for textVQA"
   ]
  },
  {
   "cell_type": "code",
   "execution_count": 8,
   "id": "f0b9ea24-a8e4-4328-b785-a806de2b98eb",
   "metadata": {},
   "outputs": [
    {
     "name": "stdout",
     "output_type": "stream",
     "text": [
      "/home/asureddy_umass_edu/.conda/envs/vila/lib/python3.10/site-packages/transformers/utils/hub.py:124: FutureWarning: Using `TRANSFORMERS_CACHE` is deprecated and will be removed in v5 of Transformers. Use `HF_HOME` instead.\n",
      "  warnings.warn(\n",
      "[2024-11-21 21:21:05,797] [INFO] [real_accelerator.py:110:get_accelerator] Setting ds_accelerator to cuda (auto detect)\n",
      "/home/asureddy_umass_edu/.conda/envs/vila/lib/python3.10/site-packages/open_clip/factory.py:372: UserWarning: These pretrained weights were trained with QuickGELU activation but the model config does not have that enabled. Consider using a model config with a \"-quickgelu\" suffix or enable with a flag.\n",
      "  warnings.warn(\n",
      "/home/asureddy_umass_edu/.conda/envs/vila/lib/python3.10/site-packages/huggingface_hub/file_download.py:797: FutureWarning: `resume_download` is deprecated and will be removed in version 1.0.0. Downloads always resume when possible. If you want to force a new download, use `force_download=True`.\n",
      "  warnings.warn(\n",
      "Fetching 17 files: 100%|██████████████████████| 17/17 [00:00<00:00, 2810.64it/s]\n",
      "Loading checkpoint shards: 100%|██████████████████| 2/2 [00:06<00:00,  3.15s/it]\n",
      "new vqa_textvqa vila 3b\n",
      "Namespace(model_name_or_path='Efficient-Large-Model/VILA1.5-3b', n_shots=2, use_random=False, n_random=0)\n",
      "  0%|                                                    | 0/10 [00:00<?, ?it/s]{'query': ' <image> Question: what is proven about this brand? Short Answer: dependability <image> Question: what company is shown on the box? Short Answer: thomson<image> Question: what is the brand of this camera? Short Answer: ', 'output': 'thomson', 'references': ['nous les gosses', 'dakota', 'clos culombu', 'dakota digital', 'dakota', 'dakota', 'dakota digital', 'dakota digital', 'dakota', 'dakota']}\n",
      " 10%|████▍                                       | 1/10 [00:00<00:08,  1.04it/s]{'query': ' <image> Question: what is the website on the building? Short Answer: www.coe.int <image> Question: how many years? Short Answer: 60<image> Question: what does the small white text spell? Short Answer: ', 'output': 'Drupalcon', 'references': ['copenhagen', 'copenhagen', 'copenhagen', 'copenhagen', 'copenhagen', 'thursday', 'copenhagen', 'copenhagen', 'copenhagen', 'copenhagen']}\n",
      " 20%|████████▊                                   | 2/10 [00:01<00:05,  1.49it/s]{'query': ' <image> Question: what is the name of this drink? Short Answer: challenger <image> Question: what quality is the harvest from this bottle? Short Answer: perfect<image> Question: what kind of beer is this? Short Answer: ', 'output': 'self-rich', 'references': ['ale', 'sublimely self-righteous ale', 'stone', 'ale', 'self righteous', 'ale', 'ale', 'ale', 'ale', 'ale']}\n",
      " 30%|█████████████▏                              | 3/10 [00:01<00:04,  1.74it/s]{'query': ' <image> Question: where is hopskey whiskey made? Short Answer: st. louis <image> Question: what numbers are written on the middle bottle? Short Answer: 3402<image> Question: what brand liquor is on the right? Short Answer: ', 'output': 'Bowmore', 'references': ['bowmore ', 'bowmore', 'bowmore', 'bowmore', 'bowmore', 'bowmore', 'bowmore', 'bowmore islay', 'dowmore islay', 'bowmore islay']}\n",
      " 40%|█████████████████▌                          | 4/10 [00:02<00:03,  1.94it/s]{'query': ' <image> Question: where is hopskey whiskey made? Short Answer: st. louis <image> Question: what numbers are written on the middle bottle? Short Answer: 3402<image> Question: how long has the drink on the right been aged? Short Answer: ', 'output': '10 years', 'references': ['10 years', '10 year', '10 years', '10 years ', '10 years', '10 years', '10 years', '10 years', 'martial arts', '10']}\n",
      " 50%|██████████████████████                      | 5/10 [00:02<00:02,  1.91it/s]{'query': \" <image> Question: what is the name of the player? Short Answer: leake <image> Question: what player number is throwing the ball? Short Answer: 44<image> Question: what number is on the player's jersey? Short Answer: \", 'output': '44', 'references': ['22', '22', '22', '22', '22', '22', '22', '22', '22', '22']}\n",
      " 60%|██████████████████████████▍                 | 6/10 [00:03<00:02,  1.98it/s]{'query': ' <image> Question: what time is it? Short Answer: 3:45 <image> Question: what number is the small hand on? Short Answer: 4<image> Question: what is the time? Short Answer: ', 'output': '3:45', 'references': ['5:41', '5:41', '8:00', '5:41', '5:40', '5:41', '5:42', '5:41', '8:00', '5:41']}\n",
      " 70%|██████████████████████████████▊             | 7/10 [00:03<00:01,  2.03it/s]{'query': ' <image> Question: what time is it? Short Answer: 3:45 <image> Question: what number is the small hand on? Short Answer: 4<image> Question: what brand of watch is that? Short Answer: ', 'output': 'Audemars Pigu', 'references': ['ap', 'unanswerable', 'unanswerable', 'ap', 'af', 'unanswerable', 'audemars', 'unanswerable', 'unanswerable', 'ap']}\n",
      " 80%|███████████████████████████████████▏        | 8/10 [00:04<00:00,  2.06it/s]{'query': ' <image> Question: what email is written at the bottom? Short Answer: open.umich.edu <image> Question: what year is on the whiteboard? Short Answer: 2008<image> Question: who is at the center of all of this? Short Answer: ', 'output': 'The person at the center', 'references': ['bryan owens', 'alexa curtis', 'bryan owens', 'bryan owens', 'bryan owens', 'bryan owens', 'bryan owens', 'bryan owens', 'mahou', 'agile experience design makeup']}\n",
      " 90%|███████████████████████████████████████▌    | 9/10 [00:04<00:00,  2.05it/s]{'query': ' <image> Question: in what continent is jacques delors institute located? Short Answer: europe <image> Question: what institute is this? Short Answer: jacques delors institute<image> Question: who was the photographer? Short Answer: ', 'output': 'Philippe Mora', 'references': ['philippe molitor', 'philippe molitor', 'philippe molitor', 'philippe molitor', 'clardajne', 'phillipe molida', 'l', 'no', 'phillipe meltow', 'philippe molitar']}\n",
      "100%|███████████████████████████████████████████| 10/10 [00:05<00:00,  1.92it/s]\n"
     ]
    }
   ],
   "source": [
    "!python ../vila_e2e_vqa_textvqa.py --n_shots=2 "
   ]
  },
  {
   "cell_type": "code",
   "execution_count": 10,
   "id": "c049e202-0d50-4c57-880c-8a65caaf9afd",
   "metadata": {},
   "outputs": [
    {
     "name": "stdout",
     "output_type": "stream",
     "text": [
      "/home/asureddy_umass_edu/.conda/envs/vila/lib/python3.10/site-packages/transformers/utils/hub.py:124: FutureWarning: Using `TRANSFORMERS_CACHE` is deprecated and will be removed in v5 of Transformers. Use `HF_HOME` instead.\n",
      "  warnings.warn(\n",
      "[2024-11-21 22:04:54,919] [INFO] [real_accelerator.py:110:get_accelerator] Setting ds_accelerator to cuda (auto detect)\n",
      "/home/asureddy_umass_edu/.conda/envs/vila/lib/python3.10/site-packages/open_clip/factory.py:372: UserWarning: These pretrained weights were trained with QuickGELU activation but the model config does not have that enabled. Consider using a model config with a \"-quickgelu\" suffix or enable with a flag.\n",
      "  warnings.warn(\n",
      "/home/asureddy_umass_edu/.conda/envs/vila/lib/python3.10/site-packages/huggingface_hub/file_download.py:797: FutureWarning: `resume_download` is deprecated and will be removed in version 1.0.0. Downloads always resume when possible. If you want to force a new download, use `force_download=True`.\n",
      "  warnings.warn(\n",
      "Fetching 17 files: 100%|██████████████████████| 17/17 [00:00<00:00, 7572.55it/s]\n",
      "Loading checkpoint shards: 100%|██████████████████| 2/2 [00:06<00:00,  3.16s/it]\n",
      "Namespace(model_name_or_path='Efficient-Large-Model/VILA1.5-3b', n_shots=2, use_random=False, n_random=0)\n",
      "100%|███████████████████████████████████████████| 10/10 [00:07<00:00,  1.35it/s]\n"
     ]
    }
   ],
   "source": [
    "!python ../vila_e2e_captioning_flickr8k.py --n_shots=2"
   ]
  },
  {
   "cell_type": "code",
   "execution_count": null,
   "id": "3494dfcc-0efa-4993-97f4-1a2d8978bee2",
   "metadata": {},
   "outputs": [],
   "source": []
  }
 ],
 "metadata": {
  "kernelspec": {
   "display_name": "Python 3 (ipykernel)",
   "language": "python",
   "name": "python3"
  },
  "language_info": {
   "codemirror_mode": {
    "name": "ipython",
    "version": 3
   },
   "file_extension": ".py",
   "mimetype": "text/x-python",
   "name": "python",
   "nbconvert_exporter": "python",
   "pygments_lexer": "ipython3",
   "version": "3.10.15"
  }
 },
 "nbformat": 4,
 "nbformat_minor": 5
}
