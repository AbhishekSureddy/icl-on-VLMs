{
 "cells": [
  {
   "cell_type": "code",
   "execution_count": 16,
   "id": "82e62c5d-e8c5-478d-97dd-323bf4defbe2",
   "metadata": {},
   "outputs": [],
   "source": [
    "import pandas as pd\n",
    "import json"
   ]
  },
  {
   "cell_type": "code",
   "execution_count": 2,
   "id": "7d2b678d-9420-4800-b1e1-411ea9f87405",
   "metadata": {},
   "outputs": [
    {
     "name": "stdout",
     "output_type": "stream",
     "text": [
      "Exact Match Accuracy: 75.00%\n"
     ]
    }
   ],
   "source": [
    "def exact_match_accuracy(predictions, references):\n",
    "    \"\"\"\n",
    "    Calculate exact match accuracy.\n",
    "    \n",
    "    :param predictions: List of predicted values.\n",
    "    :param references: List of true/reference values.\n",
    "    :return: Exact match accuracy as a float.\n",
    "    \"\"\"\n",
    "    if len(predictions) != len(references):\n",
    "        raise ValueError(\"Length of predictions and references must be the same.\")\n",
    "\n",
    "    matches = sum(p == r for p, r in zip(predictions, references))\n",
    "    accuracy = matches / len(references)\n",
    "    return accuracy\n",
    "\n",
    "# Example usage\n",
    "predictions = [\"cat\", \"dog\", \"bird\", \"fish\"]\n",
    "references = [\"cat\", \"dog\", \"fish\", \"fish\"]\n",
    "\n",
    "em_accuracy = exact_match_accuracy(predictions, references)\n",
    "print(f\"Exact Match Accuracy: {em_accuracy:.2%}\")\n"
   ]
  },
  {
   "cell_type": "code",
   "execution_count": 3,
   "id": "cae77b3c-02b3-4043-8944-646f6df7e35a",
   "metadata": {},
   "outputs": [],
   "source": [
    "def calculate_em_accuracy(res_file):\n",
    "    data = json.load(open(res_file))\n",
    "    refs = [x['ground_truth'] for x in data]\n",
    "    preds = [x['output'] for x in data]\n",
    "    em_accuracy = exact_match_accuracy(preds, refs)\n",
    "    return em_accuracy"
   ]
  },
  {
   "cell_type": "code",
   "execution_count": 6,
   "id": "83c24661-ae32-41ef-9582-dcee25ab3d29",
   "metadata": {},
   "outputs": [
    {
     "name": "stdout",
     "output_type": "stream",
     "text": [
      "Accuracy: 13.27%\n"
     ]
    },
    {
     "data": {
      "text/plain": [
       "0.13271604938271606"
      ]
     },
     "execution_count": 6,
     "metadata": {},
     "output_type": "execute_result"
    }
   ],
   "source": [
    "res_file = \"/home/asureddy_umass_edu/cs682/VILA_codes/results/keypoint_detection/mcq_style/VILA1.5-3b_random_0_shots.json\"\n",
    "calculate_em_accuracy(res_file)"
   ]
  },
  {
   "cell_type": "markdown",
   "id": "b9be9d93-201c-4f99-bb8c-a8bbac5d540c",
   "metadata": {},
   "source": [
    "### Generating Csvs"
   ]
  },
  {
   "cell_type": "code",
   "execution_count": 18,
   "id": "e1189939-6969-4fb1-bd2f-a30a85a0418d",
   "metadata": {},
   "outputs": [],
   "source": [
    "def generate_em_accuracy_csv(models, n_shots, strategies, styles, file_template, output_dir_template):\n",
    "    for style in styles:\n",
    "        for strategy in strategies:\n",
    "            for model in models:\n",
    "                results = []\n",
    "                # print(f\"Processing model: {model}\")\n",
    "                for shot in n_shots:\n",
    "                    # print(f\"n-shot: {shot}\")\n",
    "                    res_file = file_template.format(model=model, n_shot=shot, strategy=strategy, style=style)\n",
    "                    try:\n",
    "                        accuracy = calculate_em_accuracy(res_file)\n",
    "                        results.append({\"n_shot\": shot, \"accuracy\": accuracy})\n",
    "                    except Exception as e:\n",
    "                        print(f\"Error processing file {res_file}: {e}\")\n",
    "                        results.append({\"n_shot\": shot, \"accuracy\": None})  # Handle missing data gracefully\n",
    "        \n",
    "                # Create a DataFrame and save it as a CSV file\n",
    "                df = pd.DataFrame(results)\n",
    "                output_dir = output_dir_template.format(style=style)\n",
    "                output_csv_path = f\"{output_dir}/coco_{model}_{strategy}.csv\"\n",
    "                df.to_csv(output_csv_path, index=False)\n",
    "                print(f\"{output_csv_path}\")\n"
   ]
  },
  {
   "cell_type": "code",
   "execution_count": 21,
   "id": "b20f90c6-dc86-4682-9fcc-16cc9e577dd0",
   "metadata": {},
   "outputs": [
    {
     "name": "stdout",
     "output_type": "stream",
     "text": [
      "/home/asureddy_umass_edu/cs682/metrics_results/keypoint_detection/vqa_style/coco_VILA1.5-3b_random.csv\n",
      "/home/asureddy_umass_edu/cs682/metrics_results/keypoint_detection/vqa_style/coco_VILA1.5-13b_random.csv\n",
      "/home/asureddy_umass_edu/cs682/metrics_results/keypoint_detection/vqa_style/coco_VILA1.5-3b_rice.csv\n",
      "/home/asureddy_umass_edu/cs682/metrics_results/keypoint_detection/vqa_style/coco_VILA1.5-13b_rice.csv\n",
      "/home/asureddy_umass_edu/cs682/metrics_results/keypoint_detection/mcq_style/coco_VILA1.5-3b_random.csv\n",
      "/home/asureddy_umass_edu/cs682/metrics_results/keypoint_detection/mcq_style/coco_VILA1.5-13b_random.csv\n",
      "/home/asureddy_umass_edu/cs682/metrics_results/keypoint_detection/mcq_style/coco_VILA1.5-3b_rice.csv\n",
      "/home/asureddy_umass_edu/cs682/metrics_results/keypoint_detection/mcq_style/coco_VILA1.5-13b_rice.csv\n"
     ]
    }
   ],
   "source": [
    "# Example usage\n",
    "models = ['VILA1.5-3b', 'VILA1.5-13b']\n",
    "strategies = [\"random\", \"rice\"]\n",
    "styles = [\"vqa_style\", \"mcq_style\"]\n",
    "n_shots = [0,1, 2, 4]\n",
    "file_template = \"/home/asureddy_umass_edu/cs682/VILA_codes/results/keypoint_detection/{style}/{model}_{strategy}_{n_shot}_shots.json\"\n",
    "output_dir = \"/home/asureddy_umass_edu/cs682/metrics_results/keypoint_detection/{style}\"\n",
    "\n",
    "generate_em_accuracy_csv(models, n_shots, strategies, styles, file_template, output_dir)"
   ]
  },
  {
   "cell_type": "markdown",
   "id": "d04b8fc2-8164-4cf6-a524-d515a0510a47",
   "metadata": {},
   "source": [
    "### Random Incontext examples"
   ]
  },
  {
   "cell_type": "code",
   "execution_count": 10,
   "id": "6566bee9-da5c-484a-9c2a-311f9b716ebb",
   "metadata": {},
   "outputs": [
    {
     "name": "stdout",
     "output_type": "stream",
     "text": [
      "random-mcq_style-VILA1.5-3b\n",
      "n_shot: 0 Accuracy: 13.27%\n",
      "n_shot: 1 Accuracy: 19.07%\n",
      "n_shot: 2 Accuracy: 18.95%\n",
      "n_shot: 4 Accuracy: 20.31%\n",
      "n_shot: 8 Accuracy: 20.37%\n"
     ]
    }
   ],
   "source": [
    "strategy= \"random\"\n",
    "style = \"mcq_style\"\n",
    "model_name = \"VILA1.5-3b\"\n",
    "n_shots = [0,1,2,4,8]\n",
    "print(f\"{strategy}-{style}-{model_name}\")\n",
    "for n_shot in n_shots:\n",
    "    res_file = f\"/home/asureddy_umass_edu/cs682/VILA_codes/results/keypoint_detection/{style}/{model_name}_{strategy}_{n_shot}_shots.json\"\n",
    "    em_accuracy = calculate_em_accuracy(res_file)\n",
    "    print(f\"n_shot: {n_shot} Accuracy: {em_accuracy:.2%}\")"
   ]
  },
  {
   "cell_type": "code",
   "execution_count": 11,
   "id": "5bfa8836-e3d5-437a-918b-cc4a912f21c9",
   "metadata": {},
   "outputs": [
    {
     "name": "stdout",
     "output_type": "stream",
     "text": [
      "random-mcq_style-VILA1.5-13b\n",
      "n_shot: 0 Accuracy: 5.93%\n",
      "n_shot: 1 Accuracy: 17.84%\n",
      "n_shot: 2 Accuracy: 20.00%\n",
      "n_shot: 4 Accuracy: 19.88%\n",
      "n_shot: 8 Accuracy: 18.21%\n"
     ]
    }
   ],
   "source": [
    "strategy= \"random\"\n",
    "style = \"mcq_style\"\n",
    "model_name = \"VILA1.5-13b\"\n",
    "n_shots = [0,1,2,4,8]\n",
    "print(f\"{strategy}-{style}-{model_name}\")\n",
    "for n_shot in n_shots:\n",
    "    res_file = f\"/home/asureddy_umass_edu/cs682/VILA_codes/results/keypoint_detection/{style}/{model_name}_{strategy}_{n_shot}_shots.json\"\n",
    "    em_accuracy = calculate_em_accuracy(res_file)\n",
    "    print(f\"n_shot: {n_shot} Accuracy: {em_accuracy:.2%}\")"
   ]
  },
  {
   "cell_type": "code",
   "execution_count": 12,
   "id": "7dec5556-874d-4278-a34e-093f67111536",
   "metadata": {},
   "outputs": [
    {
     "name": "stdout",
     "output_type": "stream",
     "text": [
      "random-vqa_style-VILA1.5-3b\n",
      "n_shot: 0 Accuracy: 0.00%\n",
      "n_shot: 1 Accuracy: 16.91%\n",
      "n_shot: 2 Accuracy: 16.73%\n",
      "n_shot: 4 Accuracy: 19.51%\n",
      "n_shot: 8 Accuracy: 20.37%\n"
     ]
    }
   ],
   "source": [
    "strategy= \"random\"\n",
    "style = \"vqa_style\"\n",
    "model_name = \"VILA1.5-3b\"\n",
    "n_shots = [0,1,2,4,8]\n",
    "print(f\"{strategy}-{style}-{model_name}\")\n",
    "for n_shot in n_shots:\n",
    "    res_file = f\"/home/asureddy_umass_edu/cs682/VILA_codes/results/keypoint_detection/{style}/{model_name}_{strategy}_{n_shot}_shots.json\"\n",
    "    em_accuracy = calculate_em_accuracy(res_file)\n",
    "    print(f\"n_shot: {n_shot} Accuracy: {em_accuracy:.2%}\")"
   ]
  },
  {
   "cell_type": "code",
   "execution_count": 13,
   "id": "406df1c5-431d-4d83-b4ae-3927d6f85d98",
   "metadata": {},
   "outputs": [
    {
     "name": "stdout",
     "output_type": "stream",
     "text": [
      "random-vqa_style-VILA1.5-13b\n",
      "n_shot: 0 Accuracy: 0.12%\n",
      "n_shot: 1 Accuracy: 6.36%\n",
      "n_shot: 2 Accuracy: 14.94%\n",
      "n_shot: 4 Accuracy: 19.69%\n",
      "n_shot: 8 Accuracy: 21.91%\n"
     ]
    }
   ],
   "source": [
    "strategy= \"random\"\n",
    "style = \"vqa_style\"\n",
    "model_name = \"VILA1.5-13b\"\n",
    "n_shots = [0,1,2,4,8]\n",
    "print(f\"{strategy}-{style}-{model_name}\")\n",
    "for n_shot in n_shots:\n",
    "    res_file = f\"/home/asureddy_umass_edu/cs682/VILA_codes/results/keypoint_detection/{style}/{model_name}_{strategy}_{n_shot}_shots.json\"\n",
    "    em_accuracy = calculate_em_accuracy(res_file)\n",
    "    print(f\"n_shot: {n_shot} Accuracy: {em_accuracy:.2%}\")"
   ]
  },
  {
   "cell_type": "markdown",
   "id": "8730f743-ed43-49f0-b0a3-f54cb29f1ca5",
   "metadata": {},
   "source": [
    "### RICE Incontext examples"
   ]
  },
  {
   "cell_type": "code",
   "execution_count": 5,
   "id": "72cfe775-ed37-4b89-a18f-087f9c7b1395",
   "metadata": {},
   "outputs": [
    {
     "name": "stdout",
     "output_type": "stream",
     "text": [
      "rice-mcq_style-VILA1.5-3b\n",
      "n_shot: 0 Accuracy: 12.96%\n",
      "n_shot: 1 Accuracy: 20.12%\n",
      "n_shot: 2 Accuracy: 21.60%\n",
      "n_shot: 4 Accuracy: 22.10%\n"
     ]
    }
   ],
   "source": [
    "strategy= \"rice\"\n",
    "style = \"mcq_style\"\n",
    "model_name = \"VILA1.5-3b\"\n",
    "n_shots = [0,1,2,4]\n",
    "print(f\"{strategy}-{style}-{model_name}\")\n",
    "for n_shot in n_shots:\n",
    "    res_file = f\"/home/asureddy_umass_edu/cs682/VILA_codes/results/keypoint_detection/{style}/{model_name}_{strategy}_{n_shot}_shots.json\"\n",
    "    em_accuracy = calculate_em_accuracy(res_file)\n",
    "    print(f\"n_shot: {n_shot} Accuracy: {em_accuracy:.2%}\")"
   ]
  },
  {
   "cell_type": "code",
   "execution_count": 7,
   "id": "3cd3ca6e-6cfc-4cc1-a310-09c091b43ed6",
   "metadata": {},
   "outputs": [
    {
     "name": "stdout",
     "output_type": "stream",
     "text": [
      "rice-mcq_style-VILA1.5-13b\n",
      "n_shot: 0 Accuracy: 5.49%\n",
      "n_shot: 1 Accuracy: 20.68%\n",
      "n_shot: 2 Accuracy: 20.62%\n",
      "n_shot: 4 Accuracy: 21.30%\n"
     ]
    }
   ],
   "source": [
    "strategy= \"rice\"\n",
    "style = \"mcq_style\"\n",
    "model_name = \"VILA1.5-13b\"\n",
    "n_shots = [0,1,2,4]\n",
    "print(f\"{strategy}-{style}-{model_name}\")\n",
    "for n_shot in n_shots:\n",
    "    res_file = f\"/home/asureddy_umass_edu/cs682/VILA_codes/results/keypoint_detection/{style}/{model_name}_{strategy}_{n_shot}_shots.json\"\n",
    "    em_accuracy = calculate_em_accuracy(res_file)\n",
    "    print(f\"n_shot: {n_shot} Accuracy: {em_accuracy:.2%}\")"
   ]
  },
  {
   "cell_type": "code",
   "execution_count": 8,
   "id": "c9eb303c-2c67-4ded-9fcf-6d24fe2e19e2",
   "metadata": {},
   "outputs": [
    {
     "name": "stdout",
     "output_type": "stream",
     "text": [
      "rice-vqa_style-VILA1.5-3b\n",
      "n_shot: 0 Accuracy: 0.00%\n",
      "n_shot: 1 Accuracy: 18.21%\n",
      "n_shot: 2 Accuracy: 17.72%\n",
      "n_shot: 4 Accuracy: 18.64%\n"
     ]
    }
   ],
   "source": [
    "strategy= \"rice\"\n",
    "style = \"vqa_style\"\n",
    "model_name = \"VILA1.5-3b\"\n",
    "n_shots = [0,1,2,4]\n",
    "print(f\"{strategy}-{style}-{model_name}\")\n",
    "for n_shot in n_shots:\n",
    "    res_file = f\"/home/asureddy_umass_edu/cs682/VILA_codes/results/keypoint_detection/{style}/{model_name}_{strategy}_{n_shot}_shots.json\"\n",
    "    em_accuracy = calculate_em_accuracy(res_file)\n",
    "    print(f\"n_shot: {n_shot} Accuracy: {em_accuracy:.2%}\")"
   ]
  },
  {
   "cell_type": "code",
   "execution_count": 9,
   "id": "33188e70-2aa4-47fc-86c1-667737f95131",
   "metadata": {},
   "outputs": [
    {
     "name": "stdout",
     "output_type": "stream",
     "text": [
      "rice-vqa_style-VILA1.5-13b\n",
      "n_shot: 0 Accuracy: 0.00%\n",
      "n_shot: 1 Accuracy: 12.10%\n",
      "n_shot: 2 Accuracy: 17.28%\n",
      "n_shot: 4 Accuracy: 18.52%\n"
     ]
    }
   ],
   "source": [
    "strategy= \"rice\"\n",
    "style = \"vqa_style\"\n",
    "model_name = \"VILA1.5-13b\"\n",
    "n_shots = [0,1,2,4]\n",
    "print(f\"{strategy}-{style}-{model_name}\")\n",
    "for n_shot in n_shots:\n",
    "    res_file = f\"/home/asureddy_umass_edu/cs682/VILA_codes/results/keypoint_detection/{style}/{model_name}_{strategy}_{n_shot}_shots.json\"\n",
    "    em_accuracy = calculate_em_accuracy(res_file)\n",
    "    print(f\"n_shot: {n_shot} Accuracy: {em_accuracy:.2%}\")"
   ]
  },
  {
   "cell_type": "code",
   "execution_count": null,
   "id": "0351ae5d-115f-4dc7-89ad-07ff4187f7a9",
   "metadata": {},
   "outputs": [],
   "source": []
  }
 ],
 "metadata": {
  "kernelspec": {
   "display_name": "Python 3 (ipykernel)",
   "language": "python",
   "name": "python3"
  },
  "language_info": {
   "codemirror_mode": {
    "name": "ipython",
    "version": 3
   },
   "file_extension": ".py",
   "mimetype": "text/x-python",
   "name": "python",
   "nbconvert_exporter": "python",
   "pygments_lexer": "ipython3",
   "version": "3.9.20"
  }
 },
 "nbformat": 4,
 "nbformat_minor": 5
}
