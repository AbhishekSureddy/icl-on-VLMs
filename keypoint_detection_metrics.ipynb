{
 "cells": [
  {
   "cell_type": "code",
   "execution_count": 2,
   "id": "82e62c5d-e8c5-478d-97dd-323bf4defbe2",
   "metadata": {},
   "outputs": [],
   "source": [
    "import json"
   ]
  },
  {
   "cell_type": "code",
   "execution_count": 1,
   "id": "7d2b678d-9420-4800-b1e1-411ea9f87405",
   "metadata": {},
   "outputs": [
    {
     "name": "stdout",
     "output_type": "stream",
     "text": [
      "Exact Match Accuracy: 75.00%\n"
     ]
    }
   ],
   "source": [
    "def exact_match_accuracy(predictions, references):\n",
    "    \"\"\"\n",
    "    Calculate exact match accuracy.\n",
    "    \n",
    "    :param predictions: List of predicted values.\n",
    "    :param references: List of true/reference values.\n",
    "    :return: Exact match accuracy as a float.\n",
    "    \"\"\"\n",
    "    if len(predictions) != len(references):\n",
    "        raise ValueError(\"Length of predictions and references must be the same.\")\n",
    "\n",
    "    matches = sum(p == r for p, r in zip(predictions, references))\n",
    "    accuracy = matches / len(references)\n",
    "    return accuracy\n",
    "\n",
    "# Example usage\n",
    "predictions = [\"cat\", \"dog\", \"bird\", \"fish\"]\n",
    "references = [\"cat\", \"dog\", \"fish\", \"fish\"]\n",
    "\n",
    "em_accuracy = exact_match_accuracy(predictions, references)\n",
    "print(f\"Exact Match Accuracy: {em_accuracy:.2%}\")\n"
   ]
  },
  {
   "cell_type": "code",
   "execution_count": 9,
   "id": "cae77b3c-02b3-4043-8944-646f6df7e35a",
   "metadata": {},
   "outputs": [],
   "source": [
    "def calculate_em_accuracy(res_file):\n",
    "    data = json.load(open(res_file))\n",
    "    refs = [x['ground_truth'] for x in data]\n",
    "    preds = [x['output'] for x in data]\n",
    "    em_accuracy = exact_match_accuracy(preds, refs)\n",
    "    return em_accuracy"
   ]
  },
  {
   "cell_type": "code",
   "execution_count": 6,
   "id": "83c24661-ae32-41ef-9582-dcee25ab3d29",
   "metadata": {},
   "outputs": [
    {
     "name": "stdout",
     "output_type": "stream",
     "text": [
      "Accuracy: 13.27%\n"
     ]
    },
    {
     "data": {
      "text/plain": [
       "0.13271604938271606"
      ]
     },
     "execution_count": 6,
     "metadata": {},
     "output_type": "execute_result"
    }
   ],
   "source": [
    "res_file = \"/home/asureddy_umass_edu/cs682/VILA_codes/results/keypoint_detection/mcq_style/VILA1.5-3b_random_0_shots.json\"\n",
    "calculate_em_accuracy(res_file)"
   ]
  },
  {
   "cell_type": "code",
   "execution_count": 10,
   "id": "6566bee9-da5c-484a-9c2a-311f9b716ebb",
   "metadata": {},
   "outputs": [
    {
     "name": "stdout",
     "output_type": "stream",
     "text": [
      "random-mcq_style-VILA1.5-3b\n",
      "n_shot: 0 Accuracy: 13.27%\n",
      "n_shot: 1 Accuracy: 19.07%\n",
      "n_shot: 2 Accuracy: 18.95%\n",
      "n_shot: 4 Accuracy: 20.31%\n",
      "n_shot: 8 Accuracy: 20.37%\n"
     ]
    }
   ],
   "source": [
    "strategy= \"random\"\n",
    "style = \"mcq_style\"\n",
    "model_name = \"VILA1.5-3b\"\n",
    "n_shots = [0,1,2,4,8]\n",
    "print(f\"{strategy}-{style}-{model_name}\")\n",
    "for n_shot in n_shots:\n",
    "    res_file = f\"/home/asureddy_umass_edu/cs682/VILA_codes/results/keypoint_detection/{style}/{model_name}_{strategy}_{n_shot}_shots.json\"\n",
    "    em_accuracy = calculate_em_accuracy(res_file)\n",
    "    print(f\"n_shot: {n_shot} Accuracy: {em_accuracy:.2%}\")"
   ]
  },
  {
   "cell_type": "code",
   "execution_count": 11,
   "id": "5bfa8836-e3d5-437a-918b-cc4a912f21c9",
   "metadata": {},
   "outputs": [
    {
     "name": "stdout",
     "output_type": "stream",
     "text": [
      "random-mcq_style-VILA1.5-13b\n",
      "n_shot: 0 Accuracy: 5.93%\n",
      "n_shot: 1 Accuracy: 17.84%\n",
      "n_shot: 2 Accuracy: 20.00%\n",
      "n_shot: 4 Accuracy: 19.88%\n",
      "n_shot: 8 Accuracy: 18.21%\n"
     ]
    }
   ],
   "source": [
    "strategy= \"random\"\n",
    "style = \"mcq_style\"\n",
    "model_name = \"VILA1.5-13b\"\n",
    "n_shots = [0,1,2,4,8]\n",
    "print(f\"{strategy}-{style}-{model_name}\")\n",
    "for n_shot in n_shots:\n",
    "    res_file = f\"/home/asureddy_umass_edu/cs682/VILA_codes/results/keypoint_detection/{style}/{model_name}_{strategy}_{n_shot}_shots.json\"\n",
    "    em_accuracy = calculate_em_accuracy(res_file)\n",
    "    print(f\"n_shot: {n_shot} Accuracy: {em_accuracy:.2%}\")"
   ]
  },
  {
   "cell_type": "code",
   "execution_count": 12,
   "id": "7dec5556-874d-4278-a34e-093f67111536",
   "metadata": {},
   "outputs": [
    {
     "name": "stdout",
     "output_type": "stream",
     "text": [
      "random-vqa_style-VILA1.5-3b\n",
      "n_shot: 0 Accuracy: 0.00%\n",
      "n_shot: 1 Accuracy: 16.91%\n",
      "n_shot: 2 Accuracy: 16.73%\n",
      "n_shot: 4 Accuracy: 19.51%\n",
      "n_shot: 8 Accuracy: 20.37%\n"
     ]
    }
   ],
   "source": [
    "strategy= \"random\"\n",
    "style = \"vqa_style\"\n",
    "model_name = \"VILA1.5-3b\"\n",
    "n_shots = [0,1,2,4,8]\n",
    "print(f\"{strategy}-{style}-{model_name}\")\n",
    "for n_shot in n_shots:\n",
    "    res_file = f\"/home/asureddy_umass_edu/cs682/VILA_codes/results/keypoint_detection/{style}/{model_name}_{strategy}_{n_shot}_shots.json\"\n",
    "    em_accuracy = calculate_em_accuracy(res_file)\n",
    "    print(f\"n_shot: {n_shot} Accuracy: {em_accuracy:.2%}\")"
   ]
  },
  {
   "cell_type": "code",
   "execution_count": 13,
   "id": "406df1c5-431d-4d83-b4ae-3927d6f85d98",
   "metadata": {},
   "outputs": [
    {
     "name": "stdout",
     "output_type": "stream",
     "text": [
      "random-vqa_style-VILA1.5-13b\n",
      "n_shot: 0 Accuracy: 0.12%\n",
      "n_shot: 1 Accuracy: 6.36%\n",
      "n_shot: 2 Accuracy: 14.94%\n",
      "n_shot: 4 Accuracy: 19.69%\n",
      "n_shot: 8 Accuracy: 21.91%\n"
     ]
    }
   ],
   "source": [
    "strategy= \"random\"\n",
    "style = \"vqa_style\"\n",
    "model_name = \"VILA1.5-13b\"\n",
    "n_shots = [0,1,2,4,8]\n",
    "print(f\"{strategy}-{style}-{model_name}\")\n",
    "for n_shot in n_shots:\n",
    "    res_file = f\"/home/asureddy_umass_edu/cs682/VILA_codes/results/keypoint_detection/{style}/{model_name}_{strategy}_{n_shot}_shots.json\"\n",
    "    em_accuracy = calculate_em_accuracy(res_file)\n",
    "    print(f\"n_shot: {n_shot} Accuracy: {em_accuracy:.2%}\")"
   ]
  },
  {
   "cell_type": "code",
   "execution_count": null,
   "id": "4aa97f09-9444-4264-94d7-5d329628092d",
   "metadata": {},
   "outputs": [],
   "source": []
  }
 ],
 "metadata": {
  "kernelspec": {
   "display_name": "Python 3 (ipykernel)",
   "language": "python",
   "name": "python3"
  },
  "language_info": {
   "codemirror_mode": {
    "name": "ipython",
    "version": 3
   },
   "file_extension": ".py",
   "mimetype": "text/x-python",
   "name": "python",
   "nbconvert_exporter": "python",
   "pygments_lexer": "ipython3",
   "version": "3.10.15"
  }
 },
 "nbformat": 4,
 "nbformat_minor": 5
}
