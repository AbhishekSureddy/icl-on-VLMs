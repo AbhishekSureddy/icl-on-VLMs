{
 "cells": [
  {
   "cell_type": "code",
   "execution_count": 11,
   "id": "e9338236-e995-4218-8bf1-8c8aa7edccb1",
   "metadata": {},
   "outputs": [],
   "source": [
    "import json\n",
    "import sys\n",
    "import pandas as pd\n",
    "\n",
    "sys.path.append(\"./VILA_codes/llava/eval/\")"
   ]
  },
  {
   "cell_type": "code",
   "execution_count": 2,
   "id": "c6079336-672f-415d-af9c-bfecd83938e3",
   "metadata": {},
   "outputs": [],
   "source": [
    "from eval_datasets import VQADataset, TextVQADataset"
   ]
  },
  {
   "cell_type": "code",
   "execution_count": 3,
   "id": "53fff804-997b-4d2b-a9c9-6c0a8eae84cd",
   "metadata": {},
   "outputs": [],
   "source": [
    "import numpy as np\n",
    "\n",
    "def calculate_vqa_accuracy(predictions, ground_truths):\n",
    "    \"\"\"\n",
    "    Calculate VQA accuracy for a list of predictions and ground truths.\n",
    "\n",
    "    Args:\n",
    "        predictions (list of str): List of predicted answers by the model.\n",
    "        ground_truths (list of list of str): List of lists, where each inner list contains\n",
    "                                             human-provided ground truth answers for a question.\n",
    "    \n",
    "    Returns:\n",
    "        float: Average VQA accuracy across all examples.\n",
    "    \"\"\"\n",
    "    if len(predictions) != len(ground_truths):\n",
    "        raise ValueError(\"Predictions and ground truths must have the same length.\")\n",
    "    \n",
    "    total_score = 0.0\n",
    "    \n",
    "    for pred, truths in zip(predictions, ground_truths):\n",
    "        # Count votes for each answer in ground truths\n",
    "        answer_votes = {ans: truths.count(ans) for ans in set(truths)}\n",
    "        pred_votes = answer_votes.get(pred, 0)\n",
    "        # Calculate the score\n",
    "        score = min(1.0, pred_votes / 3.0)\n",
    "        total_score += score\n",
    "    \n",
    "    # Return average accuracy\n",
    "    return total_score / len(predictions)\n",
    "\n",
    "# # Example usage\n",
    "# predictions = [\"cat\", \"dog\", \"bird\"]  # Model predictions\n",
    "# ground_truths = [\n",
    "#     [\"cat\", \"dog\", \"cat\", \"cat\", \"bird\"],  # Annotator answers for question 1\n",
    "#     [\"dog\", \"dog\", \"dog\", \"cat\", \"cat\"],   # Annotator answers for question 2\n",
    "#     [\"bird\", \"bird\", \"cat\", \"cat\"] # Annotator answers for question 3\n",
    "# ]\n",
    "\n",
    "# vqa_accuracy = calculate_vqa_accuracy(predictions, ground_truths)\n",
    "# print(f\"VQA Accuracy: {vqa_accuracy:.4f}\")\n"
   ]
  },
  {
   "cell_type": "code",
   "execution_count": 4,
   "id": "ad1c9b87-98c9-4092-bead-99f8a0b159f2",
   "metadata": {},
   "outputs": [],
   "source": [
    "val_image_dir_path = \"/scratch/workspace/asureddy_umass_edu-llm_alignment/dataset/vqa/val2014\"\n",
    "val_questions_path = \"/scratch/workspace/asureddy_umass_edu-llm_alignment/dataset/vqa/v2_OpenEnded_mscoco_val2014_questions.json\"\n",
    "val_annotations_path = \"/scratch/workspace/asureddy_umass_edu-llm_alignment/dataset/vqa/v2_mscoco_val2014_annotations.json\"\n",
    "val_dataset = VQADataset(val_image_dir_path, val_questions_path, val_annotations_path,False, \"vqav2\")"
   ]
  },
  {
   "cell_type": "code",
   "execution_count": 5,
   "id": "a65a30ed-bbeb-4c7e-8270-bde09d7a6327",
   "metadata": {},
   "outputs": [
    {
     "data": {
      "text/plain": [
       "{'image': <PIL.JpegImagePlugin.JpegImageFile image mode=RGB size=640x512>,\n",
       " 'question': 'Where is he looking?',\n",
       " 'question_id': 262148000,\n",
       " 'answers': ['down',\n",
       "  'down',\n",
       "  'at table',\n",
       "  'skateboard',\n",
       "  'down',\n",
       "  'table',\n",
       "  'down',\n",
       "  'down',\n",
       "  'down',\n",
       "  'down']}"
      ]
     },
     "execution_count": 5,
     "metadata": {},
     "output_type": "execute_result"
    }
   ],
   "source": [
    "val_dataset[0]"
   ]
  },
  {
   "cell_type": "code",
   "execution_count": 6,
   "id": "8c3768a5-013c-4d8d-b001-052c45a41917",
   "metadata": {},
   "outputs": [],
   "source": [
    "ground_truths = [val_dataset[i]['answers'] for i in range(5000)]"
   ]
  },
  {
   "cell_type": "code",
   "execution_count": 7,
   "id": "bf5c047c-6870-4a8c-b3c3-64e47a16dca4",
   "metadata": {},
   "outputs": [],
   "source": [
    "def get_vqa_acc(res_file):\n",
    "    with open(res_file,'rb') as f:\n",
    "        data = json.load(f)\n",
    "    outputs= [x.lower().strip() for x in data['outputs']]\n",
    "    grths = ground_truths[:len(outputs)]\n",
    "    return calculate_vqa_accuracy(outputs, grths)"
   ]
  },
  {
   "cell_type": "markdown",
   "id": "28664889-47d6-4b5d-81fb-4a8e299848a4",
   "metadata": {},
   "source": [
    "### Generate csvs"
   ]
  },
  {
   "cell_type": "code",
   "execution_count": 13,
   "id": "500559df-d272-463b-beb9-d555e6ca2127",
   "metadata": {},
   "outputs": [],
   "source": [
    "def generate_vqa_accuracy_csv(models, n_shots, strategies, file_template, output_dir):\n",
    "    for strategy in strategies:\n",
    "        strategy_str = \"_random-examples\" if strategy==\"random\" else \"\"\n",
    "        for model in models:\n",
    "            results = []\n",
    "            # print(f\"Processing model: {model}\")\n",
    "            for shot in n_shots:\n",
    "                # print(f\"n-shot: {shot}\")\n",
    "                res_file = file_template.format(model=model, shot=shot, strategy_str=strategy_str)\n",
    "                try:\n",
    "                    accuracy = get_vqa_acc(res_file)\n",
    "                    results.append({\"n_shot\": shot, \"vqa_accuracy\": accuracy})\n",
    "                except Exception as e:\n",
    "                    print(f\"Error processing file {res_file}: {e}\")\n",
    "                    results.append({\"n_shot\": shot, \"vqa_accuracy\": None})  # Handle missing data gracefully\n",
    "    \n",
    "            # Create a DataFrame and save it as a CSV file\n",
    "            df = pd.DataFrame(results)\n",
    "            output_csv_path = f\"{output_dir}/coco_{model}_{strategy}.csv\"\n",
    "            df.to_csv(output_csv_path, index=False)\n",
    "            print(f\"{output_csv_path}\")\n"
   ]
  },
  {
   "cell_type": "code",
   "execution_count": 14,
   "id": "29d83b92-c789-4974-a541-73aa5f977a30",
   "metadata": {},
   "outputs": [
    {
     "name": "stdout",
     "output_type": "stream",
     "text": [
      "/home/asureddy_umass_edu/cs682/metrics_results/vqa//coco_VILA1.5-3b_random.csv\n",
      "/home/asureddy_umass_edu/cs682/metrics_results/vqa//coco_VILA1.5-13b_random.csv\n",
      "/home/asureddy_umass_edu/cs682/metrics_results/vqa//coco_VILA1.5-3b_rice.csv\n",
      "/home/asureddy_umass_edu/cs682/metrics_results/vqa//coco_VILA1.5-13b_rice.csv\n"
     ]
    }
   ],
   "source": [
    "# Example usage\n",
    "models = ['VILA1.5-3b', 'VILA1.5-13b']\n",
    "strategies = [\"random\", \"rice\"]\n",
    "n_shots = [0, 2, 4, 8]\n",
    "file_template = \"/home/asureddy_umass_edu/cs682/VILA_codes/results/vqa/{model}_{shot}-shot{strategy_str}.json\"\n",
    "output_dir = \"/home/asureddy_umass_edu/cs682/metrics_results/vqa/\"\n",
    "\n",
    "generate_vqa_accuracy_csv(models, n_shots, strategies, file_template, output_dir)"
   ]
  },
  {
   "cell_type": "code",
   "execution_count": null,
   "id": "4c260457-c35d-4307-ae6c-cfe11af612f6",
   "metadata": {},
   "outputs": [],
   "source": []
  },
  {
   "cell_type": "code",
   "execution_count": null,
   "id": "63eba600-cb7a-4053-95c9-60060cd9dd2a",
   "metadata": {},
   "outputs": [],
   "source": []
  },
  {
   "cell_type": "markdown",
   "id": "e8fb4d63-7d78-495c-bcb9-9806c8c393fe",
   "metadata": {},
   "source": [
    "## Visually viewing VQA accuracy"
   ]
  },
  {
   "cell_type": "code",
   "execution_count": 19,
   "id": "4872e0b7-efbd-49e4-a4d9-f1b9da6b5b7f",
   "metadata": {},
   "outputs": [
    {
     "name": "stdout",
     "output_type": "stream",
     "text": [
      "Random in-context examples\n",
      "n-shot: 0\n",
      "0.7118666666666658\n",
      "n-shot: 2\n",
      "0.6099999999999985\n",
      "n-shot: 4\n",
      "0.6109999999999982\n",
      "n-shot: 8\n",
      "0.5900999999999986\n"
     ]
    }
   ],
   "source": [
    "n_shots = [0,2,4,8]\n",
    "print(\"Random in-context examples\")\n",
    "for shot in n_shots:\n",
    "    print(f\"n-shot: {shot}\")\n",
    "    res_file = f\"/home/asureddy_umass_edu/cs682/VILA/results/vqa_old/VILA1.5-13b_{shot}-shot_random-examples.json\"\n",
    "    print(get_vqa_acc(res_file))"
   ]
  },
  {
   "cell_type": "code",
   "execution_count": 22,
   "id": "c16d4a0f-6fce-4b2d-bb30-06f0b00e0a1c",
   "metadata": {},
   "outputs": [
    {
     "name": "stdout",
     "output_type": "stream",
     "text": [
      "RICE in-context examples\n",
      "n-shot: 0\n",
      "0.19299999999999973\n",
      "n-shot: 2\n",
      "0.37836666666666696\n",
      "n-shot: 4\n",
      "0.4372666666666668\n",
      "n-shot: 8\n",
      "0.3003666666666672\n"
     ]
    }
   ],
   "source": [
    "print(\"RICE in-context examples\")\n",
    "for shot in n_shots:\n",
    "    print(f\"n-shot: {shot}\")\n",
    "    res_file = f\"/home/asureddy_umass_edu/cs682/VILA/results/vqa_old/VILA1.5-13b_{shot}-shot.json\"\n",
    "    print(get_vqa_acc(res_file))"
   ]
  },
  {
   "cell_type": "code",
   "execution_count": 14,
   "id": "1e57a7f2-794a-4670-bb8c-d8414d8dd34f",
   "metadata": {},
   "outputs": [
    {
     "name": "stdout",
     "output_type": "stream",
     "text": [
      "Random in-context examples\n",
      "n-shot: 0\n",
      "0.34493333333333315\n",
      "n-shot: 2\n",
      "0.7311333333333345\n",
      "n-shot: 4\n",
      "0.7398666666666674\n",
      "n-shot: 8\n",
      "0.7420000000000011\n"
     ]
    }
   ],
   "source": [
    "n_shots = [0,2,4,8]\n",
    "print(\"Random in-context examples\")\n",
    "for shot in n_shots:\n",
    "    print(f\"n-shot: {shot}\")\n",
    "    res_file = f\"/home/asureddy_umass_edu/cs682/VILA/results/vqa/VILA1.5-13b_{shot}-shot_random-examples.json\"\n",
    "    print(get_vqa_acc(res_file))"
   ]
  },
  {
   "cell_type": "code",
   "execution_count": 15,
   "id": "6c9501d6-3b38-4551-9a84-931734575e2a",
   "metadata": {},
   "outputs": [
    {
     "name": "stdout",
     "output_type": "stream",
     "text": [
      "RICE in-context examples\n",
      "n-shot: 0\n",
      "0.34599999999999986\n",
      "n-shot: 2\n",
      "0.6881333333333347\n",
      "n-shot: 4\n",
      "0.6793333333333338\n",
      "n-shot: 8\n",
      "0.6717333333333342\n"
     ]
    }
   ],
   "source": [
    "print(\"RICE in-context examples\")\n",
    "for shot in n_shots:\n",
    "    print(f\"n-shot: {shot}\")\n",
    "    res_file = f\"/home/asureddy_umass_edu/cs682/VILA/results/vqa/VILA1.5-13b_{shot}-shot.json\"\n",
    "    print(get_vqa_acc(res_file))"
   ]
  },
  {
   "cell_type": "code",
   "execution_count": 7,
   "id": "f5132d5f-30ff-4122-ab61-c14fffcad652",
   "metadata": {},
   "outputs": [
    {
     "name": "stdout",
     "output_type": "stream",
     "text": [
      "Random in-context examples\n",
      "n-shot: 0\n",
      "0.014133333333333331\n",
      "n-shot: 2\n",
      "0.4854000000000001\n",
      "n-shot: 4\n",
      "0.6200000000000009\n",
      "n-shot: 8\n",
      "0.7208666666666673\n"
     ]
    }
   ],
   "source": [
    "# Vila-3b\n",
    "n_shots = [0,2,4,8]\n",
    "print(\"Random in-context examples\")\n",
    "for shot in n_shots:\n",
    "    print(f\"n-shot: {shot}\")\n",
    "    res_file = f\"/home/asureddy_umass_edu/cs682/VILA/results/vqa/VILA1.5-3b_{shot}-shot_random-examples.json\"\n",
    "    print(get_vqa_acc(res_file))"
   ]
  },
  {
   "cell_type": "code",
   "execution_count": 8,
   "id": "cbf4b627-9aa6-4b0b-9f26-0d72dcc25926",
   "metadata": {},
   "outputs": [
    {
     "name": "stdout",
     "output_type": "stream",
     "text": [
      "RICE in-context examples\n",
      "n-shot: 0\n",
      "0.013733333333333334\n",
      "n-shot: 2\n",
      "0.3533333333333331\n",
      "n-shot: 4\n",
      "0.43813333333333265\n",
      "n-shot: 8\n",
      "0.6136666666666678\n"
     ]
    }
   ],
   "source": [
    "# Vila-3b\n",
    "print(\"RICE in-context examples\")\n",
    "for shot in n_shots:\n",
    "    print(f\"n-shot: {shot}\")\n",
    "    res_file = f\"/home/asureddy_umass_edu/cs682/VILA/results/vqa/VILA1.5-3b_{shot}-shot.json\"\n",
    "    print(get_vqa_acc(res_file))"
   ]
  },
  {
   "cell_type": "code",
   "execution_count": 16,
   "id": "d24ae990-968d-4b84-b230-4952531fea39",
   "metadata": {},
   "outputs": [
    {
     "name": "stdout",
     "output_type": "stream",
     "text": [
      "RICE in-context examples\n",
      "n-shot: 0\n",
      "0.39333333333333337\n",
      "n-shot: 2\n",
      "0.6733333333333335\n",
      "n-shot: 4\n",
      "0.7\n",
      "n-shot: 8\n",
      "0.7033333333333335\n"
     ]
    }
   ],
   "source": [
    "print(\"RICE in-context examples\")\n",
    "n_shots = [0,2,4,8]\n",
    "for shot in n_shots:\n",
    "    print(f\"n-shot: {shot}\")\n",
    "    res_file = f\"/home/asureddy_umass_edu/cs682/VILA/results/vqa_exp/VILA1.5-13b_{shot}-shot.json\"\n",
    "    print(get_vqa_acc(res_file))"
   ]
  },
  {
   "cell_type": "markdown",
   "id": "d8f92718-6e16-42af-b143-b287edc1f4fc",
   "metadata": {},
   "source": [
    "### TextVQA dataset"
   ]
  },
  {
   "cell_type": "code",
   "execution_count": 15,
   "id": "f2f832c3-bcee-40d7-98df-229ea9b5f444",
   "metadata": {},
   "outputs": [],
   "source": [
    "def generate_vqa_accuracy_csv_textvqa(models, n_shots, strategies, file_template, output_dir):\n",
    "    for strategy in strategies:\n",
    "        strategy_str = \"_random-examples\" if strategy==\"random\" else \"\"\n",
    "        for model in models:\n",
    "            results = []\n",
    "            # print(f\"Processing model: {model}\")\n",
    "            for shot in n_shots:\n",
    "                # print(f\"n-shot: {shot}\")\n",
    "                res_file = file_template.format(model=model, shot=shot, strategy_str=strategy_str)\n",
    "                try:\n",
    "                    data = json.load(open(res_file))\n",
    "                    outs = [x['output'].lower().strip() for x in data[\"outputs\"]]\n",
    "                    refs = [x['references'] for x in data[\"outputs\"]]\n",
    "                    accuracy = calculate_vqa_accuracy(outs, refs)\n",
    "                    results.append({\"n_shot\": shot, \"vqa_accuracy\": accuracy})\n",
    "                except Exception as e:\n",
    "                    print(f\"Error processing file {res_file}: {e}\")\n",
    "                    results.append({\"n_shot\": shot, \"vqa_accuracy\": None})  # Handle missing data gracefully\n",
    "    \n",
    "            # Create a DataFrame and save it as a CSV file\n",
    "            df = pd.DataFrame(results)\n",
    "            output_csv_path = f\"{output_dir}/textvqa_{model}_{strategy}.csv\"\n",
    "            df.to_csv(output_csv_path, index=False)\n",
    "            print(f\"{output_csv_path}\")\n"
   ]
  },
  {
   "cell_type": "code",
   "execution_count": 16,
   "id": "0b670abd-3ec8-4921-940e-f0a6119fcfd8",
   "metadata": {},
   "outputs": [
    {
     "name": "stdout",
     "output_type": "stream",
     "text": [
      "/home/asureddy_umass_edu/cs682/metrics_results/vqa//textvqa_VILA1.5-3b_random.csv\n",
      "/home/asureddy_umass_edu/cs682/metrics_results/vqa//textvqa_VILA1.5-13b_random.csv\n",
      "/home/asureddy_umass_edu/cs682/metrics_results/vqa//textvqa_VILA1.5-3b_rice.csv\n",
      "/home/asureddy_umass_edu/cs682/metrics_results/vqa//textvqa_VILA1.5-13b_rice.csv\n"
     ]
    }
   ],
   "source": [
    "# Example usage\n",
    "models = ['VILA1.5-3b', 'VILA1.5-13b']\n",
    "strategies = [\"random\", \"rice\"]\n",
    "n_shots = [0, 2, 4, 8]\n",
    "file_template = \"/home/asureddy_umass_edu/cs682/VILA_codes/results/textvqa/{model}_{shot}-shot{strategy_str}.json\"\n",
    "output_dir = \"/home/asureddy_umass_edu/cs682/metrics_results/vqa/\"\n",
    "\n",
    "generate_vqa_accuracy_csv_textvqa(models, n_shots, strategies, file_template, output_dir)"
   ]
  },
  {
   "cell_type": "code",
   "execution_count": null,
   "id": "a4d29644-8c7d-4e47-9c1d-4f4464b55213",
   "metadata": {},
   "outputs": [],
   "source": []
  },
  {
   "cell_type": "code",
   "execution_count": 9,
   "id": "ff020c18-a993-4ff8-a593-4da053e01e9d",
   "metadata": {},
   "outputs": [
    {
     "name": "stdout",
     "output_type": "stream",
     "text": [
      "Random in-context examples\n",
      "n-shot: 0\n",
      "0.06459999999999999\n",
      "n-shot: 2\n",
      "0.4635333333333337\n",
      "n-shot: 4\n",
      "0.4813333333333341\n",
      "n-shot: 8\n",
      "0.49033333333333395\n"
     ]
    }
   ],
   "source": [
    "print(\"Random in-context examples\")\n",
    "n_shots = [0,2,4,8]\n",
    "for shot in n_shots:\n",
    "    print(f\"n-shot: {shot}\")\n",
    "    res_file = f\"/home/asureddy_umass_edu/cs682/VILA_codes/results/textvqa/VILA1.5-3b_{shot}-shot_random-examples.json\"\n",
    "    data = json.load(open(res_file))\n",
    "    outs = [x['output'].lower().strip() for x in data[\"outputs\"]]\n",
    "    refs = [x['references'] for x in data[\"outputs\"]]\n",
    "    print(calculate_vqa_accuracy(outs, refs))"
   ]
  },
  {
   "cell_type": "code",
   "execution_count": 10,
   "id": "7c9cc7a0-0075-4d82-9b78-b554e8ae6f28",
   "metadata": {},
   "outputs": [
    {
     "name": "stdout",
     "output_type": "stream",
     "text": [
      "Random in-context examples\n",
      "n-shot: 0\n",
      "0.4626000000000003\n",
      "n-shot: 2\n",
      "0.5276666666666667\n",
      "n-shot: 4\n",
      "0.5314\n",
      "n-shot: 8\n",
      "0.5280000000000001\n"
     ]
    }
   ],
   "source": [
    "print(\"Random in-context examples\")\n",
    "n_shots = [0,2,4,8]\n",
    "for shot in n_shots:\n",
    "    print(f\"n-shot: {shot}\")\n",
    "    res_file = f\"/home/asureddy_umass_edu/cs682/VILA_codes/results/textvqa/VILA1.5-13b_{shot}-shot_random-examples.json\"\n",
    "    data = json.load(open(res_file))\n",
    "    outs = [x['output'].lower().strip() for x in data[\"outputs\"]]\n",
    "    refs = [x['references'] for x in data[\"outputs\"]]\n",
    "    print(calculate_vqa_accuracy(outs, refs))"
   ]
  },
  {
   "cell_type": "code",
   "execution_count": 12,
   "id": "6971816e-544e-4215-82fa-bc7a82278f43",
   "metadata": {},
   "outputs": [
    {
     "name": "stdout",
     "output_type": "stream",
     "text": [
      "RICE in-context examples\n",
      "n-shot: 0\n",
      "0.06453333333333333\n",
      "n-shot: 2\n",
      "0.3786666666666663\n",
      "n-shot: 4\n",
      "0.41153333333333314\n",
      "n-shot: 8\n",
      "0.4347999999999999\n"
     ]
    }
   ],
   "source": [
    "print(\"RICE in-context examples\")\n",
    "n_shots = [0,2,4,8]\n",
    "for shot in n_shots:\n",
    "    print(f\"n-shot: {shot}\")\n",
    "    res_file = f\"/home/asureddy_umass_edu/cs682/VILA_codes/results/textvqa/VILA1.5-3b_{shot}-shot.json\"\n",
    "    data = json.load(open(res_file))\n",
    "    outs = [x['output'].lower().strip() for x in data[\"outputs\"]]\n",
    "    refs = [x['references'] for x in data[\"outputs\"]]\n",
    "    print(calculate_vqa_accuracy(outs, refs))"
   ]
  },
  {
   "cell_type": "code",
   "execution_count": 13,
   "id": "42467ec3-d13d-4fae-8be1-74d857664ae6",
   "metadata": {},
   "outputs": [
    {
     "name": "stdout",
     "output_type": "stream",
     "text": [
      "RICE in-context examples\n",
      "n-shot: 0\n",
      "0.46400000000000025\n",
      "n-shot: 2\n",
      "0.4458\n",
      "n-shot: 4\n",
      "0.46980000000000016\n",
      "n-shot: 8\n",
      "0.47233333333333377\n"
     ]
    }
   ],
   "source": [
    "print(\"RICE in-context examples\")\n",
    "n_shots = [0,2,4,8]\n",
    "for shot in n_shots:\n",
    "    print(f\"n-shot: {shot}\")\n",
    "    res_file = f\"/home/asureddy_umass_edu/cs682/VILA_codes/results/textvqa/VILA1.5-13b_{shot}-shot.json\"\n",
    "    data = json.load(open(res_file))\n",
    "    outs = [x['output'].lower().strip() for x in data[\"outputs\"]]\n",
    "    refs = [x['references'] for x in data[\"outputs\"]]\n",
    "    print(calculate_vqa_accuracy(outs, refs))"
   ]
  },
  {
   "cell_type": "code",
   "execution_count": null,
   "id": "36edb88c-2939-4eb5-8ba4-48b3cd223e1a",
   "metadata": {},
   "outputs": [],
   "source": []
  }
 ],
 "metadata": {
  "kernelspec": {
   "display_name": "Python 3 (ipykernel)",
   "language": "python",
   "name": "python3"
  },
  "language_info": {
   "codemirror_mode": {
    "name": "ipython",
    "version": 3
   },
   "file_extension": ".py",
   "mimetype": "text/x-python",
   "name": "python",
   "nbconvert_exporter": "python",
   "pygments_lexer": "ipython3",
   "version": "3.9.20"
  }
 },
 "nbformat": 4,
 "nbformat_minor": 5
}
