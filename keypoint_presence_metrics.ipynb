{
 "cells": [
  {
   "cell_type": "code",
   "execution_count": 1,
   "id": "38425587-eeec-4855-8907-15d90e35b110",
   "metadata": {},
   "outputs": [],
   "source": [
    "import json\n"
   ]
  },
  {
   "cell_type": "code",
   "execution_count": 18,
   "id": "f899397b-a15b-48e7-ae11-fc5d727bdf04",
   "metadata": {},
   "outputs": [],
   "source": [
    "filename = \"/home/asureddy_umass_edu/cs682/VILA/results/keypoint/VILA1.5-13b_8-shot.json\"\n",
    "with open(filename,'rb') as f:\n",
    "    data = json.load(f)"
   ]
  },
  {
   "cell_type": "code",
   "execution_count": 21,
   "id": "aa8c6a95-3068-4b31-ad27-726b64325ab2",
   "metadata": {},
   "outputs": [
    {
     "name": "stdout",
     "output_type": "stream",
     "text": [
      "Precision: 0.83\n",
      "Recall: 0.91\n",
      "F1-Score: 0.87\n"
     ]
    }
   ],
   "source": [
    "def compute_precision_recall_fscore(true_positive, false_positive, false_negative):\n",
    "    \"\"\"\n",
    "    Compute precision, recall, and F1-score.\n",
    "\n",
    "    Args:\n",
    "        true_positive (int): Number of true positives.\n",
    "        false_positive (int): Number of false positives.\n",
    "        false_negative (int): Number of false negatives.\n",
    "\n",
    "    Returns:\n",
    "        tuple: (precision, recall, f1_score)\n",
    "    \"\"\"\n",
    "    # Precision: TP / (TP + FP)\n",
    "    precision = true_positive / (true_positive + false_positive) if (true_positive + false_positive) > 0 else 0.0\n",
    "\n",
    "    # Recall: TP / (TP + FN)\n",
    "    recall = true_positive / (true_positive + false_negative) if (true_positive + false_negative) > 0 else 0.0\n",
    "\n",
    "    # F1-Score: 2 * (precision * recall) / (precision + recall)\n",
    "    f1_score = (\n",
    "        2 * (precision * recall) / (precision + recall)\n",
    "        if (precision + recall) > 0\n",
    "        else 0.0\n",
    "    )\n",
    "\n",
    "    return precision, recall, f1_score\n",
    "\n",
    "# Example usage\n",
    "true_positive = 50\n",
    "false_positive = 10\n",
    "false_negative = 5\n",
    "\n",
    "precision, recall, f1_score = compute_precision_recall_fscore(\n",
    "    true_positive, false_positive, false_negative\n",
    ")\n",
    "\n",
    "print(f\"Precision: {precision:.2f}\")\n",
    "print(f\"Recall: {recall:.2f}\")\n",
    "print(f\"F1-Score: {f1_score:.2f}\")\n"
   ]
  },
  {
   "cell_type": "code",
   "execution_count": 27,
   "id": "7f9f2720-bc4f-4260-a71a-a3248be5cffd",
   "metadata": {},
   "outputs": [],
   "source": [
    "def compute_kpp_scores(data_file):\n",
    "    with open(data_file,'rb') as f:\n",
    "        data = json.load(f)\n",
    "    vis = [x['output'].strip().lower() for x in data[\"yes\"]]\n",
    "    not_vis = [x['output'].strip().lower() for x in data[\"no\"]]\n",
    "    tp = sum([1 for x in vis if x==\"visible\"])\n",
    "    fn = len(vis)-tp\n",
    "    tn = sum([1 for x in not_vis if x==\"not visible\"])\n",
    "    fp = len(vis)-tn\n",
    "    p,r,f = compute_precision_recall_fscore(tp,fp,fn)\n",
    "    return {\n",
    "        \"precision\": p,\n",
    "        \"recall\": r,\n",
    "        \"f-score\": f\n",
    "    }"
   ]
  },
  {
   "cell_type": "code",
   "execution_count": 28,
   "id": "ba2fbc13-347d-42b2-b7ad-05b3586d3979",
   "metadata": {},
   "outputs": [
    {
     "data": {
      "text/plain": [
       "{'precision': 0.41331658291457285,\n",
       " 'recall': 0.491044776119403,\n",
       " 'f-score': 0.4488403819918145}"
      ]
     },
     "execution_count": 28,
     "metadata": {},
     "output_type": "execute_result"
    }
   ],
   "source": [
    "compute_kpp_scores(filename)"
   ]
  },
  {
   "cell_type": "code",
   "execution_count": 29,
   "id": "5dfa5cf2-60e7-4032-aebb-7d5c9a95cfb1",
   "metadata": {},
   "outputs": [
    {
     "name": "stdout",
     "output_type": "stream",
     "text": [
      "Metrics for a 3B model\n",
      "n-shots: 0\n",
      "{'precision': 0.0, 'recall': 0.0, 'f-score': 0.0}\n",
      "n-shots: 2\n",
      "{'precision': 0.0, 'recall': 0.0, 'f-score': 0.0}\n",
      "n-shots: 4\n",
      "{'precision': 0.0, 'recall': 0.0, 'f-score': 0.0}\n",
      "n-shots: 8\n",
      "{'precision': 0.0, 'recall': 0.0, 'f-score': 0.0}\n"
     ]
    }
   ],
   "source": [
    "print(\"Metrics for a 3B model\")\n",
    "n_shots = [0,2,4,8]\n",
    "for shot in n_shots:\n",
    "    print(f\"n-shots: {shot}\")\n",
    "    f_name = f\"/home/asureddy_umass_edu/cs682/VILA/results/keypoint/VILA1.5-3b_{shot}-shot.json\"\n",
    "    print(compute_kpp_scores(f_name))"
   ]
  },
  {
   "cell_type": "code",
   "execution_count": 30,
   "id": "040a6550-b1c3-4770-827f-33e1a6e604de",
   "metadata": {},
   "outputs": [
    {
     "name": "stdout",
     "output_type": "stream",
     "text": [
      "Metrics for a 13B model\n",
      "n-shots: 0\n",
      "{'precision': 0.1783876500857633, 'recall': 0.15522388059701492, 'f-score': 0.16600159616919394}\n",
      "n-shots: 2\n",
      "{'precision': 0.16304347826086957, 'recall': 0.08955223880597014, 'f-score': 0.11560693641618498}\n",
      "n-shots: 4\n",
      "{'precision': 0.1309192200557103, 'recall': 0.07014925373134329, 'f-score': 0.0913508260447036}\n",
      "n-shots: 8\n",
      "{'precision': 0.41331658291457285, 'recall': 0.491044776119403, 'f-score': 0.4488403819918145}\n"
     ]
    }
   ],
   "source": [
    "print(\"Metrics for a 13B model\")\n",
    "n_shots = [0,2,4,8]\n",
    "for shot in n_shots:\n",
    "    print(f\"n-shots: {shot}\")\n",
    "    f_name = f\"/home/asureddy_umass_edu/cs682/VILA/results/keypoint/VILA1.5-13b_{shot}-shot.json\"\n",
    "    print(compute_kpp_scores(f_name))"
   ]
  },
  {
   "cell_type": "code",
   "execution_count": null,
   "id": "eeaa1435-ed46-4e54-bf1c-ef8c47ae5262",
   "metadata": {},
   "outputs": [],
   "source": []
  }
 ],
 "metadata": {
  "kernelspec": {
   "display_name": "Python 3 (ipykernel)",
   "language": "python",
   "name": "python3"
  },
  "language_info": {
   "codemirror_mode": {
    "name": "ipython",
    "version": 3
   },
   "file_extension": ".py",
   "mimetype": "text/x-python",
   "name": "python",
   "nbconvert_exporter": "python",
   "pygments_lexer": "ipython3",
   "version": "3.10.15"
  }
 },
 "nbformat": 4,
 "nbformat_minor": 5
}
