{
 "cells": [
  {
   "cell_type": "code",
   "execution_count": 1,
   "id": "38425587-eeec-4855-8907-15d90e35b110",
   "metadata": {},
   "outputs": [],
   "source": [
    "import json\n",
    "import pandas as pd"
   ]
  },
  {
   "cell_type": "code",
   "execution_count": 2,
   "id": "f899397b-a15b-48e7-ae11-fc5d727bdf04",
   "metadata": {},
   "outputs": [],
   "source": [
    "filename = \"/home/asureddy_umass_edu/cs682/VILA/results/keypoint/VILA1.5-13b_8-shot.json\"\n",
    "with open(filename,'rb') as f:\n",
    "    data = json.load(f)"
   ]
  },
  {
   "cell_type": "code",
   "execution_count": 2,
   "id": "aa8c6a95-3068-4b31-ad27-726b64325ab2",
   "metadata": {},
   "outputs": [
    {
     "name": "stdout",
     "output_type": "stream",
     "text": [
      "Precision: 0.83\n",
      "Recall: 0.91\n",
      "F1-Score: 0.87\n"
     ]
    }
   ],
   "source": [
    "def compute_precision_recall_fscore(true_positive, false_positive, false_negative):\n",
    "    \"\"\"\n",
    "    Compute precision, recall, and F1-score.\n",
    "\n",
    "    Args:\n",
    "        true_positive (int): Number of true positives.\n",
    "        false_positive (int): Number of false positives.\n",
    "        false_negative (int): Number of false negatives.\n",
    "\n",
    "    Returns:\n",
    "        tuple: (precision, recall, f1_score)\n",
    "    \"\"\"\n",
    "    # Precision: TP / (TP + FP)\n",
    "    precision = true_positive / (true_positive + false_positive) if (true_positive + false_positive) > 0 else 0.0\n",
    "\n",
    "    # Recall: TP / (TP + FN)\n",
    "    recall = true_positive / (true_positive + false_negative) if (true_positive + false_negative) > 0 else 0.0\n",
    "\n",
    "    # F1-Score: 2 * (precision * recall) / (precision + recall)\n",
    "    f1_score = (\n",
    "        2 * (precision * recall) / (precision + recall)\n",
    "        if (precision + recall) > 0\n",
    "        else 0.0\n",
    "    )\n",
    "\n",
    "    return precision, recall, f1_score\n",
    "\n",
    "# Example usage\n",
    "true_positive = 50\n",
    "false_positive = 10\n",
    "false_negative = 5\n",
    "\n",
    "precision, recall, f1_score = compute_precision_recall_fscore(\n",
    "    true_positive, false_positive, false_negative\n",
    ")\n",
    "\n",
    "print(f\"Precision: {precision:.2f}\")\n",
    "print(f\"Recall: {recall:.2f}\")\n",
    "print(f\"F1-Score: {f1_score:.2f}\")\n"
   ]
  },
  {
   "cell_type": "code",
   "execution_count": 3,
   "id": "7f9f2720-bc4f-4260-a71a-a3248be5cffd",
   "metadata": {},
   "outputs": [],
   "source": [
    "def compute_kpp_scores(data_file):\n",
    "    with open(data_file,'rb') as f:\n",
    "        data = json.load(f)\n",
    "    vis = [x['output'].strip().lower() for x in data[\"yes\"]]\n",
    "    not_vis = [x['output'].strip().lower() for x in data[\"no\"]]\n",
    "    tp = sum([1 for x in vis if x==\"visible\"])\n",
    "    fn = len(vis)-tp\n",
    "    tn = sum([1 for x in not_vis if x==\"not visible\"])\n",
    "    fp = len(vis)-tn\n",
    "    p,r,f = compute_precision_recall_fscore(tp,fp,fn)\n",
    "    a = (tp+tn)/(fp+fn)\n",
    "    return {\n",
    "        \"precision\": p,\n",
    "        \"recall\": r,\n",
    "        \"f-score\": f,\n",
    "        \"accuracy\": a\n",
    "    }"
   ]
  },
  {
   "cell_type": "code",
   "execution_count": 5,
   "id": "ba2fbc13-347d-42b2-b7ad-05b3586d3979",
   "metadata": {},
   "outputs": [
    {
     "data": {
      "text/plain": [
       "{'precision': 0.41331658291457285,\n",
       " 'recall': 0.491044776119403,\n",
       " 'f-score': 0.4488403819918145,\n",
       " 'accuracy': 0.6584158415841584}"
      ]
     },
     "execution_count": 5,
     "metadata": {},
     "output_type": "execute_result"
    }
   ],
   "source": [
    "compute_kpp_scores(filename)"
   ]
  },
  {
   "cell_type": "markdown",
   "id": "71ae5fd6-43f4-420c-8148-b682610641e1",
   "metadata": {},
   "source": [
    "### Generating Csvs"
   ]
  },
  {
   "cell_type": "code",
   "execution_count": 4,
   "id": "d129b8e4-18ea-4e8c-89e6-ed543218b0aa",
   "metadata": {},
   "outputs": [],
   "source": [
    "def generate_keypoint_metrics_csv(res_file_template, n_shots, output_csv_path):\n",
    "    # Initialize a list to store results\n",
    "    results = []\n",
    "\n",
    "    # Iterate through the number of shots and calculate metrics\n",
    "    for n in n_shots:\n",
    "        res_file = res_file_template.format(n_shots=n)\n",
    "        metrics = compute_kpp_scores(res_file)\n",
    "        metrics['n_shots'] = n\n",
    "        results.append(metrics)\n",
    "\n",
    "    # Create a pandas DataFrame from the results\n",
    "    df = pd.DataFrame(results)\n",
    "\n",
    "    # Save the results to a CSV file\n",
    "    df.to_csv(output_csv_path, index=False)\n",
    "\n",
    "    print(f\"Results saved to {output_csv_path}\")\n"
   ]
  },
  {
   "cell_type": "code",
   "execution_count": 5,
   "id": "4ba16300-158c-40d3-af47-42a7fb85ae6b",
   "metadata": {},
   "outputs": [],
   "source": [
    "# fixed params\n",
    "n_shots = [0, 2, 4, 8]\n",
    "model_names = [\"VILA1.5-3b\", \"VILA1.5-13b\"]\n",
    "strategy_names = [\"random\"]\n",
    "dataset_names = [\"coco\"]"
   ]
  },
  {
   "cell_type": "code",
   "execution_count": 6,
   "id": "fc93ffc9-ccc8-4eae-8d23-1b9bb2e7e84a",
   "metadata": {},
   "outputs": [
    {
     "name": "stdout",
     "output_type": "stream",
     "text": [
      "Results saved to /home/asureddy_umass_edu/cs682/metrics_results/keypoint_presence/coco_VILA1.5-3b_random.csv\n",
      "Results saved to /home/asureddy_umass_edu/cs682/metrics_results/keypoint_presence/coco_VILA1.5-13b_random.csv\n"
     ]
    }
   ],
   "source": [
    "# Parameters\n",
    "for dataset_name in dataset_names:\n",
    "    for model_name in model_names:\n",
    "        for strategy in strategy_names:\n",
    "            if dataset_name==\"coco\":\n",
    "                dataset_str = \"/home/asureddy_umass_edu/cs682/VILA_codes/results/keypoint/\"\n",
    "            \n",
    "            res_file_template = dataset_str+str(model_name)+\"_{n_shots}-shot.json\"\n",
    "            op_path = f\"/home/asureddy_umass_edu/cs682/metrics_results/keypoint_presence/{dataset_name}_{model_name}_{strategy}.csv\"\n",
    "            generate_keypoint_metrics_csv(res_file_template, n_shots, op_path)\n"
   ]
  },
  {
   "cell_type": "code",
   "execution_count": null,
   "id": "ce0089d6-e0b2-4d9d-a329-e7e4f6b6eaf9",
   "metadata": {},
   "outputs": [],
   "source": []
  },
  {
   "cell_type": "markdown",
   "id": "d05f3dc4-edf8-4571-922b-b2c355b04bdd",
   "metadata": {},
   "source": [
    "### Visually"
   ]
  },
  {
   "cell_type": "code",
   "execution_count": 6,
   "id": "5dfa5cf2-60e7-4032-aebb-7d5c9a95cfb1",
   "metadata": {},
   "outputs": [
    {
     "name": "stdout",
     "output_type": "stream",
     "text": [
      "Metrics for a 3B model\n",
      "n-shots: 0\n",
      "{'precision': 0.0, 'recall': 0.0, 'f-score': 0.0, 'accuracy': 0.0}\n",
      "n-shots: 2\n",
      "{'precision': 0.0, 'recall': 0.0, 'f-score': 0.0, 'accuracy': 0.3604060913705584}\n",
      "n-shots: 4\n",
      "{'precision': 0.0, 'recall': 0.0, 'f-score': 0.0, 'accuracy': 0.027607361963190184}\n",
      "n-shots: 8\n",
      "{'precision': 0.0, 'recall': 0.0, 'f-score': 0.0, 'accuracy': 0.006006006006006006}\n"
     ]
    }
   ],
   "source": [
    "print(\"Metrics for a 3B model\")\n",
    "n_shots = [0,2,4,8]\n",
    "for shot in n_shots:\n",
    "    print(f\"n-shots: {shot}\")\n",
    "    f_name = f\"/home/asureddy_umass_edu/cs682/VILA/results/keypoint/VILA1.5-3b_{shot}-shot.json\"\n",
    "    print(compute_kpp_scores(f_name))"
   ]
  },
  {
   "cell_type": "code",
   "execution_count": 7,
   "id": "040a6550-b1c3-4770-827f-33e1a6e604de",
   "metadata": {},
   "outputs": [
    {
     "name": "stdout",
     "output_type": "stream",
     "text": [
      "Metrics for a 13B model\n",
      "n-shots: 0\n",
      "{'precision': 0.1783876500857633, 'recall': 0.15522388059701492, 'f-score': 0.16600159616919394, 'accuracy': 0.2822966507177033}\n",
      "n-shots: 2\n",
      "{'precision': 0.16304347826086957, 'recall': 0.08955223880597014, 'f-score': 0.11560693641618498, 'accuracy': 0.4596949891067538}\n",
      "n-shots: 4\n",
      "{'precision': 0.1309192200557103, 'recall': 0.07014925373134329, 'f-score': 0.0913508260447036, 'accuracy': 0.43315508021390375}\n",
      "n-shots: 8\n",
      "{'precision': 0.41331658291457285, 'recall': 0.491044776119403, 'f-score': 0.4488403819918145, 'accuracy': 0.6584158415841584}\n"
     ]
    }
   ],
   "source": [
    "print(\"Metrics for a 13B model\")\n",
    "n_shots = [0,2,4,8]\n",
    "for shot in n_shots:\n",
    "    print(f\"n-shots: {shot}\")\n",
    "    f_name = f\"/home/asureddy_umass_edu/cs682/VILA/results/keypoint/VILA1.5-13b_{shot}-shot.json\"\n",
    "    print(compute_kpp_scores(f_name))"
   ]
  },
  {
   "cell_type": "code",
   "execution_count": null,
   "id": "eeaa1435-ed46-4e54-bf1c-ef8c47ae5262",
   "metadata": {},
   "outputs": [],
   "source": []
  }
 ],
 "metadata": {
  "kernelspec": {
   "display_name": "open-flamingo",
   "language": "python",
   "name": "python3"
  },
  "language_info": {
   "codemirror_mode": {
    "name": "ipython",
    "version": 3
   },
   "file_extension": ".py",
   "mimetype": "text/x-python",
   "name": "python",
   "nbconvert_exporter": "python",
   "pygments_lexer": "ipython3",
   "version": "3.9.20"
  }
 },
 "nbformat": 4,
 "nbformat_minor": 5
}
